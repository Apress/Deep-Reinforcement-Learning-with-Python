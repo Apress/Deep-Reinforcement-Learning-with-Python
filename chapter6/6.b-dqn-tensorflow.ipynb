{
 "cells": [
  {
   "cell_type": "markdown",
   "metadata": {},
   "source": [
    "# Deep Q-Network implementation (TensorFlow).\n",
    "\n",
    "In this notebook, we will implement DQN with **experience replay** and **target networks**. Previous notebook had code in PyTorch and this notebook will replicate most of the same code using Tensorflow library.\n",
    "\n",
    "Q Learning control is carried out by sampling step by step and updating Q values at each step. We use $\\epsilon$-greedy policy to explore and generate samples. However, the policy learnt is a deterministic greedy policy with no exploration. We can carryout updates online i.e. we take a step and use `(current state, action, reward and next_state)` tuple to update.\n",
    "\n",
    "In case of function approximation using neural network, the input to the network is the state and output is the $q(s,a)$ for all the actions in the state $s$. It is denoted as $ \\hat{q}(s_t, a_t; w_{t}) $, where $w_{t}$ is the weigths of the neural network that we learn as part of DQN learning.\n",
    "\n",
    "We use two networks, one target network with weight $w^-_t$ to get the max $q$-value of next state with best action denoted by $ \\max\\limits_a \\hat {q}(S_{t+1},a; w^{-}_{t}) $ and network with weights $w_t^-$ which we periodically updated from primary network $w_t$.\n",
    "\n",
    "The Update equation is given below. This is the online version:\n",
    "$$ w_{t+1} \\leftarrow w_t + \\alpha [ R_{t+1} + \\gamma . \\max_{a} \\hat{q}(S_{t+1},a;w^{-}_{t}) – \\hat{q}(S_t,A_t;w_t)] \\nabla \\hat{q}_{w_t}(S_t,A_t;w_t)$$\n",
    "\n",
    "Online update with neural network with millions of weights does not work well. Accordingly, We use experience replay (aka Replay Buffer).  We use a behavior policy to explore the environment and store the samples `(s, a, r, s', done)` in a buffer. The samples are generated using an exploratory behavior policy while we improve a deterministic target policy using q-values.\n",
    "\n",
    "Therefore, we can always use older samples from behavior policy and apply them again and again. We can keep the buffer size fixed to some pre-determined size and keep deleting the older samples as we collect new ones. This process makes learning sample efficient by reusing a sample multiple times and also removing temporal dependence of the samples we would otherwise see while following a trajectory.\n",
    "\n",
    "The update equation with batch update with minor modifications is given below. We collect samples of transitions `(current state, action, reward, next state)` in a buffer, where each sample is denoted as a tuple:\n",
    "\n",
    "$$ (s_{i}, a_{i}, r_{i}, s'_{i}, done_{i})$$\n",
    "\n",
    "Subscript ($i$) denotes ith sample. We take $N$ samples from experience replay selecting randomly and update the weights. Subscript ($t$) denotes the index of weight updates. If the current state is done, as denoted by `done` flag, the target is just the reward as terminal states have zero value. The final update equation is as given below:\n",
    "\n",
    "$$w_{t+1} \\leftarrow w_t + \\alpha \\frac{1}{N} \\sum_{i=1}^{N} \\left[ r_i + \\left( (1-done_i) . \\gamma .  \\max_{a'} \\hat{q}(s'_{i},a';w^{-}_{t}) \\right) – \\hat{q}(s_i,a_i;w_t) \\right] \\nabla \\hat{q}(s_i,a_i;w_t)$$\n"
   ]
  },
  {
   "cell_type": "markdown",
   "metadata": {},
   "source": [
    "#### Running in Colab/Kaggle\n",
    "\n",
    "If you are running this on Colab, please uncomment below cells and run this to install required dependencies."
   ]
  },
  {
   "cell_type": "code",
   "execution_count": null,
   "metadata": {},
   "outputs": [],
   "source": [
    "## uncomment and execute this cell to install all the the dependencies if running in Google Colab or Kaggle\n",
    "# !apt-get update \n",
    "# !apt-get install -y swig cmake ffmpeg freeglut3-dev xvfb"
   ]
  },
  {
   "cell_type": "code",
   "execution_count": null,
   "metadata": {},
   "outputs": [],
   "source": [
    "## Uncomment and execute this cell to install all the the dependencies if running in Google Colab or Kaggle\n",
    "\n",
    "## Uncomment and run for Colab\n",
    "# !git clone https://github.com/nsanghi/drl-2ed\n",
    "# %cd /content/drl-2ed \n",
    "# !pip install  -r requirements.txt\n",
    "# %cd chapter6\n",
    "\n",
    "\n",
    "## Uncomment and run for Kaggle\n",
    "# !git clone https://github.com/nsanghi/drl-2ed\n",
    "# %cd /kaggle/working/drl-2ed \n",
    "# !pip install  -r requirements.txt\n",
    "# %cd chapter6"
   ]
  },
  {
   "cell_type": "code",
   "execution_count": null,
   "metadata": {},
   "outputs": [],
   "source": [
    "## Uncomment and Rerun the cd command in case you were asked to restart the kernel and you followed that message\n",
    "## as after resart the kernel will again point back to root folder\n",
    "\n",
    "\n",
    "## Uncomment and run for Colab\n",
    "# %cd /content/drl-2ed \n",
    "# %cd chapter6\n",
    "\n",
    "\n",
    "## Uncomment and run for Kaggle\n",
    "# %cd /kaggle/working/drl-2ed \n",
    "# %cd chapter6"
   ]
  },
  {
   "cell_type": "markdown",
   "metadata": {},
   "source": [
    "### Imports"
   ]
  },
  {
   "cell_type": "code",
   "execution_count": 1,
   "metadata": {},
   "outputs": [
    {
     "name": "stderr",
     "output_type": "stream",
     "text": [
      "2023-11-05 06:01:59.205661: I tensorflow/core/util/port.cc:111] oneDNN custom operations are on. You may see slightly different numerical results due to floating-point round-off errors from different computation orders. To turn them off, set the environment variable `TF_ENABLE_ONEDNN_OPTS=0`.\n",
      "2023-11-05 06:01:59.259383: E tensorflow/compiler/xla/stream_executor/cuda/cuda_dnn.cc:9342] Unable to register cuDNN factory: Attempting to register factory for plugin cuDNN when one has already been registered\n",
      "2023-11-05 06:01:59.259426: E tensorflow/compiler/xla/stream_executor/cuda/cuda_fft.cc:609] Unable to register cuFFT factory: Attempting to register factory for plugin cuFFT when one has already been registered\n",
      "2023-11-05 06:01:59.259447: E tensorflow/compiler/xla/stream_executor/cuda/cuda_blas.cc:1518] Unable to register cuBLAS factory: Attempting to register factory for plugin cuBLAS when one has already been registered\n",
      "2023-11-05 06:01:59.268089: I tensorflow/core/platform/cpu_feature_guard.cc:182] This TensorFlow binary is optimized to use available CPU instructions in performance-critical operations.\n",
      "To enable the following instructions: AVX2 AVX_VNNI FMA, in other operations, rebuild TensorFlow with the appropriate compiler flags.\n",
      "2023-11-05 06:02:00.731166: W tensorflow/compiler/tf2tensorrt/utils/py_utils.cc:38] TF-TRT Warning: Could not find TensorRT\n"
     ]
    }
   ],
   "source": [
    "import random\n",
    "import numpy as np\n",
    "import tensorflow as tf\n",
    "from tensorflow.keras.layers import Dense, Flatten\n",
    "from tensorflow.keras import Model\n",
    "import gymnasium as gym\n",
    "import matplotlib.pyplot as plt\n",
    "from scipy.signal import convolve, gaussian\n",
    "from stable_baselines3.common.vec_env import VecVideoRecorder, DummyVecEnv\n",
    "from base64 import b64encode\n",
    "\n",
    "from IPython.display import HTML\n",
    "\n",
    "%matplotlib inline"
   ]
  },
  {
   "cell_type": "markdown",
   "metadata": {},
   "source": [
    "### Environment - CartPole \n",
    "\n",
    "We can use the setup here to run on any environment which has state as a single vector and actions are discrete. We will build it on Cart Pole. In another notebook we will run this on other environments like Atari games and a few others."
   ]
  },
  {
   "cell_type": "code",
   "execution_count": 2,
   "metadata": {},
   "outputs": [],
   "source": [
    "def make_env(env_name):\n",
    "    # increase time limit from 200/500 to 4000\n",
    "    env = gym.make(env_name, render_mode=\"rgb_array\", max_episode_steps=4000)\n",
    "    return env"
   ]
  },
  {
   "cell_type": "code",
   "execution_count": 9,
   "metadata": {},
   "outputs": [
    {
     "name": "stdout",
     "output_type": "stream",
     "text": [
      "state shape:(4,)\n",
      "Number of Actions:2\n"
     ]
    },
    {
     "data": {
      "image/png": "[encoded data removed]",
      "text/plain": [
       "<Figure size 640x480 with 1 Axes>"
      ]
     },
     "metadata": {},
     "output_type": "display_data"
    }
   ],
   "source": [
    "env_name = 'CartPole-v1'\n",
    "seed=123\n",
    "\n",
    "env = make_env(env_name)\n",
    "env.reset(seed=seed)\n",
    "plt.imshow(env.render())\n",
    "state_shape, n_actions = env.observation_space.shape, env.action_space.n\n",
    "print(f\"state shape:{state_shape}\\nNumber of Actions:{n_actions}\")"
   ]
  },
  {
   "cell_type": "markdown",
   "metadata": {},
   "source": [
    "### Building a network using tensorflow"
   ]
  },
  {
   "cell_type": "markdown",
   "metadata": {},
   "source": [
    "Let us build a DQN agent using a simple network. We now need to build a neural network that can map states/observations to state q-values. The observation space and action space is as given below for CartPole\n",
    "\n",
    "    Observation:\n",
    "        Type: Box(4)\n",
    "        Num     Observation               Min                     Max\n",
    "        0       Cart Position             -4.8                    4.8\n",
    "        1       Cart Velocity             -Inf                    Inf\n",
    "        2       Pole Angle                -0.418 rad (-24 deg)    0.418 rad (24 deg)\n",
    "        3       Pole Angular Velocity     -Inf                    Inf\n",
    "    Actions:\n",
    "        Type: Discrete(2)\n",
    "        Num   Action\n",
    "        0     Push cart to the left\n",
    "        1     Push cart to the right\n",
    "        \n",
    "\n",
    "The model will be a simple one with 2 hidden layers with Relu activation and final layer being logits with dimension equal to number of actions. "
   ]
  },
  {
   "cell_type": "code",
   "execution_count": 4,
   "metadata": {},
   "outputs": [],
   "source": [
    "class DQNAgent:\n",
    "    def __init__(self, state_shape, n_actions, epsilon=0):\n",
    "        self.epsilon = epsilon\n",
    "        self.n_actions = n_actions\n",
    "        self.state_shape = state_shape\n",
    "\n",
    "        state_dim = state_shape[0]\n",
    "        self.model = tf.keras.models.Sequential()\n",
    "        self.model.add(tf.keras.Input(shape=(state_dim,)))\n",
    "        self.model.add(tf.keras.layers.Dense(256, activation='relu'))\n",
    "        self.model.add(tf.keras.layers.Dense(256, activation='relu'))\n",
    "        self.model.add(tf.keras.layers.Dense(n_actions))\n",
    "    \n",
    "    def __call__(self, state_t):\n",
    "        # pass the state at time t through the newrok to get Q(s,a)\n",
    "        qvalues = self.model(state_t)\n",
    "        return qvalues\n",
    "\n",
    "    def get_qvalues(self, states):\n",
    "        # input is an array of states in numpy and outout is Qvals as numpy array\n",
    "        qvalues = self.model(states)\n",
    "        return qvalues.numpy()\n",
    "\n",
    "    def sample_actions(self, qvalues):\n",
    "        # sample actions from a batch of q_values using epsilon greedy policy\n",
    "        epsilon = self.epsilon\n",
    "        batch_size, n_actions = qvalues.shape\n",
    "        random_actions = np.random.choice(n_actions, size=batch_size)\n",
    "        best_actions = qvalues.argmax(axis=-1)\n",
    "        should_explore = np.random.choice(\n",
    "            [0, 1], batch_size, p=[1-epsilon, epsilon])\n",
    "        return np.where(should_explore, random_actions, best_actions)"
   ]
  },
  {
   "cell_type": "code",
   "execution_count": 5,
   "metadata": {},
   "outputs": [],
   "source": [
    "agent = DQNAgent(state_shape, n_actions, epsilon=0.5)"
   ]
  },
  {
   "cell_type": "code",
   "execution_count": 6,
   "metadata": {},
   "outputs": [
    {
     "name": "stdout",
     "output_type": "stream",
     "text": [
      "Model: \"sequential\"\n",
      "_________________________________________________________________\n",
      " Layer (type)                Output Shape              Param #   \n",
      "=================================================================\n",
      " dense (Dense)               (None, 256)               1280      \n",
      "                                                                 \n",
      " dense_1 (Dense)             (None, 256)               65792     \n",
      "                                                                 \n",
      " dense_2 (Dense)             (None, 2)                 514       \n",
      "                                                                 \n",
      "=================================================================\n",
      "Total params: 67586 (264.01 KB)\n",
      "Trainable params: 67586 (264.01 KB)\n",
      "Non-trainable params: 0 (0.00 Byte)\n",
      "_________________________________________________________________\n"
     ]
    }
   ],
   "source": [
    "agent.model.summary()"
   ]
  },
  {
   "cell_type": "code",
   "execution_count": 7,
   "metadata": {},
   "outputs": [],
   "source": [
    "def evaluate(env, agent, n_games=1, greedy=False, t_max=10000):\n",
    "    rewards = []\n",
    "    for _ in range(n_games):\n",
    "        s, _ = env.reset()\n",
    "        reward = 0\n",
    "        for _ in range(t_max):\n",
    "            qvalues = agent.get_qvalues(np.array([s]))\n",
    "            action = qvalues.argmax(axis=-1)[0] if greedy else agent.sample_actions(qvalues)[0]\n",
    "            s, r, terminated, truncated, _ = env.step(action)\n",
    "            reward += r\n",
    "            if terminated:\n",
    "                break\n",
    "\n",
    "        rewards.append(reward)\n",
    "    return np.mean(rewards)"
   ]
  },
  {
   "cell_type": "code",
   "execution_count": 10,
   "metadata": {},
   "outputs": [
    {
     "name": "stdout",
     "output_type": "stream",
     "text": [
      "16.0\n"
     ]
    }
   ],
   "source": [
    "print(evaluate(env, agent, n_games=1))\n",
    "env.close()"
   ]
  },
  {
   "cell_type": "markdown",
   "metadata": {},
   "source": [
    "### Experience replay\n",
    "\n",
    "We will use the replay buffer we saw in chapter 4 listings. Replay buffer is very important in DQN to break the correlation between samples. We use a behavior policy ($\\epsilon$-greedy) to sample from the environment and store the transitions `(s,a,r,s',done)` into a buffer. These samples are used multiple times in a learning making the process sample efficient.\n",
    "\n",
    "The interface to ReplayBuffer is:\n",
    "* `exp_replay.add(state, action, reward, next_state, done)` - saves (s,a,r,s',done) tuple into the buffer\n",
    "* `exp_replay.sample(batch_size)` - returns states, actions, rewards, next_states and done_flags for `batch_size` random samples.\n",
    "* `len(exp_replay)` - returns number of elements stored in replay buffer.\n",
    "\n",
    "We have modified the implementation a bit to make it more efficient"
   ]
  },
  {
   "cell_type": "code",
   "execution_count": 11,
   "metadata": {},
   "outputs": [],
   "source": [
    "class ReplayBuffer:\n",
    "    def __init__(self, size):\n",
    "        self.size = size #max number of items in buffer\n",
    "        self.buffer =[] #array to holde buffer\n",
    "        self.next_id = 0\n",
    "    \n",
    "    def __len__(self):\n",
    "        return len(self.buffer)\n",
    "    \n",
    "    def add(self, state, action, reward, next_state, done):\n",
    "        item = (state, action, reward, next_state, done)\n",
    "        if len(self.buffer) < self.size:\n",
    "           self.buffer.append(item)\n",
    "        else:\n",
    "            self.buffer[self.next_id] = item\n",
    "        self.next_id = (self.next_id + 1) % self.size\n",
    "        \n",
    "    def sample(self, batch_size):\n",
    "        idxs = np.random.choice(len(self.buffer), batch_size)\n",
    "        samples = [self.buffer[i] for i in idxs]\n",
    "        states, actions, rewards, next_states, done_flags = list(zip(*samples))\n",
    "        return np.array(states), np.array(actions), np.array(rewards), np.array(next_states), np.array(done_flags)"
   ]
  },
  {
   "cell_type": "code",
   "execution_count": 31,
   "metadata": {},
   "outputs": [],
   "source": [
    "def play_and_record(start_state, agent, env, exp_replay, n_steps=1):\n",
    "\n",
    "    s = start_state\n",
    "    sum_rewards = 0\n",
    "\n",
    "    # Play the game for n_steps and record transitions in buffer\n",
    "    for _ in range(n_steps):\n",
    "        qvalues = agent.get_qvalues(np.array([s]))\n",
    "        a = agent.sample_actions(qvalues)[0]        \n",
    "        next_s, r, terminated, truncated, _ = env.step(a)\n",
    "        sum_rewards += r\n",
    "        done = terminated or truncated\n",
    "        exp_replay.add(s, a, r, next_s, done)\n",
    "        if terminated:\n",
    "            s, _ = env.reset()\n",
    "        else:\n",
    "            s = next_s\n",
    "        \n",
    "    return sum_rewards, s"
   ]
  },
  {
   "cell_type": "markdown",
   "metadata": {},
   "source": [
    "### Target network\n"
   ]
  },
  {
   "cell_type": "code",
   "execution_count": 13,
   "metadata": {},
   "outputs": [],
   "source": [
    "target_network = DQNAgent(agent.state_shape, agent.n_actions, epsilon=0.5)\n",
    "target_network.model.set_weights(agent.model.get_weights())"
   ]
  },
  {
   "cell_type": "markdown",
   "metadata": {},
   "source": [
    "### Learning with DQN\n",
    "Here we write a function similar to tabular q-learning. We will calculate average TD error per batch using the equation:\n",
    "\n",
    "$$ L =  \\frac{1}{N} \\sum_{i=1}^{N} \\left[ r_i + \\left( (1-done_i) . \\gamma .  \\max_{a'} \\hat{q}(s'_i,a';w^-_t) \\right) – \\hat{q}_{w_t}(s_i,a_i;w_t) \\right]^2$$\n",
    "\n",
    "\n",
    "$$ \\nabla_{w_t} L =   - \\frac{1}{N} \\sum_{i=1}^{N} \\left[ r_i + \\left( (1-done_i) . \\gamma .  \\max_{a'} \\hat{q}(s'_i,a';w^-_t) \\right) – \\hat{q}(s_i,a_i;w_t) \\right] \\nabla \\hat{q}_{w_t}(s_i,a_i;w_t)$$\n",
    "\n",
    "\n",
    "$\\hat{q}(s',a';w^{-})$ is calculated using target network whose weights are held constant and refreshed periodically from the agent learning network.\n",
    "\n",
    "Target is given by following:\n",
    "* non terminal state: $r_i +  \\gamma .  \\max\\limits_{a'} \\hat{q}(s'_i,a';w^-_t)$\n",
    "* terminal state: $ r_i $\n",
    "\n",
    "We then carryout back propagation through the agent network to update the weights using equation below:\n",
    "\n",
    "\n",
    "$$\n",
    "w_{t+1} \\leftarrow w_t - \\alpha . \\nabla_{w_t}L$$"
   ]
  },
  {
   "cell_type": "code",
   "execution_count": 14,
   "metadata": {},
   "outputs": [],
   "source": [
    "def compute_td_loss(agent, target_network, states, actions, rewards, next_states, done_flags,\n",
    "                    gamma=0.99):\n",
    "\n",
    "    # get q-values for all actions in current states\n",
    "    # use agent network\n",
    "    predicted_qvalues = agent(states)\n",
    "\n",
    "    # compute q-values for all actions in next states\n",
    "    # use target network\n",
    "    predicted_next_qvalues = target_network(next_states)\n",
    "    \n",
    "    # select q-values for chosen actions\n",
    "    row_indices= tf.range(len(actions))\n",
    "    indices = tf.transpose([row_indices, actions])\n",
    "    predicted_qvalues_for_actions = tf.gather_nd(predicted_qvalues, indices)\n",
    "    \n",
    "\n",
    "    # compute Qmax(next_states, actions) using predicted next q-values\n",
    "    next_state_values = tf.reduce_max(predicted_next_qvalues, axis=1)\n",
    "\n",
    "    # compute \"target q-values\" \n",
    "    target_qvalues_for_actions = rewards + gamma * next_state_values * (1-done_flags)\n",
    "\n",
    "    # mean squared error loss to minimize\n",
    "    loss = tf.keras.losses.MSE(target_qvalues_for_actions, predicted_qvalues_for_actions)\n",
    "\n",
    "    return loss"
   ]
  },
  {
   "cell_type": "markdown",
   "metadata": {},
   "source": [
    "### Main loop\n",
    "\n",
    "We now carryout the training on DQN setup above."
   ]
  },
  {
   "cell_type": "code",
   "execution_count": 15,
   "metadata": {},
   "outputs": [],
   "source": [
    "from tqdm import trange\n",
    "from IPython.display import clear_output\n",
    "import matplotlib.pyplot as plt"
   ]
  },
  {
   "cell_type": "code",
   "execution_count": 16,
   "metadata": {},
   "outputs": [],
   "source": [
    "# set a seed\n",
    "seed = 13\n",
    "random.seed(seed)\n",
    "np.random.seed(seed)\n",
    "tf.random.set_seed(seed)"
   ]
  },
  {
   "cell_type": "markdown",
   "metadata": {},
   "source": [
    "#### Set up Environment and Policy"
   ]
  },
  {
   "cell_type": "code",
   "execution_count": 22,
   "metadata": {},
   "outputs": [],
   "source": [
    "#setup env and agent and target networks\n",
    "env_name = 'CartPole-v1'\n",
    "env = make_env(env_name)\n",
    "state_dim = env.observation_space.shape\n",
    "n_actions = env.action_space.n\n",
    "state, _ = env.reset(seed=seed)\n",
    "\n",
    "agent = DQNAgent(state_dim, n_actions, epsilon=1)\n",
    "target_network = DQNAgent(state_dim, n_actions, epsilon=1)\n",
    "target_network.model.set_weights(agent.model.get_weights())"
   ]
  },
  {
   "cell_type": "markdown",
   "metadata": {},
   "source": [
    "#### Populate Experience Replay"
   ]
  },
  {
   "cell_type": "code",
   "execution_count": 32,
   "metadata": {},
   "outputs": [
    {
     "name": "stdout",
     "output_type": "stream",
     "text": [
      "10000\n"
     ]
    }
   ],
   "source": [
    "# let us fill experience replay with some samples using full random policy\n",
    "exp_replay = ReplayBuffer(10**4)\n",
    "for i in range(100):\n",
    "    play_and_record(state, agent, env, exp_replay, n_steps=10**2)\n",
    "    if len(exp_replay) == 10**4:\n",
    "        break\n",
    "print(len(exp_replay))"
   ]
  },
  {
   "cell_type": "markdown",
   "metadata": {},
   "source": [
    "#### Setup Training Parameters"
   ]
  },
  {
   "cell_type": "code",
   "execution_count": 33,
   "metadata": {},
   "outputs": [],
   "source": [
    "#setup some parameters for training\n",
    "timesteps_per_epoch = 1\n",
    "batch_size = 32\n",
    "total_steps = 5 * 10**4\n",
    "\n",
    "#init Optimizer\n",
    "optimizer = tf.keras.optimizers.Adam(learning_rate=1e-4)\n",
    "# set exploration epsilon \n",
    "start_epsilon = 1\n",
    "end_epsilon = 0.05\n",
    "eps_decay_final_step = 2 * 10**4\n",
    "\n",
    "# setup spme frequency for loggind and updating target network\n",
    "loss_freq = 20\n",
    "refresh_target_network_freq = 100\n",
    "eval_freq = 1000\n",
    "\n",
    "# to clip the gradients\n",
    "max_grad_norm = 5000"
   ]
  },
  {
   "cell_type": "code",
   "execution_count": 34,
   "metadata": {},
   "outputs": [],
   "source": [
    "mean_rw_history = []\n",
    "td_loss_history = []"
   ]
  },
  {
   "cell_type": "code",
   "execution_count": 35,
   "metadata": {},
   "outputs": [],
   "source": [
    "def epsilon_schedule(start_eps, end_eps, step, final_step):\n",
    "    return start_eps + (end_eps-start_eps)*min(step, final_step)/final_step\n",
    "\n",
    "def smoothen(values):\n",
    "    kernel = gaussian(100, std=100)\n",
    "    kernel = kernel / np.sum(kernel)\n",
    "    return convolve(values, kernel, 'valid')"
   ]
  },
  {
   "cell_type": "code",
   "execution_count": 37,
   "metadata": {},
   "outputs": [
    {
     "name": "stdout",
     "output_type": "stream",
     "text": [
      "buffer size = 10000, epsilon = 0.05000\n"
     ]
    },
    {
     "data": {
      "image/png": "[encoded data removed]",
      "text/plain": [
       "<Figure size 1600x500 with 2 Axes>"
      ]
     },
     "metadata": {},
     "output_type": "display_data"
    },
    {
     "name": "stderr",
     "output_type": "stream",
     "text": [
      "100%|█████████████████████████████████████████████████████████████████████████████| 50001/50001 [24:29<00:00, 34.04it/s]\n"
     ]
    }
   ],
   "source": [
    "state, _ = env.reset()\n",
    "for step in trange(total_steps + 1):\n",
    "    \n",
    "    # reduce exploration as we progress\n",
    "    agent.epsilon = epsilon_schedule(start_epsilon, end_epsilon, step, eps_decay_final_step)\n",
    "\n",
    "    # take timesteps_per_epoch and update experience replay buffer\n",
    "    _, state = play_and_record(state, agent, env, exp_replay, timesteps_per_epoch)\n",
    "\n",
    "    # train by sampling batch_size of data from experience replay\n",
    "    states, actions, rewards, next_states, done_flags = exp_replay.sample(batch_size)\n",
    "    \n",
    "    with tf.GradientTape() as tape:\n",
    "        # loss = <compute TD loss>\n",
    "        loss = compute_td_loss(agent, target_network, \n",
    "                               states, actions, rewards, next_states, done_flags,                  \n",
    "                               gamma=0.99)\n",
    "\n",
    "    gradients = tape.gradient(loss, agent.model.trainable_variables)\n",
    "    clipped_grads = [tf.clip_by_norm(g, max_grad_norm) for g in gradients]\n",
    "    optimizer.apply_gradients(zip(clipped_grads, agent.model.trainable_variables))\n",
    "\n",
    "\n",
    "    if step % loss_freq == 0:\n",
    "        td_loss_history.append(loss.numpy())\n",
    "\n",
    "    if step % refresh_target_network_freq == 0:\n",
    "        # Load agent weights into target_network\n",
    "        target_network.model.set_weights(agent.model.get_weights())\n",
    "\n",
    "    if step % eval_freq == 0:\n",
    "        # eval the agent\n",
    "        mean_rw_history.append(evaluate(\n",
    "            make_env(env_name), agent, n_games=3, greedy=True, t_max=1000)\n",
    "        )\n",
    "\n",
    "        clear_output(True)\n",
    "        print(\"buffer size = %i, epsilon = %.5f\" %\n",
    "              (len(exp_replay), agent.epsilon))\n",
    "\n",
    "        plt.figure(figsize=[16, 5])\n",
    "        plt.subplot(1, 2, 1)\n",
    "        plt.title(\"Mean return per episode\")\n",
    "        plt.plot(mean_rw_history)\n",
    "        plt.grid()\n",
    "\n",
    "        assert not np.isnan(td_loss_history[-1])\n",
    "        plt.subplot(1, 2, 2)\n",
    "        plt.title(\"TD loss history (smoothened)\")\n",
    "        plt.plot(smoothen(td_loss_history))\n",
    "        plt.grid()\n",
    "\n",
    "        plt.show()"
   ]
  },
  {
   "cell_type": "code",
   "execution_count": 38,
   "metadata": {},
   "outputs": [
    {
     "name": "stdout",
     "output_type": "stream",
     "text": [
      "final score: 332.4\n",
      "Well done\n"
     ]
    }
   ],
   "source": [
    "final_score = evaluate(\n",
    "  make_env(env_name),\n",
    "  agent, n_games=30, greedy=True, t_max=1000\n",
    ")\n",
    "print('final score:', final_score)\n",
    "print('Well done')"
   ]
  },
  {
   "cell_type": "markdown",
   "metadata": {},
   "source": [
    "#### Record and Play a video of trained agent"
   ]
  },
  {
   "cell_type": "code",
   "execution_count": 43,
   "metadata": {},
   "outputs": [],
   "source": [
    "# Helper function to record videos\n",
    "def record_video(env_id, video_folder, video_length, agent):\n",
    "\n",
    "    vec_env = DummyVecEnv([lambda: gym.make(env_id, render_mode=\"rgb_array\")])\n",
    "    # Record the video starting at the first step\n",
    "    vec_env = VecVideoRecorder(vec_env, video_folder,\n",
    "                           record_video_trigger=lambda x: x == 0, video_length=video_length,\n",
    "                           name_prefix=f\"{type(agent).__name__}-{env_id}\")\n",
    "\n",
    "    obs = vec_env.reset()\n",
    "    for _ in range(video_length + 1):\n",
    "        action = np.argmax(agent.get_qvalues(obs),axis=-1)\n",
    "        obs, _, _, _ = vec_env.step(action)\n",
    "    # video filename\n",
    "    file_path = \"./\"+video_folder+vec_env.video_recorder.path.split(\"/\")[-1]\n",
    "    # Save the video\n",
    "    vec_env.close()\n",
    "    return file_path\n",
    "\n",
    "def play_video(file_path):\n",
    "    mp4 = open(file_path, 'rb').read()\n",
    "    data_url = \"data:video/mp4;base64,\" + b64encode(mp4).decode()\n",
    "    return HTML(\"\"\"\n",
    "        <video width=400 controls>\n",
    "              <source src=\"%s\" type=\"video/mp4\">\n",
    "        </video>\n",
    "        \"\"\" % data_url)"
   ]
  },
  {
   "cell_type": "code",
   "execution_count": 44,
   "metadata": {},
   "outputs": [
    {
     "name": "stdout",
     "output_type": "stream",
     "text": [
      "Saving video to /home/nsanghi/sandbox/apress/drl-2ed/chapter6/logs/6_a/vanilla/videos/tf/DQNAgent-CartPole-v1-step-0-to-step-500.mp4\n",
      "Moviepy - Building video /home/nsanghi/sandbox/apress/drl-2ed/chapter6/logs/6_a/vanilla/videos/tf/DQNAgent-CartPole-v1-step-0-to-step-500.mp4.\n",
      "Moviepy - Writing video /home/nsanghi/sandbox/apress/drl-2ed/chapter6/logs/6_a/vanilla/videos/tf/DQNAgent-CartPole-v1-step-0-to-step-500.mp4\n",
      "\n"
     ]
    },
    {
     "name": "stderr",
     "output_type": "stream",
     "text": [
      "                                                                                                                        "
     ]
    },
    {
     "name": "stdout",
     "output_type": "stream",
     "text": [
      "Moviepy - Done !\n",
      "Moviepy - video ready /home/nsanghi/sandbox/apress/drl-2ed/chapter6/logs/6_a/vanilla/videos/tf/DQNAgent-CartPole-v1-step-0-to-step-500.mp4\n"
     ]
    },
    {
     "name": "stderr",
     "output_type": "stream",
     "text": [
      "\r"
     ]
    },
    {
     "data": {
      "text/html": [
       "\n",
       "        <video width=400 controls>\n",
       "              <source src=\"data:video/mp4;base64,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\" type=\"video/mp4\">\n",
       "        </video>\n",
       "        "
      ],
      "text/plain": [
       "<IPython.core.display.HTML object>"
      ]
     },
     "execution_count": 44,
     "metadata": {},
     "output_type": "execute_result"
    }
   ],
   "source": [
    "video_folder = \"logs/6_a/vanilla/videos/tf/\"\n",
    "video_length = 500\n",
    "\n",
    "video_file = record_video(env_name, video_folder, video_length, agent)\n",
    "\n",
    "play_video(video_file)"
   ]
  },
  {
   "cell_type": "markdown",
   "metadata": {},
   "source": [
    "#### Important Notes\n",
    "\n",
    "We cannot use stablebaseline3 (SB3) or SB#-Zoo with Tensorflow as SB3 and SB3-Zoo work only with PyTorch. In order to use it alongwith Tensorflow you can either switch to older version of Stablebaselines i.e. [stablebaselines2(SB2)](https://stable-baselines.readthedocs.io/en/master/guide/install.html). However the older version has two issues, it does not work with the newer Gymnasium library and it still depends on the older Gym library. In addition, SB2 works with older versions of Tensorflow only. \n",
    "\n",
    "There is another option, that of using [Tensorflow Agents](https://www.tensorflow.org/agents). This again works with the older gym library and does not have support from Gymnasium.\n",
    "\n",
    "My advice for the learner would be to stick to PyTorch ecosystem while learning. As and when you work on a RL project which specifically needs TensorFlow backend, you could look at the above options. In any case, you would have your own environment which can be implemented on top of the Gym interface. In that case you do not need to bother about the newer Gymnasium interface."
   ]
  },
  {
   "cell_type": "markdown",
   "metadata": {},
   "source": [
    "### Summary\n",
    "\n",
    "In this notebook we saw how to train a DQN agent with experience replay and target networks. We can improve this agent with many tricks. As we go along, we will be implementing many of these variants."
   ]
  }
 ],
 "metadata": {
  "kernelspec": {
   "display_name": "Python 3 (ipykernel)",
   "language": "python",
   "name": "python3"
  },
  "language_info": {
   "codemirror_mode": {
    "name": "ipython",
    "version": 3
   },
   "file_extension": ".py",
   "mimetype": "text/x-python",
   "name": "python",
   "nbconvert_exporter": "python",
   "pygments_lexer": "ipython3",
   "version": "3.9.18"
  }
 },
 "nbformat": 4,
 "nbformat_minor": 4
}
