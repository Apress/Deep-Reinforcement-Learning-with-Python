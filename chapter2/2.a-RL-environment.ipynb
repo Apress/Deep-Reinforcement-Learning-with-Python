{
 "cells": [
  {
   "cell_type": "markdown",
   "metadata": {
    "id": "0b_VKjjU_fsz"
   },
   "source": [
    "# RL environments\n",
    "\n",
    "In this book we will be using [gymnasium](https://gymnasium.farama.org/) for creating the RL environments. Gymnasium is a standard API for reinforcement learning, and a diverse collection of reference environments."
   ]
  },
  {
   "cell_type": "markdown",
   "metadata": {
    "id": "q9KA7aE9_fs1"
   },
   "source": [
    "#### Running in Colab/Kaggle\n",
    "\n",
    "If you are running this on Colab or Kaggle, please uncomment below cell and run this to install required dependencies."
   ]
  },
  {
   "cell_type": "code",
   "execution_count": 1,
   "metadata": {},
   "outputs": [],
   "source": [
    "#!pip install gymnasium[classic_control]"
   ]
  },
  {
   "cell_type": "markdown",
   "metadata": {
    "id": "PilthBN9_fs3"
   },
   "source": [
    "#### Importing required packages"
   ]
  },
  {
   "cell_type": "code",
   "execution_count": 2,
   "metadata": {
    "id": "waewx-E5ysVn"
   },
   "outputs": [],
   "source": [
    "import gymnasium as gym\n",
    "from matplotlib import pyplot as plt"
   ]
  },
  {
   "cell_type": "markdown",
   "metadata": {
    "id": "JMdc791E_fs4"
   },
   "source": [
    "#### First Environment - Mountain Car\n",
    "\n",
    "The [Mountain Car MDP](https://gymnasium.farama.org/environments/classic_control/mountain_car/) is a deterministic MDP that consists of a car placed stochastically at the bottom of a sinusoidal valley, with the only possible actions being the accelerations that can be applied to the car in either direction. The goal of the MDP is to strategically accelerate the car to reach the goal state on top of the right hill. There are two versions of the mountain car domain in gymnasium: one with discrete actions and one with continuous. This version is the one with discrete actions.\n",
    "\n",
    "Each environment has to specify an `action space` which are the ways an agent/policy can interact with the environment. In case of Mountain car we have following possible actions:\n",
    "\n",
    "There are 3 discrete deterministic actions:\n",
    "\n",
    "0: Accelerate to the left<br/>\n",
    "1: Don’t accelerate<br/>\n",
    "2: Accelerate to the right<br/>\n",
    "\n",
    "Each environment's state is defined as `Observation Space` - i.e. the part of the state this is visible to the agent to make decisions.\n",
    "\n",
    "The observation for Mountain Car is a ndarray with shape (2,) where the elements correspond to the following:\n",
    "\n",
    "| Num | Observation                          | Min   | Max  | Unit         |\n",
    "|-----|--------------------------------------|-------|------|--------------|\n",
    "| 0   | position of the car along the x-axis | -1.2  | 0.6  | position (m) |\n",
    "| 1   | velocity of the car                  | -0.07 | 0.07 | velocity (v) |\n",
    "\n",
    "\n",
    "We use an agent/policy to take an action using the following method in the `environment`<br/>\n",
    "`action = policy(observation)`\n",
    "\n",
    "Then we pass the action to the environment to act using `env.step(action)`. The function call returns a tuple of five values: `observation, reward, terminated, truncated, info`. the returned\n",
    "\n",
    "- `observation` is the new state environment has moved into as a result of our action.\n",
    "- `reward` is the numerical reward our agent gets from environment as a result of the action it took.\n",
    "- `terminated` is a boolean which is true when the agent's action has resulted in completion of the task or agent has moved into a bad state (like falling off the cliff) from which it cannot recover. In other words, good or bad, the agent's action has resulted into a new state which is a terminal state from which agent cannot recover.\n",
    "- `truncated` is a boolean which is true when the agent could not complete the task and timeout happens. There are a few other scenarios when this could happen as a result of other actions. You can read more about it in the documentation for `gymnasium`.\n",
    "- `info` contains certain other information for debugging the environment"
   ]
  },
  {
   "cell_type": "code",
   "execution_count": 3,
   "metadata": {
    "colab": {
     "base_uri": "https://localhost:8080/",
     "height": 691
    },
    "id": "gLOKb2WrycEf",
    "outputId": "3def88f6-691d-4489-fbee-916fc6773ffa"
   },
   "outputs": [
    {
     "name": "stdout",
     "output_type": "stream",
     "text": [
      "initial observation: [-0.5901667  0.       ]\n",
      "possible actions: 3\n",
      "\n",
      "taking action: 0\n",
      "got reward: -1.0. New state/observation is: [-5.9067070e-01 -5.0405273e-04]\n",
      "\n",
      "taking action: 0\n",
      "got reward: -1.0. New state/observation is: [-0.5916751 -0.0010044]\n",
      "\n",
      "taking action: 2\n",
      "got reward: -1.0. New state/observation is: [-5.911725e-01  5.026300e-04]\n",
      "\n",
      "taking action: 2\n",
      "got reward: -1.0. New state/observation is: [-0.5891665   0.00200597]\n",
      "\n",
      "taking action: 1\n",
      "got reward: -1.0. New state/observation is: [-0.58667195  0.00249456]\n"
     ]
    },
    {
     "data": {
      "image/png": "[encoded data removed]",
      "text/plain": [
       "<Figure size 640x480 with 1 Axes>"
      ]
     },
     "metadata": {},
     "output_type": "display_data"
    }
   ],
   "source": [
    "\n",
    "env = gym.make('MountainCar-v0', render_mode=\"rgb_array\")\n",
    "# reset environment and get initial observation/state\n",
    "# Observation/state is a tuple of (position, velocity)\n",
    "obs, info = env.reset()\n",
    "print(\"initial observation:\", obs)\n",
    "\n",
    "# possible 3 actions\n",
    "# {0: \"accelerate to left\", \"1\": \"do nothing\", \"2\": \"accelerate to right\"}\n",
    "print(\"possible actions:\", env.action_space.n)\n",
    "\n",
    "\n",
    "# reinforcement learning is all\n",
    "# about learning to take good actions\n",
    "# from a given state/observation\n",
    "# right now taking a random action\n",
    "def policy(observation):\n",
    "    return env.action_space.sample()\n",
    "\n",
    "\n",
    "# take 5 random actions/steps\n",
    "for _ in range(5):\n",
    "\n",
    "    # to render environment for visual inspection\n",
    "    # when you train, you can skip rendering to speed up\n",
    "    plt.imshow(env.render())\n",
    "\n",
    "    # based on current policy, use the current observation\n",
    "    # to find the best action to take.\n",
    "    action = policy(obs)\n",
    "    print(\"\\ntaking action:\", action)\n",
    "\n",
    "    # pass the action to env which will return back\n",
    "    # with new state/\"observation\" and \"reward\"\n",
    "    # there is a \"done\" flag which is true when game ends\n",
    "    # \"info\" provides some diagnostic information\n",
    "    obs, reward, terminated, truncated, info = env.step(action)\n",
    "    print(\"got reward: {0}. New state/observation is: {1}\".format(reward, obs))\n",
    "\n",
    "# close the environment\n",
    "env.close()"
   ]
  },
  {
   "cell_type": "markdown",
   "metadata": {
    "id": "bmJ_FbX5ycEg"
   },
   "source": [
    "#### Second Environment Cart Pole\n",
    "\n",
    "This [environment](https://gymnasium.farama.org/environments/classic_control/cart_pole/) corresponds to the version of the cart-pole problem described by Barto, Sutton, and Anderson in “ Neuronlike Adaptive Elements That Can Solve Difficult Learning Control Problem ”. A pole is attached by an un-actuated joint to a cart, which moves along a frictionless track. The pendulum is placed upright on the cart and the goal is to balance the pole by applying forces in the left and right direction on the cart.\n",
    "\n",
    "**Action Space**\n",
    "The action is a ndarray with shape (1,) which can take values {0, 1} indicating the direction of the fixed force the cart is pushed with. `0` is the action to push the cart to the left and `1` is the action to push the cart to the right.\n",
    "\n",
    "**Observation Space**\n",
    "The observation is a ndarray with shape (4,) with the values corresponding to the following positions and velocities:\n",
    "\n",
    "| Num |      Observation      |         Min         |        Max        |\n",
    "|:---:|:---------------------:|:-------------------:|:-----------------:|\n",
    "| 0   | Cart Position         | -4.8                | 4.8               |\n",
    "| 1   | Cart Velocity         | -Inf                | Inf               |\n",
    "| 2   | Pole Angle            | ~ -0.418 rad (-24°) | ~ 0.418 rad (24°) |\n",
    "| 3   | Pole Angular Velocity | -Inf                | Inf               |"
   ]
  },
  {
   "cell_type": "code",
   "execution_count": 4,
   "metadata": {
    "colab": {
     "base_uri": "https://localhost:8080/",
     "height": 691
    },
    "id": "GVNZ2YqHycEh",
    "outputId": "48554deb-83bd-429d-b1ce-d0f775cdae87"
   },
   "outputs": [
    {
     "name": "stdout",
     "output_type": "stream",
     "text": [
      "initial observation: (array([ 0.018456  , -0.0142253 ,  0.04051789,  0.00331859], dtype=float32), {})\n",
      "possible actions: 2\n",
      "\n",
      "taking action: 1\n",
      "got reward: 1.0. New state/observation is: [ 0.0181715   0.18029284  0.04058427 -0.27631015]\n",
      "\n",
      "taking action: 1\n",
      "got reward: 1.0. New state/observation is: [ 0.02177735  0.374813    0.03505806 -0.5559216 ]\n",
      "\n",
      "taking action: 0\n",
      "got reward: 1.0. New state/observation is: [ 0.02927361  0.17921682  0.02393963 -0.2524027 ]\n",
      "\n",
      "taking action: 1\n",
      "got reward: 1.0. New state/observation is: [ 0.03285795  0.3739889   0.01889157 -0.5374395 ]\n",
      "\n",
      "taking action: 0\n",
      "got reward: 1.0. New state/observation is: [ 0.04033773  0.1786065   0.00814279 -0.2388644 ]\n"
     ]
    },
    {
     "data": {
      "image/png": "[encoded data removed]",
      "text/plain": [
       "<Figure size 640x480 with 1 Axes>"
      ]
     },
     "metadata": {},
     "output_type": "display_data"
    }
   ],
   "source": [
    "env = gym.make('CartPole-v1', render_mode=\"rgb_array\")\n",
    "obs = env.reset()\n",
    "print(\"initial observation:\", obs)\n",
    "print(\"possible actions:\", env.action_space.n)\n",
    "\n",
    "\n",
    "def policy(observation):\n",
    "    return env.action_space.sample()\n",
    "\n",
    "\n",
    "for _ in range(5):\n",
    "    plt.imshow(env.render())\n",
    "\n",
    "    action = policy(obs)\n",
    "    print(\"\\ntaking action:\", action)\n",
    "\n",
    "    obs, reward, terminated, truncated, info = env.step(action)\n",
    "    print(\"got reward: {0}. New state/observation is: {1}\".format(reward, obs))\n",
    "\n",
    "\n",
    "# close the environment\n",
    "env.close()"
   ]
  }
 ],
 "metadata": {
  "colab": {
   "include_colab_link": true,
   "provenance": []
  },
  "kernelspec": {
   "display_name": "Python 3 (ipykernel)",
   "language": "python",
   "name": "python3"
  },
  "language_info": {
   "codemirror_mode": {
    "name": "ipython",
    "version": 3
   },
   "file_extension": ".py",
   "mimetype": "text/x-python",
   "name": "python",
   "nbconvert_exporter": "python",
   "pygments_lexer": "ipython3",
   "version": "3.9.18"
  }
 },
 "nbformat": 4,
 "nbformat_minor": 4
}
