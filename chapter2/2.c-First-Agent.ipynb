{
 "cells": [
  {
   "cell_type": "markdown",
   "metadata": {
    "id": "hyyN-2qyK_T2"
   },
   "source": [
    "# Train your First Agent\n",
    "\n",
    "In this Notebook we will train the 2nd agent. yet another environment, train the agent and then share the result using Huggingface ecosystem. We will be using following libraries:\n",
    "\n",
    "1. `gymnasium` - which we saw in Listing 2.1.  [gymnasium](https://gymnasium.farama.org/) is a standard API for reinforcement learning, and a diverse collection of reference environments.\n",
    "2. While, to gain understanding, we will be writing our own implementation code for lots of algorithms taught in the book, for actual work it makes sense to use standard libraries for all such RL tasks. One such library is [`Stable Baselines3 SB3`](https://stable-baselines3.readthedocs.io/en/master/) which is a set of reliable implementations of reinforcement learning algorithms in PyTorch. Accompanying this there is another library[`RL Baseline Zoo`](https://github.com/DLR-RM/rl-baselines3-zoo) which provides a collection of pre-trained agents, scripts for training, evaluating agents, tuning hyperparameters, plotting results and recording.\n",
    "3. We will also be using Huggingface to host the trained agents and be able to share the results with others. The book walks you through details of what is Huggingface and what all is available under huggingface ecosystem. In this book, we will be using a subset of the capabilities in huggingface. For now we will be using it to upload trained agents and demo videos so that the same can be shared with others. We will be using [`Huggingface sb3`](https://github.com/huggingface/huggingface_sb3) which is a library to load and upload Stable-baselines3.  models from the Hub. Before we can use it, we need a login to be created on [`Huggingface`](https://huggingface.co/join). You can follow the link to create an account."
   ]
  },
  {
   "cell_type": "markdown",
   "metadata": {
    "id": "gpyVcmMPIMJZ"
   },
   "source": [
    "#### Running in Colab/Kaggle\n",
    "\n",
    "If you are running this on Colab or Kaggle, please uncomment below cell and run this to install required dependencies."
   ]
  },
  {
   "cell_type": "code",
   "execution_count": 1,
   "metadata": {},
   "outputs": [],
   "source": [
    "## uncomment and execute this cell to install all the the dependencies if running in Google Colab or Kaggle\n",
    "\n",
    "# !apt-get update \n",
    "# !apt-get install -y swig cmake ffmpeg freeglut3-dev xvfb"
   ]
  },
  {
   "cell_type": "code",
   "execution_count": 2,
   "metadata": {
    "id": "gWskDE2c9WoN"
   },
   "outputs": [],
   "source": [
    "## uncomment and execute this cell to install all the the dependencies if running in Google Colab or Kaggle\n",
    "\n",
    "# !pip install \"box2d-py==2.3.8\"\n",
    "# !pip install \"stable-baselines3[extra]==2.1.0\"\n",
    "# !pip install \"huggingface_sb3>=3.0\"\n",
    "# !pip install \"moviepy==1.0.3\""
   ]
  },
  {
   "cell_type": "markdown",
   "metadata": {
    "id": "FtY8FhliLsGm"
   },
   "source": [
    "## Import policy, RL agent\n",
    "\n",
    "We will using DQN (Deep Q Network) policy to train the agent. For now we will treat this as a black box, diving deeper into it in a subsequent chapter."
   ]
  },
  {
   "cell_type": "code",
   "execution_count": 3,
   "metadata": {
    "colab": {
     "base_uri": "https://localhost:8080/"
    },
    "id": "BIedd7Pz9sOs",
    "outputId": "a0082d96-8669-4b40-d9ce-6cffcc9d3f96"
   },
   "outputs": [
    {
     "name": "stderr",
     "output_type": "stream",
     "text": [
      "2024-03-05 12:24:01.980660: I tensorflow/core/util/port.cc:111] oneDNN custom operations are on. You may see slightly different numerical results due to floating-point round-off errors from different computation orders. To turn them off, set the environment variable `TF_ENABLE_ONEDNN_OPTS=0`.\n",
      "2024-03-05 12:24:02.048924: I tensorflow/tsl/cuda/cudart_stub.cc:28] Could not find cuda drivers on your machine, GPU will not be used.\n",
      "2024-03-05 12:24:02.444359: E tensorflow/compiler/xla/stream_executor/cuda/cuda_dnn.cc:9342] Unable to register cuDNN factory: Attempting to register factory for plugin cuDNN when one has already been registered\n",
      "2024-03-05 12:24:02.444447: E tensorflow/compiler/xla/stream_executor/cuda/cuda_fft.cc:609] Unable to register cuFFT factory: Attempting to register factory for plugin cuFFT when one has already been registered\n",
      "2024-03-05 12:24:02.448106: E tensorflow/compiler/xla/stream_executor/cuda/cuda_blas.cc:1518] Unable to register cuBLAS factory: Attempting to register factory for plugin cuBLAS when one has already been registered\n",
      "2024-03-05 12:24:02.924166: I tensorflow/tsl/cuda/cudart_stub.cc:28] Could not find cuda drivers on your machine, GPU will not be used.\n",
      "2024-03-05 12:24:02.926848: I tensorflow/core/platform/cpu_feature_guard.cc:182] This TensorFlow binary is optimized to use available CPU instructions in performance-critical operations.\n",
      "To enable the following instructions: AVX2 AVX_VNNI FMA, in other operations, rebuild TensorFlow with the appropriate compiler flags.\n",
      "2024-03-05 12:24:05.591767: W tensorflow/compiler/tf2tensorrt/utils/py_utils.cc:38] TF-TRT Warning: Could not find TensorRT\n"
     ]
    }
   ],
   "source": [
    "import gymnasium as gym\n",
    "\n",
    "from stable_baselines3 import DQN"
   ]
  },
  {
   "cell_type": "markdown",
   "metadata": {
    "id": "RapkYvTXL7Cd"
   },
   "source": [
    "## Create the Gym env and instantiate the agent\n",
    "\n",
    "For this example, we will use Lunar Lander environment.\n",
    "\n",
    "\"Landing outside landing pad is possible. Fuel is infinite, so an agent can learn to fly and then land on its first attempt. Four discrete actions available: do nothing, fire left orientation engine, fire main engine, fire right orientation engine. \"\n",
    "\n",
    "[Lunar Lander environment](https://gymnasium.farama.org/environments/box2d/lunar_lander/)\n",
    "\n",
    "![Lunar Lander](https://gymnasium.farama.org/_images/lunar_lander.gif)\n",
    "\n",
    "\n",
    "We chose the MlpPolicy because input of Lunar Lander is a feature vector, not images. The type of action to use (discrete/continuous) will be automatically deduced from the environment action space\n",
    "\n"
   ]
  },
  {
   "cell_type": "code",
   "execution_count": 4,
   "metadata": {
    "colab": {
     "base_uri": "https://localhost:8080/"
    },
    "id": "pUWGZp3i9wyf",
    "outputId": "af792e1a-17cb-4048-b31d-0fad4426f626"
   },
   "outputs": [
    {
     "name": "stdout",
     "output_type": "stream",
     "text": [
      "Using cpu device\n",
      "Creating environment from the given name 'LunarLander-v2'\n",
      "Wrapping the env with a `Monitor` wrapper\n",
      "Wrapping the env in a DummyVecEnv.\n"
     ]
    }
   ],
   "source": [
    "model = DQN(\n",
    "    \"MlpPolicy\",\n",
    "    \"LunarLander-v2\",\n",
    "    verbose=1,\n",
    "    exploration_final_eps=0.1,\n",
    "    target_update_interval=250,\n",
    ")"
   ]
  },
  {
   "cell_type": "markdown",
   "metadata": {
    "id": "4efFdrQ7MBvl"
   },
   "source": [
    "We load a helper function to evaluate the agent:"
   ]
  },
  {
   "cell_type": "code",
   "execution_count": 5,
   "metadata": {
    "id": "PeaVBGuJwK97"
   },
   "outputs": [],
   "source": [
    "from stable_baselines3.common.evaluation import evaluate_policy"
   ]
  },
  {
   "cell_type": "markdown",
   "metadata": {
    "id": "zjEVOIY8NVeK"
   },
   "source": [
    "Let's evaluate the un-trained agent, this should be a random agent."
   ]
  },
  {
   "cell_type": "code",
   "execution_count": 6,
   "metadata": {
    "colab": {
     "base_uri": "https://localhost:8080/"
    },
    "id": "xDHLMA6NFk95",
    "outputId": "0605d334-37f8-4ea6-dbb8-5179bfeb28dc"
   },
   "outputs": [
    {
     "name": "stderr",
     "output_type": "stream",
     "text": [
      "/home/nsanghi/sandbox/apress/drl-2ed/venv39/lib/python3.9/site-packages/stable_baselines3/common/evaluation.py:67: UserWarning: Evaluation environment is not wrapped with a ``Monitor`` wrapper. This may result in reporting modified episode lengths and rewards, if other wrappers happen to modify these. Consider wrapping environment first with ``Monitor`` wrapper.\n",
      "  warnings.warn(\n"
     ]
    },
    {
     "name": "stdout",
     "output_type": "stream",
     "text": [
      "mean_reward=-960.30 +/- 1079.1275705236621\n"
     ]
    }
   ],
   "source": [
    "# Separate env for evaluation\n",
    "eval_env = gym.make(\"LunarLander-v2\")\n",
    "\n",
    "# Random Agent, before training\n",
    "mean_reward, std_reward = evaluate_policy(\n",
    "    model,\n",
    "    eval_env,\n",
    "    n_eval_episodes=10,\n",
    "    deterministic=True,\n",
    ")\n",
    "\n",
    "print(f\"mean_reward={mean_reward:.2f} +/- {std_reward}\")"
   ]
  },
  {
   "cell_type": "markdown",
   "metadata": {
    "id": "r5UoXTZPNdFE"
   },
   "source": [
    "## Train the agent and save it\n",
    "\n",
    "Warning: this may take a while"
   ]
  },
  {
   "cell_type": "code",
   "execution_count": 7,
   "metadata": {
    "colab": {
     "base_uri": "https://localhost:8080/",
     "height": 241,
     "referenced_widgets": [
      "1489b32e36794bb0ad04f8250cba921a",
      "060c33f79563429983f38920ea56501d"
     ]
    },
    "id": "e4cfSXIB-pTF",
    "outputId": "fc800a57-0740-47d2-f63a-6fd43df5c0f6"
   },
   "outputs": [
    {
     "data": {
      "application/vnd.jupyter.widget-view+json": {
       "model_id": "e00e332554924cd5a2f8bc5710abc0aa",
       "version_major": 2,
       "version_minor": 0
      },
      "text/plain": [
       "Output()"
      ]
     },
     "metadata": {},
     "output_type": "display_data"
    },
    {
     "name": "stdout",
     "output_type": "stream",
     "text": [
      "----------------------------------\n",
      "| rollout/            |          |\n",
      "|    ep_len_mean      | 93       |\n",
      "|    ep_rew_mean      | -176     |\n",
      "|    exploration_rate | 0.1      |\n",
      "| time/               |          |\n",
      "|    episodes         | 400      |\n",
      "|    fps              | 818      |\n",
      "|    time_elapsed     | 46       |\n",
      "|    total_timesteps  | 37904    |\n",
      "----------------------------------\n"
     ]
    },
    {
     "data": {
      "text/html": [
       "<pre style=\"white-space:pre;overflow-x:auto;line-height:normal;font-family:Menlo,'DejaVu Sans Mono',consolas,'Courier New',monospace\"></pre>\n"
      ],
      "text/plain": []
     },
     "metadata": {},
     "output_type": "display_data"
    },
    {
     "data": {
      "text/html": [
       "<pre style=\"white-space:pre;overflow-x:auto;line-height:normal;font-family:Menlo,'DejaVu Sans Mono',consolas,'Courier New',monospace\">\n",
       "</pre>\n"
      ],
      "text/plain": [
       "\n"
      ]
     },
     "metadata": {},
     "output_type": "display_data"
    }
   ],
   "source": [
    "# Train the agent\n",
    "model.learn(total_timesteps=int(1e5), log_interval=400, progress_bar=True)\n",
    "# Save the agent\n",
    "model.save(\"dqn_lunar\")\n",
    "del model  # delete trained model to demonstrate loading"
   ]
  },
  {
   "cell_type": "markdown",
   "metadata": {
    "id": "T31dZJYNrJwF"
   },
   "source": [
    "## Load the trained agent"
   ]
  },
  {
   "cell_type": "code",
   "execution_count": 8,
   "metadata": {
    "id": "K1ExgtyZrIA6"
   },
   "outputs": [],
   "source": [
    "model = DQN.load(\"dqn_lunar\")"
   ]
  },
  {
   "cell_type": "code",
   "execution_count": 9,
   "metadata": {
    "colab": {
     "base_uri": "https://localhost:8080/"
    },
    "id": "ygl_gVmV_QP7",
    "outputId": "a9e4e267-0b20-40c0-83c7-73c7de84856c"
   },
   "outputs": [
    {
     "name": "stdout",
     "output_type": "stream",
     "text": [
      "mean_reward=209.67 +/- 22.374592803476926\n"
     ]
    }
   ],
   "source": [
    "# Evaluate the trained agent\n",
    "mean_reward, std_reward = evaluate_policy(model, eval_env, n_eval_episodes=10, deterministic=True)\n",
    "\n",
    "print(f\"mean_reward={mean_reward:.2f} +/- {std_reward}\")"
   ]
  },
  {
   "cell_type": "markdown",
   "metadata": {
    "id": "AdlkHUBVIMJf"
   },
   "source": [
    "## Record the video of trained agent"
   ]
  },
  {
   "cell_type": "code",
   "execution_count": 14,
   "metadata": {
    "colab": {
     "base_uri": "https://localhost:8080/"
    },
    "id": "aQDZI5VEGnUq",
    "outputId": "edc264a2-da02-4604-8c3c-984e15865e84"
   },
   "outputs": [
    {
     "name": "stdout",
     "output_type": "stream",
     "text": [
      "Saving video to /home/nsanghi/sandbox/apress/drl-2ed/chapter2/logs/videos/random-agent-LunarLander-v2-step-0-to-step-1000.mp4\n",
      "Moviepy - Building video /home/nsanghi/sandbox/apress/drl-2ed/chapter2/logs/videos/random-agent-LunarLander-v2-step-0-to-step-1000.mp4.\n",
      "Moviepy - Writing video /home/nsanghi/sandbox/apress/drl-2ed/chapter2/logs/videos/random-agent-LunarLander-v2-step-0-to-step-1000.mp4\n",
      "\n"
     ]
    },
    {
     "name": "stderr",
     "output_type": "stream",
     "text": [
      "                                                                                                                        \r"
     ]
    },
    {
     "name": "stdout",
     "output_type": "stream",
     "text": [
      "Moviepy - Done !\n",
      "Moviepy - video ready /home/nsanghi/sandbox/apress/drl-2ed/chapter2/logs/videos/random-agent-LunarLander-v2-step-0-to-step-1000.mp4\n"
     ]
    }
   ],
   "source": [
    "import gymnasium as gym\n",
    "from stable_baselines3.common.vec_env import VecVideoRecorder, DummyVecEnv\n",
    "\n",
    "env_id = \"LunarLander-v2\"\n",
    "video_folder = \"logs/videos/\"\n",
    "video_length = 1000\n",
    "\n",
    "vec_env = DummyVecEnv([lambda: gym.make(env_id, render_mode=\"rgb_array\")])\n",
    "\n",
    "obs = vec_env.reset()\n",
    "\n",
    "# Record the video starting at the first step\n",
    "vec_env = VecVideoRecorder(vec_env, video_folder,\n",
    "                       record_video_trigger=lambda x: x == 0, video_length=video_length,\n",
    "                       name_prefix=f\"random-agent-{env_id}\")\n",
    "\n",
    "vec_env.reset()\n",
    "for _ in range(video_length + 1):\n",
    "  action, _state = model.predict(obs)\n",
    "  obs, _, _, _ = vec_env.step(action)\n",
    "# Save the video\n",
    "vec_env.close()"
   ]
  },
  {
   "cell_type": "code",
   "execution_count": 15,
   "metadata": {
    "colab": {
     "base_uri": "https://localhost:8080/",
     "height": 288
    },
    "id": "QdFnRIDYDNzI",
    "outputId": "e68d7e93-7eba-410a-b7d5-8402b7d8bc17"
   },
   "outputs": [
    {
     "data": {
      "text/html": [
       "\n",
       "<video width=400 controls>\n",
       "      <source src=\"data:video/mp4;base64,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\" type=\"video/mp4\">\n",
       "</video>\n"
      ],
      "text/plain": [
       "<IPython.core.display.HTML object>"
      ]
     },
     "execution_count": 15,
     "metadata": {},
     "output_type": "execute_result"
    }
   ],
   "source": [
    "from IPython.display import HTML\n",
    "from base64 import b64encode\n",
    "\n",
    "mp4 = open('./logs/videos/random-agent-LunarLander-v2-step-0-to-step-1000.mp4','rb').read()\n",
    "data_url = \"data:video/mp4;base64,\" + b64encode(mp4).decode()\n",
    "HTML(\"\"\"\n",
    "<video width=400 controls>\n",
    "      <source src=\"%s\" type=\"video/mp4\">\n",
    "</video>\n",
    "\"\"\" % data_url)"
   ]
  },
  {
   "cell_type": "markdown",
   "metadata": {
    "id": "hHWlV9U-EBar",
    "outputId": "d908af0f-abf4-45e4-fddb-661e1e636832"
   },
   "source": [
    "## Upload the Video to Huggingface\n",
    "\n",
    "We will need to login into huggingface using token which will allow this notebook to be able to upload files into your huggingface account. You can create/find huggingface token at https://huggingface.co/settings/tokens. This token will need to be inputed when we run `notebook_login()` below."
   ]
  },
  {
   "cell_type": "code",
   "execution_count": 16,
   "metadata": {
    "colab": {
     "base_uri": "https://localhost:8080/",
     "height": 162,
     "referenced_widgets": [
      "faedbb1b2bda4fdaaae073b2328b6662",
      "baea74c5772849778d1d06bb3edc275e",
      "cbb8e24978294ea0a9ee3e3e637d4c6f",
      "65ac3f1c152b41c18ef1f95f493b227e",
      "7617909aea4e45429c7e03f7cca25fd7",
      "7696f605258941e291fc4b347e796dc3",
      "d37f751babc649bfac92a80d2fef5b87",
      "a0c9daf9dad84703bd57e30b02b6c362",
      "cb7ec37a494344278e5dcede2409fec8",
      "0ebe55af4f694e12997eba593291c69d",
      "fcf67a330d7f4c03815abb9b50664256",
      "7d958616100c462b81ba2441e6c9cd16",
      "bc07f5e200c144f0bfc6be1dd67501f6",
      "fd40b11f0ba942ae97d4e2ce376b1e3b",
      "a965c6a74a4d4a17bef4ab2e036abaff",
      "913b9c9d13394149a5ac2b25714e53ca",
      "2792bfde7dec44b7863fb34dcfd76003",
      "691c9c940faa4d1c8458cd69d4a6314a",
      "dbc54c1695d149c6ae11fbe20f8652df",
      "67c06224c2ab4d299279893dfd9f50c9",
      "4bcce309087643a1982cbf898736e842",
      "4a82c737e0984deb9e3bffe62e94d60b",
      "6d2d1b203e3344d88f5134441ec1b567",
      "1d1efa33832e45c98a2c7bcb5e1164eb",
      "f12dfb7c74124ddb8c5339756ed5d14c",
      "0d65dee0591c421eaade75278e889de4",
      "f19dfe5c1b2848de96a3d3601916cc7c",
      "6dc937b73756450daec9b3c59e8332b1",
      "754e0c2a4ecb4de895df76e10cde16ef",
      "1c408b269a914663bd8c6c00d3b0ed4a",
      "64d2d28c8d294e518d75900b5193cbab",
      "0587c605a85b4502936fd1fec25630a7"
     ]
    },
    "id": "7byeWx0bEGL5",
    "outputId": "b86cc4bb-44c9-4018-8f14-58b9fd598649"
   },
   "outputs": [
    {
     "data": {
      "application/vnd.jupyter.widget-view+json": {
       "model_id": "620f332c1898401587c2b9b2a42f7706",
       "version_major": 2,
       "version_minor": 0
      },
      "text/plain": [
       "VBox(children=(HTML(value='<center> <img\\nsrc=https://huggingface.co/front/assets/huggingface_logo-noborder.sv…"
      ]
     },
     "metadata": {},
     "output_type": "display_data"
    }
   ],
   "source": [
    "from huggingface_sb3 import load_from_hub, package_to_hub, push_to_hub\n",
    "from huggingface_hub import notebook_login # To log to our Hugging Face account to be able to upload models to the Hub.\n",
    "\n",
    "notebook_login()\n",
    "!git config --global credential.helper store"
   ]
  },
  {
   "cell_type": "markdown",
   "metadata": {},
   "source": [
    "**IMPORTANT**\n",
    "Some users have reported facing following error while running the `package_to_hub` upload function. \n",
    "\n",
    "```\n",
    "\"Token is required (write-access action) but no token found. You need to provide a token or be logged in to Hugging Face with `huggingface-cli login` or `huggingface_hub.login`. See https://huggingface.co/settings/tokens.\"\n",
    "```\n",
    "\n",
    "In such a case the following command will help you over come the issue\n",
    "\n",
    "```\n",
    "import huggingface_hub\n",
    "\n",
    "huggingface_hub.login(token= <YOUR_HF_TOKEN>,\n",
    "                     write_permission = True,\n",
    "                    add_to_git_credential = True)\n",
    "\t\t\t\t\t\n",
    "```\n",
    "\n",
    "Another alternative is to use following command from command shell where the `venv` or `conda` environment for this repository has been activated and then follow the instructions to set the HuggingFace token.\n",
    "\n",
    "```\n",
    "huggingface-cli login\n",
    "\n",
    "```"
   ]
  },
  {
   "cell_type": "code",
   "execution_count": 17,
   "metadata": {
    "colab": {
     "base_uri": "https://localhost:8080/",
     "height": 446,
     "referenced_widgets": [
      "8c6d30bc5ada4f6a989ec5cd06a152a3",
      "8cdda61684e34019af451e5e8d0aba5d",
      "67b07c3edb5a41e7adf557a320cd594f",
      "f5dc0ad331fa4d7f80d8b608b60c9e44",
      "f36e66d04b7c48709ae886e78601eaf0",
      "f0e2ae53f45d4f61a28092303f8c2368",
      "ff486779d1754ada97cd7ceb16389967",
      "3eed6282686743aa88d26c7415670198",
      "927c65b5f12340afb35c073a25854efb",
      "18b620a0db8e43db8674d0b7899ea788",
      "ab566bdbbd564393a5355afb61470a2a",
      "391f473a1d3e4e2fbb95a89015e5f7bf",
      "de95f370a2644d79a1b18692393daed9",
      "fd7a614d07bd4c629f419965961730f8",
      "0e4046a1ee004d09a5de6fe25359df9e",
      "8d9c72cd5fba4b359595f609918dd618",
      "c32973a22ccd4f6bb4e54a47a1171065",
      "fca263ee57744f4d8d451715904d9790",
      "7688f0b367484ab8b3e4e7359a5642d5",
      "06ada10b2c264218896da24f6857fecc",
      "4e7672f426674a32adcd749b24d45c6d",
      "065fa85413064f60a8a28894ec3fa759",
      "97a1ba6ceea74b89b6a482d629d8881c",
      "35560bdfb97343759e8b194f343e7377",
      "e253b23702bb498ca25ce8d54a33e795",
      "311ee09963c646f8866fed7251954c10",
      "e0d645e8ccd3452481e7676bf34b06f1",
      "415cbfa6c36d46bc9f269e760c03acb1",
      "3e85b50b62244209af90462431fc32d8",
      "67878ea260a544baa780e44da6616bea",
      "b25775e2ed9142b79e16556dfa8e44b7",
      "2e4be5aa34a84297935fc95f3253b1ff",
      "c0f5db8683a54051ba8e09c18b937735"
     ]
    },
    "id": "vUfaMkSAD4L9",
    "outputId": "49598cd9-b970-46a6-d5f8-e888960a54c4"
   },
   "outputs": [
    {
     "name": "stdout",
     "output_type": "stream",
     "text": [
      "\u001b[38;5;4mℹ This function will save, evaluate, generate a video of your agent,\n",
      "create a model card and push everything to the hub. It might take up to 1min.\n",
      "This is a work in progress: if you encounter a bug, please open an issue.\u001b[0m\n"
     ]
    },
    {
     "name": "stderr",
     "output_type": "stream",
     "text": [
      "/home/nsanghi/sandbox/apress/drl-2ed/venv39/lib/python3.9/site-packages/stable_baselines3/common/evaluation.py:67: UserWarning: Evaluation environment is not wrapped with a ``Monitor`` wrapper. This may result in reporting modified episode lengths and rewards, if other wrappers happen to modify these. Consider wrapping environment first with ``Monitor`` wrapper.\n",
      "  warnings.warn(\n"
     ]
    },
    {
     "name": "stdout",
     "output_type": "stream",
     "text": [
      "Saving video to /tmp/tmprxs4ameq/-step-0-to-step-1000.mp4\n",
      "Moviepy - Building video /tmp/tmprxs4ameq/-step-0-to-step-1000.mp4.\n",
      "Moviepy - Writing video /tmp/tmprxs4ameq/-step-0-to-step-1000.mp4\n",
      "\n"
     ]
    },
    {
     "name": "stderr",
     "output_type": "stream",
     "text": [
      "ffmpeg version 4.4.2-0ubuntu0.22.04.1 Copyright (c) 2000-2021 the FFmpeg developers                                     \n",
      "  built with gcc 11 (Ubuntu 11.2.0-19ubuntu1)\n",
      "  configuration: --prefix=/usr --extra-version=0ubuntu0.22.04.1 --toolchain=hardened --libdir=/usr/lib/x86_64-linux-gnu --incdir=/usr/include/x86_64-linux-gnu --arch=amd64 --enable-gpl --disable-stripping --enable-gnutls --enable-ladspa --enable-libaom --enable-libass --enable-libbluray --enable-libbs2b --enable-libcaca --enable-libcdio --enable-libcodec2 --enable-libdav1d --enable-libflite --enable-libfontconfig --enable-libfreetype --enable-libfribidi --enable-libgme --enable-libgsm --enable-libjack --enable-libmp3lame --enable-libmysofa --enable-libopenjpeg --enable-libopenmpt --enable-libopus --enable-libpulse --enable-librabbitmq --enable-librubberband --enable-libshine --enable-libsnappy --enable-libsoxr --enable-libspeex --enable-libsrt --enable-libssh --enable-libtheora --enable-libtwolame --enable-libvidstab --enable-libvorbis --enable-libvpx --enable-libwebp --enable-libx265 --enable-libxml2 --enable-libxvid --enable-libzimg --enable-libzmq --enable-libzvbi --enable-lv2 --enable-omx --enable-openal --enable-opencl --enable-opengl --enable-sdl2 --enable-pocketsphinx --enable-librsvg --enable-libmfx --enable-libdc1394 --enable-libdrm --enable-libiec61883 --enable-chromaprint --enable-frei0r --enable-libx264 --enable-shared\n",
      "  libavutil      56. 70.100 / 56. 70.100\n",
      "  libavcodec     58.134.100 / 58.134.100\n",
      "  libavformat    58. 76.100 / 58. 76.100\n",
      "  libavdevice    58. 13.100 / 58. 13.100\n",
      "  libavfilter     7.110.100 /  7.110.100\n",
      "  libswscale      5.  9.100 /  5.  9.100\n",
      "  libswresample   3.  9.100 /  3.  9.100\n",
      "  libpostproc    55.  9.100 / 55.  9.100\n",
      "Input #0, mov,mp4,m4a,3gp,3g2,mj2, from '/tmp/tmprxs4ameq/-step-0-to-step-1000.mp4':\n",
      "  Metadata:\n",
      "    major_brand     : isom\n",
      "    minor_version   : 512\n",
      "    compatible_brands: isomiso2avc1mp41\n",
      "    encoder         : Lavf58.29.100\n",
      "  Duration: 00:00:20.02, start: 0.000000, bitrate: 82 kb/s\n",
      "  Stream #0:0(und): Video: h264 (High) (avc1 / 0x31637661), yuv420p, 600x400, 77 kb/s, 50 fps, 50 tbr, 12800 tbn, 100 tbc (default)\n",
      "    Metadata:\n",
      "      handler_name    : VideoHandler\n",
      "      vendor_id       : [0][0][0][0]\n",
      "Stream mapping:\n",
      "  Stream #0:0 -> #0:0 (h264 (native) -> h264 (libx264))\n",
      "Press [q] to stop, [?] for help\n",
      "[libx264 @ 0x55da91577a80] using cpu capabilities: MMX2 SSE2Fast SSSE3 SSE4.2 AVX FMA3 BMI2 AVX2\n",
      "[libx264 @ 0x55da91577a80] profile High, level 3.1, 4:2:0, 8-bit\n",
      "[libx264 @ 0x55da91577a80] 264 - core 163 r3060 5db6aa6 - H.264/MPEG-4 AVC codec - Copyleft 2003-2021 - http://www.videolan.org/x264.html - options: cabac=1 ref=3 deblock=1:0:0 analyse=0x3:0x113 me=hex subme=7 psy=1 psy_rd=1.00:0.00 mixed_ref=1 me_range=16 chroma_me=1 trellis=1 8x8dct=1 cqm=0 deadzone=21,11 fast_pskip=1 chroma_qp_offset=-2 threads=12 lookahead_threads=2 sliced_threads=0 nr=0 decimate=1 interlaced=0 bluray_compat=0 constrained_intra=0 bframes=3 b_pyramid=2 b_adapt=1 b_bias=0 direct=1 weightb=1 open_gop=0 weightp=2 keyint=250 keyint_min=25 scenecut=40 intra_refresh=0 rc_lookahead=40 rc=crf mbtree=1 crf=23.0 qcomp=0.60 qpmin=0 qpmax=69 qpstep=4 ip_ratio=1.40 aq=1:1.00\n",
      "Output #0, mp4, to '/tmp/tmpxerc51ai/replay.mp4':\n",
      "  Metadata:\n",
      "    major_brand     : isom\n",
      "    minor_version   : 512\n",
      "    compatible_brands: isomiso2avc1mp41\n",
      "    encoder         : Lavf58.76.100\n",
      "  Stream #0:0(und): Video: h264 (avc1 / 0x31637661), yuv420p(progressive), 600x400, q=2-31, 50 fps, 12800 tbn (default)\n",
      "    Metadata:\n",
      "      handler_name    : VideoHandler\n",
      "      vendor_id       : [0][0][0][0]\n",
      "      encoder         : Lavc58.134.100 libx264\n",
      "    Side data:\n",
      "      cpb: bitrate max/min/avg: 0/0/0 buffer size: 0 vbv_delay: N/A\n",
      "frame=    1 fps=0.0 q=0.0 size=       0kB time=00:00:00.00 bitrate=N/A speed=   0x    \r"
     ]
    },
    {
     "name": "stdout",
     "output_type": "stream",
     "text": [
      "Moviepy - Done !\n",
      "Moviepy - video ready /tmp/tmprxs4ameq/-step-0-to-step-1000.mp4\n"
     ]
    },
    {
     "name": "stderr",
     "output_type": "stream",
     "text": [
      "frame= 1001 fps=558 q=-1.0 Lsize=     192kB time=00:00:19.96 bitrate=  78.7kbits/s speed=11.1x    \n",
      "video:179kB audio:0kB subtitle:0kB other streams:0kB global headers:0kB muxing overhead: 7.011080%\n",
      "[libx264 @ 0x55da91577a80] frame I:5     Avg QP:10.12  size:  2003\n",
      "[libx264 @ 0x55da91577a80] frame P:255   Avg QP:24.55  size:   241\n",
      "[libx264 @ 0x55da91577a80] frame B:741   Avg QP:26.80  size:   150\n",
      "[libx264 @ 0x55da91577a80] consecutive B-frames:  0.6%  1.8%  0.9% 96.7%\n",
      "[libx264 @ 0x55da91577a80] mb I  I16..4: 88.8%  4.7%  6.5%\n",
      "[libx264 @ 0x55da91577a80] mb P  I16..4:  0.2%  0.5%  0.2%  P16..4:  2.1%  0.5%  0.2%  0.0%  0.0%    skip:96.4%\n",
      "[libx264 @ 0x55da91577a80] mb B  I16..4:  0.0%  0.0%  0.1%  B16..8:  3.1%  0.3%  0.0%  direct: 0.1%  skip:96.3%  L0:53.2% L1:45.9% BI: 0.9%\n",
      "[libx264 @ 0x55da91577a80] 8x8 transform intra:21.1% inter:17.2%\n",
      "[libx264 @ 0x55da91577a80] coded y,uvDC,uvAC intra: 8.3% 14.0% 12.8% inter: 0.2% 0.3% 0.3%\n",
      "[libx264 @ 0x55da91577a80] i16 v,h,dc,p: 88%  7%  5%  0%\n",
      "[libx264 @ 0x55da91577a80] i8 v,h,dc,ddl,ddr,vr,hd,vl,hu: 10%  5% 85%  0%  0%  0%  0%  0%  0%\n",
      "[libx264 @ 0x55da91577a80] i4 v,h,dc,ddl,ddr,vr,hd,vl,hu: 13% 13% 63%  2%  3%  1%  3%  1%  2%\n",
      "[libx264 @ 0x55da91577a80] i8c dc,h,v,p: 91%  5%  3%  0%\n",
      "[libx264 @ 0x55da91577a80] Weighted P-Frames: Y:0.0% UV:0.0%\n",
      "[libx264 @ 0x55da91577a80] ref P L0: 67.0%  1.6% 20.9% 10.6%\n",
      "[libx264 @ 0x55da91577a80] ref B L0: 71.4% 24.6%  4.0%\n",
      "[libx264 @ 0x55da91577a80] ref B L1: 92.2%  7.8%\n",
      "[libx264 @ 0x55da91577a80] kb/s:73.04\n"
     ]
    },
    {
     "name": "stdout",
     "output_type": "stream",
     "text": [
      "\u001b[38;5;4mℹ Pushing repo nsanghi/dqn-LunarLander-v2 to the Hugging Face Hub\u001b[0m\n"
     ]
    },
    {
     "data": {
      "application/vnd.jupyter.widget-view+json": {
       "model_id": "b51c8380cea642d5b6c719e8489dfb31",
       "version_major": 2,
       "version_minor": 0
      },
      "text/plain": [
       "dqn-LunarLander-v2.zip:   0%|          | 0.00/107k [00:00<?, ?B/s]"
      ]
     },
     "metadata": {},
     "output_type": "display_data"
    },
    {
     "data": {
      "application/vnd.jupyter.widget-view+json": {
       "model_id": "bf8c0fffef7e4534972f8b915242b804",
       "version_major": 2,
       "version_minor": 0
      },
      "text/plain": [
       "replay.mp4:   0%|          | 0.00/196k [00:00<?, ?B/s]"
      ]
     },
     "metadata": {},
     "output_type": "display_data"
    },
    {
     "data": {
      "application/vnd.jupyter.widget-view+json": {
       "model_id": "e2d19cc474074a4baf9e06df14c7acc3",
       "version_major": 2,
       "version_minor": 0
      },
      "text/plain": [
       "Upload 2 LFS files:   0%|          | 0/2 [00:00<?, ?it/s]"
      ]
     },
     "metadata": {},
     "output_type": "display_data"
    },
    {
     "name": "stdout",
     "output_type": "stream",
     "text": [
      "\u001b[38;5;4mℹ Your model is pushed to the Hub. You can view your model here:\n",
      "https://huggingface.co/nsanghi/dqn-LunarLander-v2/tree/main/\u001b[0m\n"
     ]
    },
    {
     "data": {
      "text/plain": [
       "'https://huggingface.co/nsanghi/dqn-LunarLander-v2/tree/main/'"
      ]
     },
     "execution_count": 17,
     "metadata": {},
     "output_type": "execute_result"
    }
   ],
   "source": [
    "eval_env = gym.make(\"LunarLander-v2\", render_mode='rgb_array')\n",
    "\n",
    "# method save, evaluate, generate a model card and record a replay video of your agent before pushing the repo to the hub\n",
    "\n",
    "# Please note repo_id is of the form <huggingface_id>/<name of repo>\n",
    "# you will need to change this to \"<your_huggingface_id>/dqn-LunarLander-v2\"\n",
    "\n",
    "package_to_hub(model=model, # Our trained model\n",
    "               model_name=\"dqn-LunarLander-v2\", # The name of our trained model\n",
    "               model_architecture=\"DQN\", # The model architecture we used: in our case PPO\n",
    "               env_id=\"LunarLander-v2\", # Name of the environment\n",
    "               eval_env=eval_env, # Evaluation Environment\n",
    "               repo_id=\"nsanghi/dqn-LunarLander-v2\", # id of the model repository from the Hugging Face Hub (repo_id = {organization}/{repo_name} for instance nsanghi/dqn-LunarLander-v2\n",
    "               commit_message=\"Push to Hub\")"
   ]
  },
  {
   "cell_type": "markdown",
   "metadata": {
    "id": "ShY8CHnLIMJg"
   },
   "source": [
    "## Checking the Results on Huggingface\n",
    "\n",
    "After successful upload, you will see a message at the end of above cell output giving you a link where you can view the model. **It will have a pattern like `https://huggingface.co/<yourusername>/dqn-LunarLander-v2/`**\n",
    "\n",
    "Please click on this link to access the trained agent. You can also share this link with others to show the result of training. Share the url without the ending paths \"tree/main\" so that the link takes them to Model Card tab where they can see the animation. e.g. in my case it will be:<br/>\n",
    "`https://huggingface.co/nsanghi/dqn-LunarLander-v2/`<br/>\n",
    "instead of<br/>\n",
    "`https://huggingface.co/nsanghi/dqn-LunarLander-v2/tree/main/`\n",
    "\n",
    "NOTE: At the time of writing this book, there is a bug in push_to_hub which results in sample video not getting created. You can refer to this bug here - https://github.com/huggingface/huggingface_sb3/issues/33\n"
   ]
  }
 ],
 "metadata": {
  "kernelspec": {
   "display_name": "Python 3 (ipykernel)",
   "language": "python",
   "name": "python3"
  },
  "language_info": {
   "codemirror_mode": {
    "name": "ipython",
    "version": 3
   },
   "file_extension": ".py",
   "mimetype": "text/x-python",
   "name": "python",
   "nbconvert_exporter": "python",
   "pygments_lexer": "ipython3",
   "version": "3.9.18"
  },
  "vscode": {
   "interpreter": {
    "hash": "3201c96db5836b171d01fee72ea1be894646622d4b41771abf25c98b548a611d"
   }
  },
  "widgets": {
   "application/vnd.jupyter.widget-state+json": {
    "0587c605a85b4502936fd1fec25630a7": {
     "model_module": "@jupyter-widgets/controls",
     "model_module_version": "1.5.0",
     "model_name": "DescriptionStyleModel",
     "state": {
      "_model_module": "@jupyter-widgets/controls",
      "_model_module_version": "1.5.0",
      "_model_name": "DescriptionStyleModel",
      "_view_count": null,
      "_view_module": "@jupyter-widgets/base",
      "_view_module_version": "1.2.0",
      "_view_name": "StyleView",
      "description_width": ""
     }
    },
    "060c33f79563429983f38920ea56501d": {
     "model_module": "@jupyter-widgets/base",
     "model_module_version": "1.2.0",
     "model_name": "LayoutModel",
     "state": {
      "_model_module": "@jupyter-widgets/base",
      "_model_module_version": "1.2.0",
      "_model_name": "LayoutModel",
      "_view_count": null,
      "_view_module": "@jupyter-widgets/base",
      "_view_module_version": "1.2.0",
      "_view_name": "LayoutView",
      "align_content": null,
      "align_items": null,
      "align_self": null,
      "border": null,
      "bottom": null,
      "display": null,
      "flex": null,
      "flex_flow": null,
      "grid_area": null,
      "grid_auto_columns": null,
      "grid_auto_flow": null,
      "grid_auto_rows": null,
      "grid_column": null,
      "grid_gap": null,
      "grid_row": null,
      "grid_template_areas": null,
      "grid_template_columns": null,
      "grid_template_rows": null,
      "height": null,
      "justify_content": null,
      "justify_items": null,
      "left": null,
      "margin": null,
      "max_height": null,
      "max_width": null,
      "min_height": null,
      "min_width": null,
      "object_fit": null,
      "object_position": null,
      "order": null,
      "overflow": null,
      "overflow_x": null,
      "overflow_y": null,
      "padding": null,
      "right": null,
      "top": null,
      "visibility": null,
      "width": null
     }
    },
    "065fa85413064f60a8a28894ec3fa759": {
     "model_module": "@jupyter-widgets/controls",
     "model_module_version": "1.5.0",
     "model_name": "DescriptionStyleModel",
     "state": {
      "_model_module": "@jupyter-widgets/controls",
      "_model_module_version": "1.5.0",
      "_model_name": "DescriptionStyleModel",
      "_view_count": null,
      "_view_module": "@jupyter-widgets/base",
      "_view_module_version": "1.2.0",
      "_view_name": "StyleView",
      "description_width": ""
     }
    },
    "06ada10b2c264218896da24f6857fecc": {
     "model_module": "@jupyter-widgets/controls",
     "model_module_version": "1.5.0",
     "model_name": "ProgressStyleModel",
     "state": {
      "_model_module": "@jupyter-widgets/controls",
      "_model_module_version": "1.5.0",
      "_model_name": "ProgressStyleModel",
      "_view_count": null,
      "_view_module": "@jupyter-widgets/base",
      "_view_module_version": "1.2.0",
      "_view_name": "StyleView",
      "bar_color": null,
      "description_width": ""
     }
    },
    "0d65dee0591c421eaade75278e889de4": {
     "model_module": "@jupyter-widgets/controls",
     "model_module_version": "1.5.0",
     "model_name": "DescriptionStyleModel",
     "state": {
      "_model_module": "@jupyter-widgets/controls",
      "_model_module_version": "1.5.0",
      "_model_name": "DescriptionStyleModel",
      "_view_count": null,
      "_view_module": "@jupyter-widgets/base",
      "_view_module_version": "1.2.0",
      "_view_name": "StyleView",
      "description_width": ""
     }
    },
    "0e4046a1ee004d09a5de6fe25359df9e": {
     "model_module": "@jupyter-widgets/controls",
     "model_module_version": "1.5.0",
     "model_name": "HTMLModel",
     "state": {
      "_dom_classes": [],
      "_model_module": "@jupyter-widgets/controls",
      "_model_module_version": "1.5.0",
      "_model_name": "HTMLModel",
      "_view_count": null,
      "_view_module": "@jupyter-widgets/controls",
      "_view_module_version": "1.5.0",
      "_view_name": "HTMLView",
      "description": "",
      "description_tooltip": null,
      "layout": "IPY_MODEL_4e7672f426674a32adcd749b24d45c6d",
      "placeholder": "​",
      "style": "IPY_MODEL_065fa85413064f60a8a28894ec3fa759",
      "value": " 105k/105k [00:00&lt;00:00, 473kB/s]"
     }
    },
    "0ebe55af4f694e12997eba593291c69d": {
     "model_module": "@jupyter-widgets/base",
     "model_module_version": "1.2.0",
     "model_name": "LayoutModel",
     "state": {
      "_model_module": "@jupyter-widgets/base",
      "_model_module_version": "1.2.0",
      "_model_name": "LayoutModel",
      "_view_count": null,
      "_view_module": "@jupyter-widgets/base",
      "_view_module_version": "1.2.0",
      "_view_name": "LayoutView",
      "align_content": null,
      "align_items": null,
      "align_self": null,
      "border": null,
      "bottom": null,
      "display": null,
      "flex": null,
      "flex_flow": null,
      "grid_area": null,
      "grid_auto_columns": null,
      "grid_auto_flow": null,
      "grid_auto_rows": null,
      "grid_column": null,
      "grid_gap": null,
      "grid_row": null,
      "grid_template_areas": null,
      "grid_template_columns": null,
      "grid_template_rows": null,
      "height": null,
      "justify_content": null,
      "justify_items": null,
      "left": null,
      "margin": null,
      "max_height": null,
      "max_width": null,
      "min_height": null,
      "min_width": null,
      "object_fit": null,
      "object_position": null,
      "order": null,
      "overflow": null,
      "overflow_x": null,
      "overflow_y": null,
      "padding": null,
      "right": null,
      "top": null,
      "visibility": null,
      "width": null
     }
    },
    "1489b32e36794bb0ad04f8250cba921a": {
     "model_module": "@jupyter-widgets/output",
     "model_module_version": "1.0.0",
     "model_name": "OutputModel",
     "state": {
      "_dom_classes": [],
      "_model_module": "@jupyter-widgets/output",
      "_model_module_version": "1.0.0",
      "_model_name": "OutputModel",
      "_view_count": null,
      "_view_module": "@jupyter-widgets/output",
      "_view_module_version": "1.0.0",
      "_view_name": "OutputView",
      "layout": "IPY_MODEL_060c33f79563429983f38920ea56501d",
      "msg_id": "",
      "outputs": [
       {
        "data": {
         "text/html": "<pre style=\"white-space:pre;overflow-x:auto;line-height:normal;font-family:Menlo,'DejaVu Sans Mono',consolas,'Courier New',monospace\"><span style=\"color: #800080; text-decoration-color: #800080\"> 100%</span> <span style=\"color: #f92672; text-decoration-color: #f92672\">━━━━━━━━━━━━━━━━━━━━━━━━━━━━━━━━━━━━━━━━━━━━━━━━━━━━━━━━━━━╸</span> <span style=\"color: #008000; text-decoration-color: #008000\">99,970/100,000 </span> [ <span style=\"color: #808000; text-decoration-color: #808000\">0:02:27</span> &lt; <span style=\"color: #008080; text-decoration-color: #008080\">0:00:01</span> , <span style=\"color: #800000; text-decoration-color: #800000\">400 it/s</span> ]\n</pre>\n",
         "text/plain": "\u001b[35m 100%\u001b[0m \u001b[38;2;249;38;114m━━━━━━━━━━━━━━━━━━━━━━━━━━━━━━━━━━━━━━━━━━━━━━━━━━━━━━━━━━━\u001b[0m\u001b[38;2;249;38;114m╸\u001b[0m \u001b[32m99,970/100,000 \u001b[0m [ \u001b[33m0:02:27\u001b[0m < \u001b[36m0:00:01\u001b[0m , \u001b[31m400 it/s\u001b[0m ]\n"
        },
        "metadata": {},
        "output_type": "display_data"
       }
      ]
     }
    },
    "18b620a0db8e43db8674d0b7899ea788": {
     "model_module": "@jupyter-widgets/base",
     "model_module_version": "1.2.0",
     "model_name": "LayoutModel",
     "state": {
      "_model_module": "@jupyter-widgets/base",
      "_model_module_version": "1.2.0",
      "_model_name": "LayoutModel",
      "_view_count": null,
      "_view_module": "@jupyter-widgets/base",
      "_view_module_version": "1.2.0",
      "_view_name": "LayoutView",
      "align_content": null,
      "align_items": null,
      "align_self": null,
      "border": null,
      "bottom": null,
      "display": null,
      "flex": null,
      "flex_flow": null,
      "grid_area": null,
      "grid_auto_columns": null,
      "grid_auto_flow": null,
      "grid_auto_rows": null,
      "grid_column": null,
      "grid_gap": null,
      "grid_row": null,
      "grid_template_areas": null,
      "grid_template_columns": null,
      "grid_template_rows": null,
      "height": null,
      "justify_content": null,
      "justify_items": null,
      "left": null,
      "margin": null,
      "max_height": null,
      "max_width": null,
      "min_height": null,
      "min_width": null,
      "object_fit": null,
      "object_position": null,
      "order": null,
      "overflow": null,
      "overflow_x": null,
      "overflow_y": null,
      "padding": null,
      "right": null,
      "top": null,
      "visibility": null,
      "width": null
     }
    },
    "1c408b269a914663bd8c6c00d3b0ed4a": {
     "model_module": "@jupyter-widgets/controls",
     "model_module_version": "1.5.0",
     "model_name": "DescriptionStyleModel",
     "state": {
      "_model_module": "@jupyter-widgets/controls",
      "_model_module_version": "1.5.0",
      "_model_name": "DescriptionStyleModel",
      "_view_count": null,
      "_view_module": "@jupyter-widgets/base",
      "_view_module_version": "1.2.0",
      "_view_name": "StyleView",
      "description_width": ""
     }
    },
    "1d1efa33832e45c98a2c7bcb5e1164eb": {
     "model_module": "@jupyter-widgets/controls",
     "model_module_version": "1.5.0",
     "model_name": "LabelModel",
     "state": {
      "_dom_classes": [],
      "_model_module": "@jupyter-widgets/controls",
      "_model_module_version": "1.5.0",
      "_model_name": "LabelModel",
      "_view_count": null,
      "_view_module": "@jupyter-widgets/controls",
      "_view_module_version": "1.5.0",
      "_view_name": "LabelView",
      "description": "",
      "description_tooltip": null,
      "layout": "IPY_MODEL_64d2d28c8d294e518d75900b5193cbab",
      "placeholder": "​",
      "style": "IPY_MODEL_0587c605a85b4502936fd1fec25630a7",
      "value": "Login successful"
     }
    },
    "2792bfde7dec44b7863fb34dcfd76003": {
     "model_module": "@jupyter-widgets/controls",
     "model_module_version": "1.5.0",
     "model_name": "DescriptionStyleModel",
     "state": {
      "_model_module": "@jupyter-widgets/controls",
      "_model_module_version": "1.5.0",
      "_model_name": "DescriptionStyleModel",
      "_view_count": null,
      "_view_module": "@jupyter-widgets/base",
      "_view_module_version": "1.2.0",
      "_view_name": "StyleView",
      "description_width": ""
     }
    },
    "2e4be5aa34a84297935fc95f3253b1ff": {
     "model_module": "@jupyter-widgets/base",
     "model_module_version": "1.2.0",
     "model_name": "LayoutModel",
     "state": {
      "_model_module": "@jupyter-widgets/base",
      "_model_module_version": "1.2.0",
      "_model_name": "LayoutModel",
      "_view_count": null,
      "_view_module": "@jupyter-widgets/base",
      "_view_module_version": "1.2.0",
      "_view_name": "LayoutView",
      "align_content": null,
      "align_items": null,
      "align_self": null,
      "border": null,
      "bottom": null,
      "display": null,
      "flex": null,
      "flex_flow": null,
      "grid_area": null,
      "grid_auto_columns": null,
      "grid_auto_flow": null,
      "grid_auto_rows": null,
      "grid_column": null,
      "grid_gap": null,
      "grid_row": null,
      "grid_template_areas": null,
      "grid_template_columns": null,
      "grid_template_rows": null,
      "height": null,
      "justify_content": null,
      "justify_items": null,
      "left": null,
      "margin": null,
      "max_height": null,
      "max_width": null,
      "min_height": null,
      "min_width": null,
      "object_fit": null,
      "object_position": null,
      "order": null,
      "overflow": null,
      "overflow_x": null,
      "overflow_y": null,
      "padding": null,
      "right": null,
      "top": null,
      "visibility": null,
      "width": null
     }
    },
    "311ee09963c646f8866fed7251954c10": {
     "model_module": "@jupyter-widgets/controls",
     "model_module_version": "1.5.0",
     "model_name": "HTMLModel",
     "state": {
      "_dom_classes": [],
      "_model_module": "@jupyter-widgets/controls",
      "_model_module_version": "1.5.0",
      "_model_name": "HTMLModel",
      "_view_count": null,
      "_view_module": "@jupyter-widgets/controls",
      "_view_module_version": "1.5.0",
      "_view_name": "HTMLView",
      "description": "",
      "description_tooltip": null,
      "layout": "IPY_MODEL_2e4be5aa34a84297935fc95f3253b1ff",
      "placeholder": "​",
      "style": "IPY_MODEL_c0f5db8683a54051ba8e09c18b937735",
      "value": " 146k/146k [00:00&lt;00:00, 431kB/s]"
     }
    },
    "35560bdfb97343759e8b194f343e7377": {
     "model_module": "@jupyter-widgets/controls",
     "model_module_version": "1.5.0",
     "model_name": "HTMLModel",
     "state": {
      "_dom_classes": [],
      "_model_module": "@jupyter-widgets/controls",
      "_model_module_version": "1.5.0",
      "_model_name": "HTMLModel",
      "_view_count": null,
      "_view_module": "@jupyter-widgets/controls",
      "_view_module_version": "1.5.0",
      "_view_name": "HTMLView",
      "description": "",
      "description_tooltip": null,
      "layout": "IPY_MODEL_415cbfa6c36d46bc9f269e760c03acb1",
      "placeholder": "​",
      "style": "IPY_MODEL_3e85b50b62244209af90462431fc32d8",
      "value": "replay.mp4: 100%"
     }
    },
    "391f473a1d3e4e2fbb95a89015e5f7bf": {
     "model_module": "@jupyter-widgets/controls",
     "model_module_version": "1.5.0",
     "model_name": "HBoxModel",
     "state": {
      "_dom_classes": [],
      "_model_module": "@jupyter-widgets/controls",
      "_model_module_version": "1.5.0",
      "_model_name": "HBoxModel",
      "_view_count": null,
      "_view_module": "@jupyter-widgets/controls",
      "_view_module_version": "1.5.0",
      "_view_name": "HBoxView",
      "box_style": "",
      "children": [
       "IPY_MODEL_de95f370a2644d79a1b18692393daed9",
       "IPY_MODEL_fd7a614d07bd4c629f419965961730f8",
       "IPY_MODEL_0e4046a1ee004d09a5de6fe25359df9e"
      ],
      "layout": "IPY_MODEL_8d9c72cd5fba4b359595f609918dd618"
     }
    },
    "3e85b50b62244209af90462431fc32d8": {
     "model_module": "@jupyter-widgets/controls",
     "model_module_version": "1.5.0",
     "model_name": "DescriptionStyleModel",
     "state": {
      "_model_module": "@jupyter-widgets/controls",
      "_model_module_version": "1.5.0",
      "_model_name": "DescriptionStyleModel",
      "_view_count": null,
      "_view_module": "@jupyter-widgets/base",
      "_view_module_version": "1.2.0",
      "_view_name": "StyleView",
      "description_width": ""
     }
    },
    "3eed6282686743aa88d26c7415670198": {
     "model_module": "@jupyter-widgets/base",
     "model_module_version": "1.2.0",
     "model_name": "LayoutModel",
     "state": {
      "_model_module": "@jupyter-widgets/base",
      "_model_module_version": "1.2.0",
      "_model_name": "LayoutModel",
      "_view_count": null,
      "_view_module": "@jupyter-widgets/base",
      "_view_module_version": "1.2.0",
      "_view_name": "LayoutView",
      "align_content": null,
      "align_items": null,
      "align_self": null,
      "border": null,
      "bottom": null,
      "display": null,
      "flex": null,
      "flex_flow": null,
      "grid_area": null,
      "grid_auto_columns": null,
      "grid_auto_flow": null,
      "grid_auto_rows": null,
      "grid_column": null,
      "grid_gap": null,
      "grid_row": null,
      "grid_template_areas": null,
      "grid_template_columns": null,
      "grid_template_rows": null,
      "height": null,
      "justify_content": null,
      "justify_items": null,
      "left": null,
      "margin": null,
      "max_height": null,
      "max_width": null,
      "min_height": null,
      "min_width": null,
      "object_fit": null,
      "object_position": null,
      "order": null,
      "overflow": null,
      "overflow_x": null,
      "overflow_y": null,
      "padding": null,
      "right": null,
      "top": null,
      "visibility": null,
      "width": null
     }
    },
    "415cbfa6c36d46bc9f269e760c03acb1": {
     "model_module": "@jupyter-widgets/base",
     "model_module_version": "1.2.0",
     "model_name": "LayoutModel",
     "state": {
      "_model_module": "@jupyter-widgets/base",
      "_model_module_version": "1.2.0",
      "_model_name": "LayoutModel",
      "_view_count": null,
      "_view_module": "@jupyter-widgets/base",
      "_view_module_version": "1.2.0",
      "_view_name": "LayoutView",
      "align_content": null,
      "align_items": null,
      "align_self": null,
      "border": null,
      "bottom": null,
      "display": null,
      "flex": null,
      "flex_flow": null,
      "grid_area": null,
      "grid_auto_columns": null,
      "grid_auto_flow": null,
      "grid_auto_rows": null,
      "grid_column": null,
      "grid_gap": null,
      "grid_row": null,
      "grid_template_areas": null,
      "grid_template_columns": null,
      "grid_template_rows": null,
      "height": null,
      "justify_content": null,
      "justify_items": null,
      "left": null,
      "margin": null,
      "max_height": null,
      "max_width": null,
      "min_height": null,
      "min_width": null,
      "object_fit": null,
      "object_position": null,
      "order": null,
      "overflow": null,
      "overflow_x": null,
      "overflow_y": null,
      "padding": null,
      "right": null,
      "top": null,
      "visibility": null,
      "width": null
     }
    },
    "4a82c737e0984deb9e3bffe62e94d60b": {
     "model_module": "@jupyter-widgets/controls",
     "model_module_version": "1.5.0",
     "model_name": "LabelModel",
     "state": {
      "_dom_classes": [],
      "_model_module": "@jupyter-widgets/controls",
      "_model_module_version": "1.5.0",
      "_model_name": "LabelModel",
      "_view_count": null,
      "_view_module": "@jupyter-widgets/controls",
      "_view_module_version": "1.5.0",
      "_view_name": "LabelView",
      "description": "",
      "description_tooltip": null,
      "layout": "IPY_MODEL_f19dfe5c1b2848de96a3d3601916cc7c",
      "placeholder": "​",
      "style": "IPY_MODEL_6dc937b73756450daec9b3c59e8332b1",
      "value": "Your token has been saved in your configured git credential helpers (store)."
     }
    },
    "4bcce309087643a1982cbf898736e842": {
     "model_module": "@jupyter-widgets/controls",
     "model_module_version": "1.5.0",
     "model_name": "LabelModel",
     "state": {
      "_dom_classes": [],
      "_model_module": "@jupyter-widgets/controls",
      "_model_module_version": "1.5.0",
      "_model_name": "LabelModel",
      "_view_count": null,
      "_view_module": "@jupyter-widgets/controls",
      "_view_module_version": "1.5.0",
      "_view_name": "LabelView",
      "description": "",
      "description_tooltip": null,
      "layout": "IPY_MODEL_f12dfb7c74124ddb8c5339756ed5d14c",
      "placeholder": "​",
      "style": "IPY_MODEL_0d65dee0591c421eaade75278e889de4",
      "value": "Token is valid (permission: write)."
     }
    },
    "4e7672f426674a32adcd749b24d45c6d": {
     "model_module": "@jupyter-widgets/base",
     "model_module_version": "1.2.0",
     "model_name": "LayoutModel",
     "state": {
      "_model_module": "@jupyter-widgets/base",
      "_model_module_version": "1.2.0",
      "_model_name": "LayoutModel",
      "_view_count": null,
      "_view_module": "@jupyter-widgets/base",
      "_view_module_version": "1.2.0",
      "_view_name": "LayoutView",
      "align_content": null,
      "align_items": null,
      "align_self": null,
      "border": null,
      "bottom": null,
      "display": null,
      "flex": null,
      "flex_flow": null,
      "grid_area": null,
      "grid_auto_columns": null,
      "grid_auto_flow": null,
      "grid_auto_rows": null,
      "grid_column": null,
      "grid_gap": null,
      "grid_row": null,
      "grid_template_areas": null,
      "grid_template_columns": null,
      "grid_template_rows": null,
      "height": null,
      "justify_content": null,
      "justify_items": null,
      "left": null,
      "margin": null,
      "max_height": null,
      "max_width": null,
      "min_height": null,
      "min_width": null,
      "object_fit": null,
      "object_position": null,
      "order": null,
      "overflow": null,
      "overflow_x": null,
      "overflow_y": null,
      "padding": null,
      "right": null,
      "top": null,
      "visibility": null,
      "width": null
     }
    },
    "64d2d28c8d294e518d75900b5193cbab": {
     "model_module": "@jupyter-widgets/base",
     "model_module_version": "1.2.0",
     "model_name": "LayoutModel",
     "state": {
      "_model_module": "@jupyter-widgets/base",
      "_model_module_version": "1.2.0",
      "_model_name": "LayoutModel",
      "_view_count": null,
      "_view_module": "@jupyter-widgets/base",
      "_view_module_version": "1.2.0",
      "_view_name": "LayoutView",
      "align_content": null,
      "align_items": null,
      "align_self": null,
      "border": null,
      "bottom": null,
      "display": null,
      "flex": null,
      "flex_flow": null,
      "grid_area": null,
      "grid_auto_columns": null,
      "grid_auto_flow": null,
      "grid_auto_rows": null,
      "grid_column": null,
      "grid_gap": null,
      "grid_row": null,
      "grid_template_areas": null,
      "grid_template_columns": null,
      "grid_template_rows": null,
      "height": null,
      "justify_content": null,
      "justify_items": null,
      "left": null,
      "margin": null,
      "max_height": null,
      "max_width": null,
      "min_height": null,
      "min_width": null,
      "object_fit": null,
      "object_position": null,
      "order": null,
      "overflow": null,
      "overflow_x": null,
      "overflow_y": null,
      "padding": null,
      "right": null,
      "top": null,
      "visibility": null,
      "width": null
     }
    },
    "65ac3f1c152b41c18ef1f95f493b227e": {
     "model_module": "@jupyter-widgets/controls",
     "model_module_version": "1.5.0",
     "model_name": "CheckboxModel",
     "state": {
      "_dom_classes": [],
      "_model_module": "@jupyter-widgets/controls",
      "_model_module_version": "1.5.0",
      "_model_name": "CheckboxModel",
      "_view_count": null,
      "_view_module": "@jupyter-widgets/controls",
      "_view_module_version": "1.5.0",
      "_view_name": "CheckboxView",
      "description": "Add token as git credential?",
      "description_tooltip": null,
      "disabled": false,
      "indent": true,
      "layout": "IPY_MODEL_7d958616100c462b81ba2441e6c9cd16",
      "style": "IPY_MODEL_bc07f5e200c144f0bfc6be1dd67501f6",
      "value": true
     }
    },
    "67878ea260a544baa780e44da6616bea": {
     "model_module": "@jupyter-widgets/base",
     "model_module_version": "1.2.0",
     "model_name": "LayoutModel",
     "state": {
      "_model_module": "@jupyter-widgets/base",
      "_model_module_version": "1.2.0",
      "_model_name": "LayoutModel",
      "_view_count": null,
      "_view_module": "@jupyter-widgets/base",
      "_view_module_version": "1.2.0",
      "_view_name": "LayoutView",
      "align_content": null,
      "align_items": null,
      "align_self": null,
      "border": null,
      "bottom": null,
      "display": null,
      "flex": null,
      "flex_flow": null,
      "grid_area": null,
      "grid_auto_columns": null,
      "grid_auto_flow": null,
      "grid_auto_rows": null,
      "grid_column": null,
      "grid_gap": null,
      "grid_row": null,
      "grid_template_areas": null,
      "grid_template_columns": null,
      "grid_template_rows": null,
      "height": null,
      "justify_content": null,
      "justify_items": null,
      "left": null,
      "margin": null,
      "max_height": null,
      "max_width": null,
      "min_height": null,
      "min_width": null,
      "object_fit": null,
      "object_position": null,
      "order": null,
      "overflow": null,
      "overflow_x": null,
      "overflow_y": null,
      "padding": null,
      "right": null,
      "top": null,
      "visibility": null,
      "width": null
     }
    },
    "67b07c3edb5a41e7adf557a320cd594f": {
     "model_module": "@jupyter-widgets/controls",
     "model_module_version": "1.5.0",
     "model_name": "FloatProgressModel",
     "state": {
      "_dom_classes": [],
      "_model_module": "@jupyter-widgets/controls",
      "_model_module_version": "1.5.0",
      "_model_name": "FloatProgressModel",
      "_view_count": null,
      "_view_module": "@jupyter-widgets/controls",
      "_view_module_version": "1.5.0",
      "_view_name": "ProgressView",
      "bar_style": "success",
      "description": "",
      "description_tooltip": null,
      "layout": "IPY_MODEL_3eed6282686743aa88d26c7415670198",
      "max": 2,
      "min": 0,
      "orientation": "horizontal",
      "style": "IPY_MODEL_927c65b5f12340afb35c073a25854efb",
      "value": 2
     }
    },
    "67c06224c2ab4d299279893dfd9f50c9": {
     "model_module": "@jupyter-widgets/controls",
     "model_module_version": "1.5.0",
     "model_name": "DescriptionStyleModel",
     "state": {
      "_model_module": "@jupyter-widgets/controls",
      "_model_module_version": "1.5.0",
      "_model_name": "DescriptionStyleModel",
      "_view_count": null,
      "_view_module": "@jupyter-widgets/base",
      "_view_module_version": "1.2.0",
      "_view_name": "StyleView",
      "description_width": ""
     }
    },
    "691c9c940faa4d1c8458cd69d4a6314a": {
     "model_module": "@jupyter-widgets/controls",
     "model_module_version": "1.5.0",
     "model_name": "LabelModel",
     "state": {
      "_dom_classes": [],
      "_model_module": "@jupyter-widgets/controls",
      "_model_module_version": "1.5.0",
      "_model_name": "LabelModel",
      "_view_count": null,
      "_view_module": "@jupyter-widgets/controls",
      "_view_module_version": "1.5.0",
      "_view_name": "LabelView",
      "description": "",
      "description_tooltip": null,
      "layout": "IPY_MODEL_dbc54c1695d149c6ae11fbe20f8652df",
      "placeholder": "​",
      "style": "IPY_MODEL_67c06224c2ab4d299279893dfd9f50c9",
      "value": "Connecting..."
     }
    },
    "6d2d1b203e3344d88f5134441ec1b567": {
     "model_module": "@jupyter-widgets/controls",
     "model_module_version": "1.5.0",
     "model_name": "LabelModel",
     "state": {
      "_dom_classes": [],
      "_model_module": "@jupyter-widgets/controls",
      "_model_module_version": "1.5.0",
      "_model_name": "LabelModel",
      "_view_count": null,
      "_view_module": "@jupyter-widgets/controls",
      "_view_module_version": "1.5.0",
      "_view_name": "LabelView",
      "description": "",
      "description_tooltip": null,
      "layout": "IPY_MODEL_754e0c2a4ecb4de895df76e10cde16ef",
      "placeholder": "​",
      "style": "IPY_MODEL_1c408b269a914663bd8c6c00d3b0ed4a",
      "value": "Your token has been saved to /root/.cache/huggingface/token"
     }
    },
    "6dc937b73756450daec9b3c59e8332b1": {
     "model_module": "@jupyter-widgets/controls",
     "model_module_version": "1.5.0",
     "model_name": "DescriptionStyleModel",
     "state": {
      "_model_module": "@jupyter-widgets/controls",
      "_model_module_version": "1.5.0",
      "_model_name": "DescriptionStyleModel",
      "_view_count": null,
      "_view_module": "@jupyter-widgets/base",
      "_view_module_version": "1.2.0",
      "_view_name": "StyleView",
      "description_width": ""
     }
    },
    "754e0c2a4ecb4de895df76e10cde16ef": {
     "model_module": "@jupyter-widgets/base",
     "model_module_version": "1.2.0",
     "model_name": "LayoutModel",
     "state": {
      "_model_module": "@jupyter-widgets/base",
      "_model_module_version": "1.2.0",
      "_model_name": "LayoutModel",
      "_view_count": null,
      "_view_module": "@jupyter-widgets/base",
      "_view_module_version": "1.2.0",
      "_view_name": "LayoutView",
      "align_content": null,
      "align_items": null,
      "align_self": null,
      "border": null,
      "bottom": null,
      "display": null,
      "flex": null,
      "flex_flow": null,
      "grid_area": null,
      "grid_auto_columns": null,
      "grid_auto_flow": null,
      "grid_auto_rows": null,
      "grid_column": null,
      "grid_gap": null,
      "grid_row": null,
      "grid_template_areas": null,
      "grid_template_columns": null,
      "grid_template_rows": null,
      "height": null,
      "justify_content": null,
      "justify_items": null,
      "left": null,
      "margin": null,
      "max_height": null,
      "max_width": null,
      "min_height": null,
      "min_width": null,
      "object_fit": null,
      "object_position": null,
      "order": null,
      "overflow": null,
      "overflow_x": null,
      "overflow_y": null,
      "padding": null,
      "right": null,
      "top": null,
      "visibility": null,
      "width": null
     }
    },
    "7617909aea4e45429c7e03f7cca25fd7": {
     "model_module": "@jupyter-widgets/controls",
     "model_module_version": "1.5.0",
     "model_name": "ButtonModel",
     "state": {
      "_dom_classes": [],
      "_model_module": "@jupyter-widgets/controls",
      "_model_module_version": "1.5.0",
      "_model_name": "ButtonModel",
      "_view_count": null,
      "_view_module": "@jupyter-widgets/controls",
      "_view_module_version": "1.5.0",
      "_view_name": "ButtonView",
      "button_style": "",
      "description": "Login",
      "disabled": false,
      "icon": "",
      "layout": "IPY_MODEL_fd40b11f0ba942ae97d4e2ce376b1e3b",
      "style": "IPY_MODEL_a965c6a74a4d4a17bef4ab2e036abaff",
      "tooltip": ""
     }
    },
    "7688f0b367484ab8b3e4e7359a5642d5": {
     "model_module": "@jupyter-widgets/base",
     "model_module_version": "1.2.0",
     "model_name": "LayoutModel",
     "state": {
      "_model_module": "@jupyter-widgets/base",
      "_model_module_version": "1.2.0",
      "_model_name": "LayoutModel",
      "_view_count": null,
      "_view_module": "@jupyter-widgets/base",
      "_view_module_version": "1.2.0",
      "_view_name": "LayoutView",
      "align_content": null,
      "align_items": null,
      "align_self": null,
      "border": null,
      "bottom": null,
      "display": null,
      "flex": null,
      "flex_flow": null,
      "grid_area": null,
      "grid_auto_columns": null,
      "grid_auto_flow": null,
      "grid_auto_rows": null,
      "grid_column": null,
      "grid_gap": null,
      "grid_row": null,
      "grid_template_areas": null,
      "grid_template_columns": null,
      "grid_template_rows": null,
      "height": null,
      "justify_content": null,
      "justify_items": null,
      "left": null,
      "margin": null,
      "max_height": null,
      "max_width": null,
      "min_height": null,
      "min_width": null,
      "object_fit": null,
      "object_position": null,
      "order": null,
      "overflow": null,
      "overflow_x": null,
      "overflow_y": null,
      "padding": null,
      "right": null,
      "top": null,
      "visibility": null,
      "width": null
     }
    },
    "7696f605258941e291fc4b347e796dc3": {
     "model_module": "@jupyter-widgets/controls",
     "model_module_version": "1.5.0",
     "model_name": "HTMLModel",
     "state": {
      "_dom_classes": [],
      "_model_module": "@jupyter-widgets/controls",
      "_model_module_version": "1.5.0",
      "_model_name": "HTMLModel",
      "_view_count": null,
      "_view_module": "@jupyter-widgets/controls",
      "_view_module_version": "1.5.0",
      "_view_name": "HTMLView",
      "description": "",
      "description_tooltip": null,
      "layout": "IPY_MODEL_913b9c9d13394149a5ac2b25714e53ca",
      "placeholder": "​",
      "style": "IPY_MODEL_2792bfde7dec44b7863fb34dcfd76003",
      "value": "\n<b>Pro Tip:</b> If you don't already have one, you can create a dedicated\n'notebooks' token with 'write' access, that you can then easily reuse for all\nnotebooks. </center>"
     }
    },
    "7d958616100c462b81ba2441e6c9cd16": {
     "model_module": "@jupyter-widgets/base",
     "model_module_version": "1.2.0",
     "model_name": "LayoutModel",
     "state": {
      "_model_module": "@jupyter-widgets/base",
      "_model_module_version": "1.2.0",
      "_model_name": "LayoutModel",
      "_view_count": null,
      "_view_module": "@jupyter-widgets/base",
      "_view_module_version": "1.2.0",
      "_view_name": "LayoutView",
      "align_content": null,
      "align_items": null,
      "align_self": null,
      "border": null,
      "bottom": null,
      "display": null,
      "flex": null,
      "flex_flow": null,
      "grid_area": null,
      "grid_auto_columns": null,
      "grid_auto_flow": null,
      "grid_auto_rows": null,
      "grid_column": null,
      "grid_gap": null,
      "grid_row": null,
      "grid_template_areas": null,
      "grid_template_columns": null,
      "grid_template_rows": null,
      "height": null,
      "justify_content": null,
      "justify_items": null,
      "left": null,
      "margin": null,
      "max_height": null,
      "max_width": null,
      "min_height": null,
      "min_width": null,
      "object_fit": null,
      "object_position": null,
      "order": null,
      "overflow": null,
      "overflow_x": null,
      "overflow_y": null,
      "padding": null,
      "right": null,
      "top": null,
      "visibility": null,
      "width": null
     }
    },
    "8c6d30bc5ada4f6a989ec5cd06a152a3": {
     "model_module": "@jupyter-widgets/controls",
     "model_module_version": "1.5.0",
     "model_name": "HBoxModel",
     "state": {
      "_dom_classes": [],
      "_model_module": "@jupyter-widgets/controls",
      "_model_module_version": "1.5.0",
      "_model_name": "HBoxModel",
      "_view_count": null,
      "_view_module": "@jupyter-widgets/controls",
      "_view_module_version": "1.5.0",
      "_view_name": "HBoxView",
      "box_style": "",
      "children": [
       "IPY_MODEL_8cdda61684e34019af451e5e8d0aba5d",
       "IPY_MODEL_67b07c3edb5a41e7adf557a320cd594f",
       "IPY_MODEL_f5dc0ad331fa4d7f80d8b608b60c9e44"
      ],
      "layout": "IPY_MODEL_f36e66d04b7c48709ae886e78601eaf0"
     }
    },
    "8cdda61684e34019af451e5e8d0aba5d": {
     "model_module": "@jupyter-widgets/controls",
     "model_module_version": "1.5.0",
     "model_name": "HTMLModel",
     "state": {
      "_dom_classes": [],
      "_model_module": "@jupyter-widgets/controls",
      "_model_module_version": "1.5.0",
      "_model_name": "HTMLModel",
      "_view_count": null,
      "_view_module": "@jupyter-widgets/controls",
      "_view_module_version": "1.5.0",
      "_view_name": "HTMLView",
      "description": "",
      "description_tooltip": null,
      "layout": "IPY_MODEL_f0e2ae53f45d4f61a28092303f8c2368",
      "placeholder": "​",
      "style": "IPY_MODEL_ff486779d1754ada97cd7ceb16389967",
      "value": "Upload 2 LFS files: 100%"
     }
    },
    "8d9c72cd5fba4b359595f609918dd618": {
     "model_module": "@jupyter-widgets/base",
     "model_module_version": "1.2.0",
     "model_name": "LayoutModel",
     "state": {
      "_model_module": "@jupyter-widgets/base",
      "_model_module_version": "1.2.0",
      "_model_name": "LayoutModel",
      "_view_count": null,
      "_view_module": "@jupyter-widgets/base",
      "_view_module_version": "1.2.0",
      "_view_name": "LayoutView",
      "align_content": null,
      "align_items": null,
      "align_self": null,
      "border": null,
      "bottom": null,
      "display": null,
      "flex": null,
      "flex_flow": null,
      "grid_area": null,
      "grid_auto_columns": null,
      "grid_auto_flow": null,
      "grid_auto_rows": null,
      "grid_column": null,
      "grid_gap": null,
      "grid_row": null,
      "grid_template_areas": null,
      "grid_template_columns": null,
      "grid_template_rows": null,
      "height": null,
      "justify_content": null,
      "justify_items": null,
      "left": null,
      "margin": null,
      "max_height": null,
      "max_width": null,
      "min_height": null,
      "min_width": null,
      "object_fit": null,
      "object_position": null,
      "order": null,
      "overflow": null,
      "overflow_x": null,
      "overflow_y": null,
      "padding": null,
      "right": null,
      "top": null,
      "visibility": null,
      "width": null
     }
    },
    "913b9c9d13394149a5ac2b25714e53ca": {
     "model_module": "@jupyter-widgets/base",
     "model_module_version": "1.2.0",
     "model_name": "LayoutModel",
     "state": {
      "_model_module": "@jupyter-widgets/base",
      "_model_module_version": "1.2.0",
      "_model_name": "LayoutModel",
      "_view_count": null,
      "_view_module": "@jupyter-widgets/base",
      "_view_module_version": "1.2.0",
      "_view_name": "LayoutView",
      "align_content": null,
      "align_items": null,
      "align_self": null,
      "border": null,
      "bottom": null,
      "display": null,
      "flex": null,
      "flex_flow": null,
      "grid_area": null,
      "grid_auto_columns": null,
      "grid_auto_flow": null,
      "grid_auto_rows": null,
      "grid_column": null,
      "grid_gap": null,
      "grid_row": null,
      "grid_template_areas": null,
      "grid_template_columns": null,
      "grid_template_rows": null,
      "height": null,
      "justify_content": null,
      "justify_items": null,
      "left": null,
      "margin": null,
      "max_height": null,
      "max_width": null,
      "min_height": null,
      "min_width": null,
      "object_fit": null,
      "object_position": null,
      "order": null,
      "overflow": null,
      "overflow_x": null,
      "overflow_y": null,
      "padding": null,
      "right": null,
      "top": null,
      "visibility": null,
      "width": null
     }
    },
    "927c65b5f12340afb35c073a25854efb": {
     "model_module": "@jupyter-widgets/controls",
     "model_module_version": "1.5.0",
     "model_name": "ProgressStyleModel",
     "state": {
      "_model_module": "@jupyter-widgets/controls",
      "_model_module_version": "1.5.0",
      "_model_name": "ProgressStyleModel",
      "_view_count": null,
      "_view_module": "@jupyter-widgets/base",
      "_view_module_version": "1.2.0",
      "_view_name": "StyleView",
      "bar_color": null,
      "description_width": ""
     }
    },
    "97a1ba6ceea74b89b6a482d629d8881c": {
     "model_module": "@jupyter-widgets/controls",
     "model_module_version": "1.5.0",
     "model_name": "HBoxModel",
     "state": {
      "_dom_classes": [],
      "_model_module": "@jupyter-widgets/controls",
      "_model_module_version": "1.5.0",
      "_model_name": "HBoxModel",
      "_view_count": null,
      "_view_module": "@jupyter-widgets/controls",
      "_view_module_version": "1.5.0",
      "_view_name": "HBoxView",
      "box_style": "",
      "children": [
       "IPY_MODEL_35560bdfb97343759e8b194f343e7377",
       "IPY_MODEL_e253b23702bb498ca25ce8d54a33e795",
       "IPY_MODEL_311ee09963c646f8866fed7251954c10"
      ],
      "layout": "IPY_MODEL_e0d645e8ccd3452481e7676bf34b06f1"
     }
    },
    "a0c9daf9dad84703bd57e30b02b6c362": {
     "model_module": "@jupyter-widgets/base",
     "model_module_version": "1.2.0",
     "model_name": "LayoutModel",
     "state": {
      "_model_module": "@jupyter-widgets/base",
      "_model_module_version": "1.2.0",
      "_model_name": "LayoutModel",
      "_view_count": null,
      "_view_module": "@jupyter-widgets/base",
      "_view_module_version": "1.2.0",
      "_view_name": "LayoutView",
      "align_content": null,
      "align_items": null,
      "align_self": null,
      "border": null,
      "bottom": null,
      "display": null,
      "flex": null,
      "flex_flow": null,
      "grid_area": null,
      "grid_auto_columns": null,
      "grid_auto_flow": null,
      "grid_auto_rows": null,
      "grid_column": null,
      "grid_gap": null,
      "grid_row": null,
      "grid_template_areas": null,
      "grid_template_columns": null,
      "grid_template_rows": null,
      "height": null,
      "justify_content": null,
      "justify_items": null,
      "left": null,
      "margin": null,
      "max_height": null,
      "max_width": null,
      "min_height": null,
      "min_width": null,
      "object_fit": null,
      "object_position": null,
      "order": null,
      "overflow": null,
      "overflow_x": null,
      "overflow_y": null,
      "padding": null,
      "right": null,
      "top": null,
      "visibility": null,
      "width": null
     }
    },
    "a965c6a74a4d4a17bef4ab2e036abaff": {
     "model_module": "@jupyter-widgets/controls",
     "model_module_version": "1.5.0",
     "model_name": "ButtonStyleModel",
     "state": {
      "_model_module": "@jupyter-widgets/controls",
      "_model_module_version": "1.5.0",
      "_model_name": "ButtonStyleModel",
      "_view_count": null,
      "_view_module": "@jupyter-widgets/base",
      "_view_module_version": "1.2.0",
      "_view_name": "StyleView",
      "button_color": null,
      "font_weight": ""
     }
    },
    "ab566bdbbd564393a5355afb61470a2a": {
     "model_module": "@jupyter-widgets/controls",
     "model_module_version": "1.5.0",
     "model_name": "DescriptionStyleModel",
     "state": {
      "_model_module": "@jupyter-widgets/controls",
      "_model_module_version": "1.5.0",
      "_model_name": "DescriptionStyleModel",
      "_view_count": null,
      "_view_module": "@jupyter-widgets/base",
      "_view_module_version": "1.2.0",
      "_view_name": "StyleView",
      "description_width": ""
     }
    },
    "b25775e2ed9142b79e16556dfa8e44b7": {
     "model_module": "@jupyter-widgets/controls",
     "model_module_version": "1.5.0",
     "model_name": "ProgressStyleModel",
     "state": {
      "_model_module": "@jupyter-widgets/controls",
      "_model_module_version": "1.5.0",
      "_model_name": "ProgressStyleModel",
      "_view_count": null,
      "_view_module": "@jupyter-widgets/base",
      "_view_module_version": "1.2.0",
      "_view_name": "StyleView",
      "bar_color": null,
      "description_width": ""
     }
    },
    "baea74c5772849778d1d06bb3edc275e": {
     "model_module": "@jupyter-widgets/controls",
     "model_module_version": "1.5.0",
     "model_name": "HTMLModel",
     "state": {
      "_dom_classes": [],
      "_model_module": "@jupyter-widgets/controls",
      "_model_module_version": "1.5.0",
      "_model_name": "HTMLModel",
      "_view_count": null,
      "_view_module": "@jupyter-widgets/controls",
      "_view_module_version": "1.5.0",
      "_view_name": "HTMLView",
      "description": "",
      "description_tooltip": null,
      "layout": "IPY_MODEL_a0c9daf9dad84703bd57e30b02b6c362",
      "placeholder": "​",
      "style": "IPY_MODEL_cb7ec37a494344278e5dcede2409fec8",
      "value": "<center> <img\nsrc=https://huggingface.co/front/assets/huggingface_logo-noborder.svg\nalt='Hugging Face'> <br> Copy a token from <a\nhref=\"https://huggingface.co/settings/tokens\" target=\"_blank\">your Hugging Face\ntokens page</a> and paste it below. <br> Immediately click login after copying\nyour token or it might be stored in plain text in this notebook file. </center>"
     }
    },
    "bc07f5e200c144f0bfc6be1dd67501f6": {
     "model_module": "@jupyter-widgets/controls",
     "model_module_version": "1.5.0",
     "model_name": "DescriptionStyleModel",
     "state": {
      "_model_module": "@jupyter-widgets/controls",
      "_model_module_version": "1.5.0",
      "_model_name": "DescriptionStyleModel",
      "_view_count": null,
      "_view_module": "@jupyter-widgets/base",
      "_view_module_version": "1.2.0",
      "_view_name": "StyleView",
      "description_width": ""
     }
    },
    "c0f5db8683a54051ba8e09c18b937735": {
     "model_module": "@jupyter-widgets/controls",
     "model_module_version": "1.5.0",
     "model_name": "DescriptionStyleModel",
     "state": {
      "_model_module": "@jupyter-widgets/controls",
      "_model_module_version": "1.5.0",
      "_model_name": "DescriptionStyleModel",
      "_view_count": null,
      "_view_module": "@jupyter-widgets/base",
      "_view_module_version": "1.2.0",
      "_view_name": "StyleView",
      "description_width": ""
     }
    },
    "c32973a22ccd4f6bb4e54a47a1171065": {
     "model_module": "@jupyter-widgets/base",
     "model_module_version": "1.2.0",
     "model_name": "LayoutModel",
     "state": {
      "_model_module": "@jupyter-widgets/base",
      "_model_module_version": "1.2.0",
      "_model_name": "LayoutModel",
      "_view_count": null,
      "_view_module": "@jupyter-widgets/base",
      "_view_module_version": "1.2.0",
      "_view_name": "LayoutView",
      "align_content": null,
      "align_items": null,
      "align_self": null,
      "border": null,
      "bottom": null,
      "display": null,
      "flex": null,
      "flex_flow": null,
      "grid_area": null,
      "grid_auto_columns": null,
      "grid_auto_flow": null,
      "grid_auto_rows": null,
      "grid_column": null,
      "grid_gap": null,
      "grid_row": null,
      "grid_template_areas": null,
      "grid_template_columns": null,
      "grid_template_rows": null,
      "height": null,
      "justify_content": null,
      "justify_items": null,
      "left": null,
      "margin": null,
      "max_height": null,
      "max_width": null,
      "min_height": null,
      "min_width": null,
      "object_fit": null,
      "object_position": null,
      "order": null,
      "overflow": null,
      "overflow_x": null,
      "overflow_y": null,
      "padding": null,
      "right": null,
      "top": null,
      "visibility": null,
      "width": null
     }
    },
    "cb7ec37a494344278e5dcede2409fec8": {
     "model_module": "@jupyter-widgets/controls",
     "model_module_version": "1.5.0",
     "model_name": "DescriptionStyleModel",
     "state": {
      "_model_module": "@jupyter-widgets/controls",
      "_model_module_version": "1.5.0",
      "_model_name": "DescriptionStyleModel",
      "_view_count": null,
      "_view_module": "@jupyter-widgets/base",
      "_view_module_version": "1.2.0",
      "_view_name": "StyleView",
      "description_width": ""
     }
    },
    "cbb8e24978294ea0a9ee3e3e637d4c6f": {
     "model_module": "@jupyter-widgets/controls",
     "model_module_version": "1.5.0",
     "model_name": "PasswordModel",
     "state": {
      "_dom_classes": [],
      "_model_module": "@jupyter-widgets/controls",
      "_model_module_version": "1.5.0",
      "_model_name": "PasswordModel",
      "_view_count": null,
      "_view_module": "@jupyter-widgets/controls",
      "_view_module_version": "1.5.0",
      "_view_name": "PasswordView",
      "continuous_update": true,
      "description": "Token:",
      "description_tooltip": null,
      "disabled": false,
      "layout": "IPY_MODEL_0ebe55af4f694e12997eba593291c69d",
      "placeholder": "​",
      "style": "IPY_MODEL_fcf67a330d7f4c03815abb9b50664256",
      "value": ""
     }
    },
    "d37f751babc649bfac92a80d2fef5b87": {
     "model_module": "@jupyter-widgets/base",
     "model_module_version": "1.2.0",
     "model_name": "LayoutModel",
     "state": {
      "_model_module": "@jupyter-widgets/base",
      "_model_module_version": "1.2.0",
      "_model_name": "LayoutModel",
      "_view_count": null,
      "_view_module": "@jupyter-widgets/base",
      "_view_module_version": "1.2.0",
      "_view_name": "LayoutView",
      "align_content": null,
      "align_items": "center",
      "align_self": null,
      "border": null,
      "bottom": null,
      "display": "flex",
      "flex": null,
      "flex_flow": "column",
      "grid_area": null,
      "grid_auto_columns": null,
      "grid_auto_flow": null,
      "grid_auto_rows": null,
      "grid_column": null,
      "grid_gap": null,
      "grid_row": null,
      "grid_template_areas": null,
      "grid_template_columns": null,
      "grid_template_rows": null,
      "height": null,
      "justify_content": null,
      "justify_items": null,
      "left": null,
      "margin": null,
      "max_height": null,
      "max_width": null,
      "min_height": null,
      "min_width": null,
      "object_fit": null,
      "object_position": null,
      "order": null,
      "overflow": null,
      "overflow_x": null,
      "overflow_y": null,
      "padding": null,
      "right": null,
      "top": null,
      "visibility": null,
      "width": "50%"
     }
    },
    "dbc54c1695d149c6ae11fbe20f8652df": {
     "model_module": "@jupyter-widgets/base",
     "model_module_version": "1.2.0",
     "model_name": "LayoutModel",
     "state": {
      "_model_module": "@jupyter-widgets/base",
      "_model_module_version": "1.2.0",
      "_model_name": "LayoutModel",
      "_view_count": null,
      "_view_module": "@jupyter-widgets/base",
      "_view_module_version": "1.2.0",
      "_view_name": "LayoutView",
      "align_content": null,
      "align_items": null,
      "align_self": null,
      "border": null,
      "bottom": null,
      "display": null,
      "flex": null,
      "flex_flow": null,
      "grid_area": null,
      "grid_auto_columns": null,
      "grid_auto_flow": null,
      "grid_auto_rows": null,
      "grid_column": null,
      "grid_gap": null,
      "grid_row": null,
      "grid_template_areas": null,
      "grid_template_columns": null,
      "grid_template_rows": null,
      "height": null,
      "justify_content": null,
      "justify_items": null,
      "left": null,
      "margin": null,
      "max_height": null,
      "max_width": null,
      "min_height": null,
      "min_width": null,
      "object_fit": null,
      "object_position": null,
      "order": null,
      "overflow": null,
      "overflow_x": null,
      "overflow_y": null,
      "padding": null,
      "right": null,
      "top": null,
      "visibility": null,
      "width": null
     }
    },
    "de95f370a2644d79a1b18692393daed9": {
     "model_module": "@jupyter-widgets/controls",
     "model_module_version": "1.5.0",
     "model_name": "HTMLModel",
     "state": {
      "_dom_classes": [],
      "_model_module": "@jupyter-widgets/controls",
      "_model_module_version": "1.5.0",
      "_model_name": "HTMLModel",
      "_view_count": null,
      "_view_module": "@jupyter-widgets/controls",
      "_view_module_version": "1.5.0",
      "_view_name": "HTMLView",
      "description": "",
      "description_tooltip": null,
      "layout": "IPY_MODEL_c32973a22ccd4f6bb4e54a47a1171065",
      "placeholder": "​",
      "style": "IPY_MODEL_fca263ee57744f4d8d451715904d9790",
      "value": "dqn-LunarLander-v2.zip: 100%"
     }
    },
    "e0d645e8ccd3452481e7676bf34b06f1": {
     "model_module": "@jupyter-widgets/base",
     "model_module_version": "1.2.0",
     "model_name": "LayoutModel",
     "state": {
      "_model_module": "@jupyter-widgets/base",
      "_model_module_version": "1.2.0",
      "_model_name": "LayoutModel",
      "_view_count": null,
      "_view_module": "@jupyter-widgets/base",
      "_view_module_version": "1.2.0",
      "_view_name": "LayoutView",
      "align_content": null,
      "align_items": null,
      "align_self": null,
      "border": null,
      "bottom": null,
      "display": null,
      "flex": null,
      "flex_flow": null,
      "grid_area": null,
      "grid_auto_columns": null,
      "grid_auto_flow": null,
      "grid_auto_rows": null,
      "grid_column": null,
      "grid_gap": null,
      "grid_row": null,
      "grid_template_areas": null,
      "grid_template_columns": null,
      "grid_template_rows": null,
      "height": null,
      "justify_content": null,
      "justify_items": null,
      "left": null,
      "margin": null,
      "max_height": null,
      "max_width": null,
      "min_height": null,
      "min_width": null,
      "object_fit": null,
      "object_position": null,
      "order": null,
      "overflow": null,
      "overflow_x": null,
      "overflow_y": null,
      "padding": null,
      "right": null,
      "top": null,
      "visibility": null,
      "width": null
     }
    },
    "e253b23702bb498ca25ce8d54a33e795": {
     "model_module": "@jupyter-widgets/controls",
     "model_module_version": "1.5.0",
     "model_name": "FloatProgressModel",
     "state": {
      "_dom_classes": [],
      "_model_module": "@jupyter-widgets/controls",
      "_model_module_version": "1.5.0",
      "_model_name": "FloatProgressModel",
      "_view_count": null,
      "_view_module": "@jupyter-widgets/controls",
      "_view_module_version": "1.5.0",
      "_view_name": "ProgressView",
      "bar_style": "success",
      "description": "",
      "description_tooltip": null,
      "layout": "IPY_MODEL_67878ea260a544baa780e44da6616bea",
      "max": 146324,
      "min": 0,
      "orientation": "horizontal",
      "style": "IPY_MODEL_b25775e2ed9142b79e16556dfa8e44b7",
      "value": 146324
     }
    },
    "f0e2ae53f45d4f61a28092303f8c2368": {
     "model_module": "@jupyter-widgets/base",
     "model_module_version": "1.2.0",
     "model_name": "LayoutModel",
     "state": {
      "_model_module": "@jupyter-widgets/base",
      "_model_module_version": "1.2.0",
      "_model_name": "LayoutModel",
      "_view_count": null,
      "_view_module": "@jupyter-widgets/base",
      "_view_module_version": "1.2.0",
      "_view_name": "LayoutView",
      "align_content": null,
      "align_items": null,
      "align_self": null,
      "border": null,
      "bottom": null,
      "display": null,
      "flex": null,
      "flex_flow": null,
      "grid_area": null,
      "grid_auto_columns": null,
      "grid_auto_flow": null,
      "grid_auto_rows": null,
      "grid_column": null,
      "grid_gap": null,
      "grid_row": null,
      "grid_template_areas": null,
      "grid_template_columns": null,
      "grid_template_rows": null,
      "height": null,
      "justify_content": null,
      "justify_items": null,
      "left": null,
      "margin": null,
      "max_height": null,
      "max_width": null,
      "min_height": null,
      "min_width": null,
      "object_fit": null,
      "object_position": null,
      "order": null,
      "overflow": null,
      "overflow_x": null,
      "overflow_y": null,
      "padding": null,
      "right": null,
      "top": null,
      "visibility": null,
      "width": null
     }
    },
    "f12dfb7c74124ddb8c5339756ed5d14c": {
     "model_module": "@jupyter-widgets/base",
     "model_module_version": "1.2.0",
     "model_name": "LayoutModel",
     "state": {
      "_model_module": "@jupyter-widgets/base",
      "_model_module_version": "1.2.0",
      "_model_name": "LayoutModel",
      "_view_count": null,
      "_view_module": "@jupyter-widgets/base",
      "_view_module_version": "1.2.0",
      "_view_name": "LayoutView",
      "align_content": null,
      "align_items": null,
      "align_self": null,
      "border": null,
      "bottom": null,
      "display": null,
      "flex": null,
      "flex_flow": null,
      "grid_area": null,
      "grid_auto_columns": null,
      "grid_auto_flow": null,
      "grid_auto_rows": null,
      "grid_column": null,
      "grid_gap": null,
      "grid_row": null,
      "grid_template_areas": null,
      "grid_template_columns": null,
      "grid_template_rows": null,
      "height": null,
      "justify_content": null,
      "justify_items": null,
      "left": null,
      "margin": null,
      "max_height": null,
      "max_width": null,
      "min_height": null,
      "min_width": null,
      "object_fit": null,
      "object_position": null,
      "order": null,
      "overflow": null,
      "overflow_x": null,
      "overflow_y": null,
      "padding": null,
      "right": null,
      "top": null,
      "visibility": null,
      "width": null
     }
    },
    "f19dfe5c1b2848de96a3d3601916cc7c": {
     "model_module": "@jupyter-widgets/base",
     "model_module_version": "1.2.0",
     "model_name": "LayoutModel",
     "state": {
      "_model_module": "@jupyter-widgets/base",
      "_model_module_version": "1.2.0",
      "_model_name": "LayoutModel",
      "_view_count": null,
      "_view_module": "@jupyter-widgets/base",
      "_view_module_version": "1.2.0",
      "_view_name": "LayoutView",
      "align_content": null,
      "align_items": null,
      "align_self": null,
      "border": null,
      "bottom": null,
      "display": null,
      "flex": null,
      "flex_flow": null,
      "grid_area": null,
      "grid_auto_columns": null,
      "grid_auto_flow": null,
      "grid_auto_rows": null,
      "grid_column": null,
      "grid_gap": null,
      "grid_row": null,
      "grid_template_areas": null,
      "grid_template_columns": null,
      "grid_template_rows": null,
      "height": null,
      "justify_content": null,
      "justify_items": null,
      "left": null,
      "margin": null,
      "max_height": null,
      "max_width": null,
      "min_height": null,
      "min_width": null,
      "object_fit": null,
      "object_position": null,
      "order": null,
      "overflow": null,
      "overflow_x": null,
      "overflow_y": null,
      "padding": null,
      "right": null,
      "top": null,
      "visibility": null,
      "width": null
     }
    },
    "f36e66d04b7c48709ae886e78601eaf0": {
     "model_module": "@jupyter-widgets/base",
     "model_module_version": "1.2.0",
     "model_name": "LayoutModel",
     "state": {
      "_model_module": "@jupyter-widgets/base",
      "_model_module_version": "1.2.0",
      "_model_name": "LayoutModel",
      "_view_count": null,
      "_view_module": "@jupyter-widgets/base",
      "_view_module_version": "1.2.0",
      "_view_name": "LayoutView",
      "align_content": null,
      "align_items": null,
      "align_self": null,
      "border": null,
      "bottom": null,
      "display": null,
      "flex": null,
      "flex_flow": null,
      "grid_area": null,
      "grid_auto_columns": null,
      "grid_auto_flow": null,
      "grid_auto_rows": null,
      "grid_column": null,
      "grid_gap": null,
      "grid_row": null,
      "grid_template_areas": null,
      "grid_template_columns": null,
      "grid_template_rows": null,
      "height": null,
      "justify_content": null,
      "justify_items": null,
      "left": null,
      "margin": null,
      "max_height": null,
      "max_width": null,
      "min_height": null,
      "min_width": null,
      "object_fit": null,
      "object_position": null,
      "order": null,
      "overflow": null,
      "overflow_x": null,
      "overflow_y": null,
      "padding": null,
      "right": null,
      "top": null,
      "visibility": null,
      "width": null
     }
    },
    "f5dc0ad331fa4d7f80d8b608b60c9e44": {
     "model_module": "@jupyter-widgets/controls",
     "model_module_version": "1.5.0",
     "model_name": "HTMLModel",
     "state": {
      "_dom_classes": [],
      "_model_module": "@jupyter-widgets/controls",
      "_model_module_version": "1.5.0",
      "_model_name": "HTMLModel",
      "_view_count": null,
      "_view_module": "@jupyter-widgets/controls",
      "_view_module_version": "1.5.0",
      "_view_name": "HTMLView",
      "description": "",
      "description_tooltip": null,
      "layout": "IPY_MODEL_18b620a0db8e43db8674d0b7899ea788",
      "placeholder": "​",
      "style": "IPY_MODEL_ab566bdbbd564393a5355afb61470a2a",
      "value": " 2/2 [00:00&lt;00:00,  2.41it/s]"
     }
    },
    "faedbb1b2bda4fdaaae073b2328b6662": {
     "model_module": "@jupyter-widgets/controls",
     "model_module_version": "1.5.0",
     "model_name": "VBoxModel",
     "state": {
      "_dom_classes": [],
      "_model_module": "@jupyter-widgets/controls",
      "_model_module_version": "1.5.0",
      "_model_name": "VBoxModel",
      "_view_count": null,
      "_view_module": "@jupyter-widgets/controls",
      "_view_module_version": "1.5.0",
      "_view_name": "VBoxView",
      "box_style": "",
      "children": [
       "IPY_MODEL_4bcce309087643a1982cbf898736e842",
       "IPY_MODEL_4a82c737e0984deb9e3bffe62e94d60b",
       "IPY_MODEL_6d2d1b203e3344d88f5134441ec1b567",
       "IPY_MODEL_1d1efa33832e45c98a2c7bcb5e1164eb"
      ],
      "layout": "IPY_MODEL_d37f751babc649bfac92a80d2fef5b87"
     }
    },
    "fca263ee57744f4d8d451715904d9790": {
     "model_module": "@jupyter-widgets/controls",
     "model_module_version": "1.5.0",
     "model_name": "DescriptionStyleModel",
     "state": {
      "_model_module": "@jupyter-widgets/controls",
      "_model_module_version": "1.5.0",
      "_model_name": "DescriptionStyleModel",
      "_view_count": null,
      "_view_module": "@jupyter-widgets/base",
      "_view_module_version": "1.2.0",
      "_view_name": "StyleView",
      "description_width": ""
     }
    },
    "fcf67a330d7f4c03815abb9b50664256": {
     "model_module": "@jupyter-widgets/controls",
     "model_module_version": "1.5.0",
     "model_name": "DescriptionStyleModel",
     "state": {
      "_model_module": "@jupyter-widgets/controls",
      "_model_module_version": "1.5.0",
      "_model_name": "DescriptionStyleModel",
      "_view_count": null,
      "_view_module": "@jupyter-widgets/base",
      "_view_module_version": "1.2.0",
      "_view_name": "StyleView",
      "description_width": ""
     }
    },
    "fd40b11f0ba942ae97d4e2ce376b1e3b": {
     "model_module": "@jupyter-widgets/base",
     "model_module_version": "1.2.0",
     "model_name": "LayoutModel",
     "state": {
      "_model_module": "@jupyter-widgets/base",
      "_model_module_version": "1.2.0",
      "_model_name": "LayoutModel",
      "_view_count": null,
      "_view_module": "@jupyter-widgets/base",
      "_view_module_version": "1.2.0",
      "_view_name": "LayoutView",
      "align_content": null,
      "align_items": null,
      "align_self": null,
      "border": null,
      "bottom": null,
      "display": null,
      "flex": null,
      "flex_flow": null,
      "grid_area": null,
      "grid_auto_columns": null,
      "grid_auto_flow": null,
      "grid_auto_rows": null,
      "grid_column": null,
      "grid_gap": null,
      "grid_row": null,
      "grid_template_areas": null,
      "grid_template_columns": null,
      "grid_template_rows": null,
      "height": null,
      "justify_content": null,
      "justify_items": null,
      "left": null,
      "margin": null,
      "max_height": null,
      "max_width": null,
      "min_height": null,
      "min_width": null,
      "object_fit": null,
      "object_position": null,
      "order": null,
      "overflow": null,
      "overflow_x": null,
      "overflow_y": null,
      "padding": null,
      "right": null,
      "top": null,
      "visibility": null,
      "width": null
     }
    },
    "fd7a614d07bd4c629f419965961730f8": {
     "model_module": "@jupyter-widgets/controls",
     "model_module_version": "1.5.0",
     "model_name": "FloatProgressModel",
     "state": {
      "_dom_classes": [],
      "_model_module": "@jupyter-widgets/controls",
      "_model_module_version": "1.5.0",
      "_model_name": "FloatProgressModel",
      "_view_count": null,
      "_view_module": "@jupyter-widgets/controls",
      "_view_module_version": "1.5.0",
      "_view_name": "ProgressView",
      "bar_style": "success",
      "description": "",
      "description_tooltip": null,
      "layout": "IPY_MODEL_7688f0b367484ab8b3e4e7359a5642d5",
      "max": 105421,
      "min": 0,
      "orientation": "horizontal",
      "style": "IPY_MODEL_06ada10b2c264218896da24f6857fecc",
      "value": 105421
     }
    },
    "ff486779d1754ada97cd7ceb16389967": {
     "model_module": "@jupyter-widgets/controls",
     "model_module_version": "1.5.0",
     "model_name": "DescriptionStyleModel",
     "state": {
      "_model_module": "@jupyter-widgets/controls",
      "_model_module_version": "1.5.0",
      "_model_name": "DescriptionStyleModel",
      "_view_count": null,
      "_view_module": "@jupyter-widgets/base",
      "_view_module_version": "1.2.0",
      "_view_name": "StyleView",
      "description_width": ""
     }
    }
   }
  }
 },
 "nbformat": 4,
 "nbformat_minor": 4
}
