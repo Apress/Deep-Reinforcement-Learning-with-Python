{
 "cells": [
  {
   "cell_type": "markdown",
   "metadata": {},
   "source": [
    "# Deep Q-Network implementation (DQN) - with Prioritized Replay (PyTorch).\n",
    "\n",
    "In this notebook, we will implement DQN with **experience replay** and **target networks**.\n",
    "$$ \\DeclareMathOperator*{\\max}{max}$$\n",
    "### Recap\n",
    "\n",
    "In this notebook, we will implement DQN with **experience replay** and **target networks**.\n",
    "\n",
    "Q Learning control is carried out by sampling step by step and updating Q values at each step. We use $\\epsilon$-greedy policy to explore and generate samples. However, the policy learnt is a deterministic greedy policy with no exploration. We can carryout updates online i.e. we take a step and use `(current state, action, reward and next_state)` tuple to update.\n",
    "\n",
    "In case of function approximation using neural network, the input to the network is the state and output is the $q(s,a)$ for all the actions in the state $s$. It is denoted as $ \\hat{q}(s_t, a_t; w_{t}) $, where $w_{t}$ is the weigths of the neural network that we learn as part of DQN learning.\n",
    "\n",
    "We use two networks, one target network with weight $w^-_t$ to get the max $q$-value of next state with best action denoted by $ \\max\\limits_a \\hat {q}(S_{t+1},a; w^{-}_{t}) $ and network with weights $w_t^-$ which we periodically updated from primary network $w_t$.\n",
    "\n",
    "The Update equation is given below. This is the online version:\n",
    "$$ w_{t+1} \\leftarrow w_t + \\alpha [ R_{t+1} + \\gamma . \\max_{a} \\hat{q}(S_{t+1},a;w^{-}_{t}) – \\hat{q}(S_t,A_t;w_t)] \\nabla \\hat{q}_{w_t}(S_t,A_t;w_t)$$\n",
    "\n",
    "Online update with neural network with millions of weights does not work well. Accordingly, We use experience replay (aka Replay Buffer).  We use a behavior policy to explore the environment and store the samples `(s, a, r, s', done)` in a buffer. The samples are generated using an exploratory behavior policy while we improve a deterministic target policy using q-values.\n",
    "\n",
    "Therefore, we can always use older samples from behavior policy and apply them again and again. We can keep the buffer size fixed to some pre-determined size and keep deleting the older samples as we collect new ones. This process makes learning sample efficient by reusing a sample multiple times and also removing temporal dependence of the samples we would otherwise see while following a trajectory.\n",
    "\n",
    "The update equation with batch update with minor modifications is given below. We collect samples of transitions `(current state, action, reward, next state)` in a buffer, where each sample is denoted as a tuple:\n",
    "\n",
    "$$ (s_{i}, a_{i}, r_{i}, s'_{i}, done_{i})$$\n",
    "\n",
    "Subscript ($i$) denotes ith sample. We take $N$ samples from experience replay selecting randomly and update the weights. Subscript ($t$) denotes the index of weight updates. If the current state is done, as denoted by `done` flag, the target is just the reward as terminal states have zero value. The final update equation is as given below:\n",
    "\n",
    "$$w_{t+1} \\leftarrow w_t + \\alpha \\frac{1}{N} \\sum_{i=1}^{N} \\left[ r_i + \\left( (1-done_i) . \\gamma .  \\max_{a'} \\hat{q}(s'_{i},a';w^{-}_{t}) \\right) – \\hat{q}(s_i,a_i;w_t) \\right] \\nabla \\hat{q}(s_i,a_i;w_t)$$"
   ]
  },
  {
   "cell_type": "markdown",
   "metadata": {},
   "source": [
    "#### Running in Colab/Kaggle\n",
    "\n",
    "If you are running this on Colab, please uncomment below cells and run this to install required dependencies."
   ]
  },
  {
   "cell_type": "code",
   "execution_count": 1,
   "metadata": {},
   "outputs": [],
   "source": [
    "## Uncomment and execute this cell to install all the the dependencies if running in Google Colab\n",
    "\n",
    "# !apt-get update && apt-get install swig cmake ffmpeg freeglut3-dev xvfb\n",
    "# !pip install box2d-py\n",
    "# !pip install \"stable-baselines3[extra]>=2.1\"\n",
    "# !pip install \"huggingface_sb3>=3.0\"\n",
    "\n",
    "# !pip install git+https://github.com/DLR-RM/rl-baselines3-zoo@update/hf\n",
    "# !git clone https://github.com/DLR-RM/rl-baselines3-zoo\n",
    "# %cd rl-baselines3-zoo/ \n",
    "# !pip install -r requirements.txt\n",
    "# %cd ..\n"
   ]
  },
  {
   "cell_type": "markdown",
   "metadata": {},
   "source": [
    "### Imports"
   ]
  },
  {
   "cell_type": "code",
   "execution_count": 2,
   "metadata": {},
   "outputs": [
    {
     "name": "stderr",
     "output_type": "stream",
     "text": [
      "2023-11-29 13:08:26.728670: I tensorflow/core/util/port.cc:111] oneDNN custom operations are on. You may see slightly different numerical results due to floating-point round-off errors from different computation orders. To turn them off, set the environment variable `TF_ENABLE_ONEDNN_OPTS=0`.\n",
      "2023-11-29 13:08:26.737494: I tensorflow/tsl/cuda/cudart_stub.cc:28] Could not find cuda drivers on your machine, GPU will not be used.\n",
      "2023-11-29 13:08:26.881937: E tensorflow/compiler/xla/stream_executor/cuda/cuda_dnn.cc:9342] Unable to register cuDNN factory: Attempting to register factory for plugin cuDNN when one has already been registered\n",
      "2023-11-29 13:08:26.882012: E tensorflow/compiler/xla/stream_executor/cuda/cuda_fft.cc:609] Unable to register cuFFT factory: Attempting to register factory for plugin cuFFT when one has already been registered\n",
      "2023-11-29 13:08:26.882194: E tensorflow/compiler/xla/stream_executor/cuda/cuda_blas.cc:1518] Unable to register cuBLAS factory: Attempting to register factory for plugin cuBLAS when one has already been registered\n",
      "2023-11-29 13:08:26.930530: I tensorflow/tsl/cuda/cudart_stub.cc:28] Could not find cuda drivers on your machine, GPU will not be used.\n",
      "2023-11-29 13:08:26.932732: I tensorflow/core/platform/cpu_feature_guard.cc:182] This TensorFlow binary is optimized to use available CPU instructions in performance-critical operations.\n",
      "To enable the following instructions: AVX2 AVX_VNNI FMA, in other operations, rebuild TensorFlow with the appropriate compiler flags.\n",
      "2023-11-29 13:08:28.041427: W tensorflow/compiler/tf2tensorrt/utils/py_utils.cc:38] TF-TRT Warning: Could not find TensorRT\n"
     ]
    }
   ],
   "source": [
    "import random\n",
    "import numpy as np\n",
    "import torch\n",
    "import torch.nn as nn\n",
    "import gymnasium as gym\n",
    "import matplotlib.pyplot as plt\n",
    "from scipy.signal import convolve, gaussian\n",
    "from stable_baselines3.common.vec_env import VecVideoRecorder, DummyVecEnv\n",
    "from base64 import b64encode\n",
    "\n",
    "from IPython.display import HTML\n",
    "\n",
    "%matplotlib inline"
   ]
  },
  {
   "cell_type": "markdown",
   "metadata": {},
   "source": [
    "### Environment - CartPole \n",
    "\n",
    "We can use the setup here to run on any environment which has state as a single vector and actions are discrete. We will build it on Cart Pole . You may extend it to other environments like Atari games and others.\n"
   ]
  },
  {
   "cell_type": "code",
   "execution_count": 3,
   "metadata": {},
   "outputs": [],
   "source": [
    "def make_env(env_name):\n",
    "    # increase time limit from 200/500 to 4000\n",
    "    env = gym.make(env_name, render_mode=\"rgb_array\", max_episode_steps=4000)\n",
    "    return env"
   ]
  },
  {
   "cell_type": "code",
   "execution_count": 4,
   "metadata": {},
   "outputs": [
    {
     "name": "stdout",
     "output_type": "stream",
     "text": [
      "state shape:(4,)\n",
      "Number of Actions:2\n"
     ]
    },
    {
     "data": {
      "image/png": "[encoded data removed]",
      "text/plain": [
       "<Figure size 640x480 with 1 Axes>"
      ]
     },
     "metadata": {},
     "output_type": "display_data"
    }
   ],
   "source": [
    "env_name = 'CartPole-v1'\n",
    "seed=42\n",
    "\n",
    "env = make_env(env_name)\n",
    "env.reset(seed=seed)\n",
    "plt.imshow(env.render())\n",
    "state_shape, n_actions = env.observation_space.shape, env.action_space.n\n",
    "print(f\"state shape:{state_shape}\\nNumber of Actions:{n_actions}\")"
   ]
  },
  {
   "cell_type": "markdown",
   "metadata": {},
   "source": [
    "### Building a network using pytorch"
   ]
  },
  {
   "cell_type": "markdown",
   "metadata": {},
   "source": [
    "Let us build a DQN agent using a simple network. We now need to build a neural network that can map states/observations to state q-values. The observation space and action space is as given below for CartPole\n",
    "\n",
    "    Observation:\n",
    "        Type: Box(4)\n",
    "        Num     Observation               Min                     Max\n",
    "        0       Cart Position             -4.8                    4.8\n",
    "        1       Cart Velocity             -Inf                    Inf\n",
    "        2       Pole Angle                -0.418 rad (-24 deg)    0.418 rad (24 deg)\n",
    "        3       Pole Angular Velocity     -Inf                    Inf\n",
    "    Actions:\n",
    "        Type: Discrete(2)\n",
    "        Num   Action\n",
    "        0     Push cart to the left\n",
    "        1     Push cart to the right\n",
    "        \n",
    "\n",
    "The model will be a simple one with 2 hidden layers with Relu activation and final layer being logits with dimension equal to number of actions. "
   ]
  },
  {
   "cell_type": "code",
   "execution_count": 5,
   "metadata": {},
   "outputs": [
    {
     "data": {
      "text/plain": [
       "device(type='cpu')"
      ]
     },
     "execution_count": 5,
     "metadata": {},
     "output_type": "execute_result"
    }
   ],
   "source": [
    "device = torch.device('cuda' if torch.cuda.is_available() else 'cpu')\n",
    "device"
   ]
  },
  {
   "cell_type": "code",
   "execution_count": 6,
   "metadata": {},
   "outputs": [],
   "source": [
    "class DQNAgent(nn.Module):\n",
    "    def __init__(self, state_shape, n_actions, epsilon=0):\n",
    "\n",
    "        super().__init__()\n",
    "        self.epsilon = epsilon\n",
    "        self.n_actions = n_actions\n",
    "        self.state_shape = state_shape\n",
    "        \n",
    "        state_dim = state_shape[0]\n",
    "        # a simple NN with state_dim as input vector (inout is state s)\n",
    "        # and self.n_actions as output vector of logits of q(s, a)\n",
    "        self.network = nn.Sequential()\n",
    "        self.network.add_module('layer1', nn.Linear(state_dim, 192))\n",
    "        self.network.add_module('relu1', nn.ReLU())\n",
    "        self.network.add_module('layer2', nn.Linear(192, 256))\n",
    "        self.network.add_module('relu2', nn.ReLU())\n",
    "        self.network.add_module('layer3', nn.Linear(256, 64))\n",
    "        self.network.add_module('relu3', nn.ReLU())\n",
    "        self.network.add_module('layer4', nn.Linear(64, n_actions))\n",
    "        # \n",
    "        self.parameters = self.network.parameters\n",
    "        \n",
    "    def forward(self, state_t):\n",
    "        # pass the state at time t through the newrok to get Q(s,a)\n",
    "        qvalues = self.network(state_t)\n",
    "        return qvalues\n",
    "\n",
    "    def get_qvalues(self, states):\n",
    "        # input is an array of states in numpy and outout is Qvals as numpy array\n",
    "        states = torch.tensor(states, device=device, dtype=torch.float32)\n",
    "        qvalues = self.forward(states)\n",
    "        return qvalues.data.cpu().numpy()\n",
    "\n",
    "    def get_action(self, states):\n",
    "        states = torch.tensor(np.array(states), device=device, dtype=torch.float32)\n",
    "        qvalues = self.forward(states)\n",
    "        best_actions = qvalues.argmax(axis=-1)\n",
    "        return best_actions\n",
    "\n",
    "    def sample_actions(self, qvalues):\n",
    "        # sample actions from a batch of q_values using epsilon greedy policy\n",
    "        epsilon = self.epsilon\n",
    "        batch_size, n_actions = qvalues.shape\n",
    "        random_actions = np.random.choice(n_actions, size=batch_size)\n",
    "        best_actions = qvalues.argmax(axis=-1)\n",
    "        should_explore = np.random.choice(\n",
    "            [0, 1], batch_size, p=[1-epsilon, epsilon])\n",
    "        return np.where(should_explore, random_actions, best_actions)"
   ]
  },
  {
   "cell_type": "code",
   "execution_count": 7,
   "metadata": {},
   "outputs": [],
   "source": [
    "agent = DQNAgent(state_shape, n_actions, epsilon=0.5).to(device)"
   ]
  },
  {
   "cell_type": "code",
   "execution_count": 8,
   "metadata": {},
   "outputs": [
    {
     "data": {
      "text/plain": [
       "DQNAgent(\n",
       "  (network): Sequential(\n",
       "    (layer1): Linear(in_features=4, out_features=192, bias=True)\n",
       "    (relu1): ReLU()\n",
       "    (layer2): Linear(in_features=192, out_features=256, bias=True)\n",
       "    (relu2): ReLU()\n",
       "    (layer3): Linear(in_features=256, out_features=64, bias=True)\n",
       "    (relu3): ReLU()\n",
       "    (layer4): Linear(in_features=64, out_features=2, bias=True)\n",
       "  )\n",
       ")"
      ]
     },
     "execution_count": 8,
     "metadata": {},
     "output_type": "execute_result"
    }
   ],
   "source": [
    "agent"
   ]
  },
  {
   "cell_type": "code",
   "execution_count": 9,
   "metadata": {},
   "outputs": [],
   "source": [
    "def evaluate(env, agent, n_games=1, greedy=False, t_max=10000):\n",
    "    rewards = []\n",
    "    for i in range(n_games):\n",
    "        s,_ = env.reset(seed=seed+i)\n",
    "        reward = 0\n",
    "        for _ in range(t_max):\n",
    "            qvalues = agent.get_qvalues([s])\n",
    "            action = qvalues.argmax(axis=-1)[0] if greedy else agent.sample_actions(qvalues)[0]\n",
    "            s, r, termiated, truncated,_ = env.step(action)\n",
    "            reward += r\n",
    "            if termiated:\n",
    "                break\n",
    "\n",
    "        rewards.append(reward)\n",
    "    return np.mean(rewards)"
   ]
  },
  {
   "cell_type": "code",
   "execution_count": 10,
   "metadata": {},
   "outputs": [
    {
     "name": "stderr",
     "output_type": "stream",
     "text": [
      "/tmp/ipykernel_1692/1978937824.py:30: UserWarning: Creating a tensor from a list of numpy.ndarrays is extremely slow. Please consider converting the list to a single numpy.ndarray with numpy.array() before converting to a tensor. (Triggered internally at ../torch/csrc/utils/tensor_new.cpp:261.)\n",
      "  states = torch.tensor(states, device=device, dtype=torch.float32)\n"
     ]
    },
    {
     "name": "stdout",
     "output_type": "stream",
     "text": [
      "15.0\n"
     ]
    }
   ],
   "source": [
    "print(evaluate(env, agent, n_games=1))\n",
    "env.close()"
   ]
  },
  {
   "cell_type": "markdown",
   "metadata": {},
   "source": [
    "### Prioritized Experience replay\n",
    "\n",
    "In this notebook, we will use `Prioritized` version of replay buffer as explained in the paper https://arxiv.org/pdf/1511.05952.pdf. \n",
    "\n",
    "Replay buffer is very important in DQN to break the correlation between samples. We use a behavior policy ($\\epsilon$-greedy) to sample from the environment and store the transitions `(s,a,r,s',done)` into a buffer. These samples are used multiple times in a learning making the process sample efficient. \n",
    "\n",
    "We will be using prioritized version of experience replay. \n",
    "\n",
    "The interface to PrioritizedReplayBuffer is:\n",
    "* `exp_replay.add(state, action, reward, next_state, done)` - saves `(s,a,r,s',done)` tuple into the buffer\n",
    "* `exp_replay.sample(batch_size)` - returns states, actions, rewards, next_states and done_flags for `batch_size` random samples.\n",
    "* `update_priorities(idxs, new_priorities)` - returns nothing. \n",
    "* `len(exp_replay)` - returns number of elements stored in replay buffer.\n",
    "\n",
    "In usual replay buffer, we select training batch with equal probability of selection for each sample/transition stored in the buffer. However, in Prioritized replay, we assign an importance score $p_i$ to each sample/transition. One approach to importance score is to use the absolute value of TD error $\\delta_i$. A small constant $\\epsilon$ is added to avoid the edge case of error being zero and not picked up again ever.  \n",
    "\n",
    "$$ p_i = |\\delta_i| +\\epsilon$$\n",
    "\n",
    "$$\\delta_i = r_i + \\left( (1-done_i) . \\gamma .  \\max_{a^{'}} \\hat{q}(s_{i}^{'},a^{'};w^{-}_{t}) \\right) – \\hat{q}(s_i,a_i;w_t)$$\n",
    "\n",
    "\n",
    "At the time of picking the batch samples from buffer, the individual importance scores for samples are converted to probability which defines the probability of a sample being picked:\n",
    "\n",
    "$$P(i) = \\frac{p_i^{\\alpha}}{\\sum_i p_i^{\\alpha}}; \\alpha=0.6 $$\n",
    "\n",
    "$\\alpha$ is a hyperparameter and in the paper cited above, a value of 0.6 was found to work the best. We are using the same value in our code below:\n",
    "\n",
    "TD error for the samples chosen in the batch is used to calculate the loss and $\\nabla_w(L)$. The TD error is also used to update the importance score $p_i$ of the samples back in the buffer. \n",
    "\n",
    "\n",
    "The probability $P(i)$ is also used to calculate a weight, an importance sampling value, to adjust for the fact that samples now have a non uniform probability of being picked. The weight vector for batch samples as given below:\n",
    "\n",
    "$$w^{IS}_i = \\left(\\frac{1}{N}.\\frac{1}{P(i)} \\right)^\\beta; \\beta=0.4$$\n",
    "\n",
    "Value of $\\beta=0.4$ has been taken from the paper cited above. \n",
    "\n",
    "While calculating the training loss, the individual TD errors $\\delta_i$ are weighed by the weights $w_i$. The updated batch loss equation is shown a few cells below."
   ]
  },
  {
   "cell_type": "code",
   "execution_count": 11,
   "metadata": {},
   "outputs": [],
   "source": [
    "class PrioritizedReplayBuffer:\n",
    "    def __init__(self, size, alpha=0.6, beta=0.4):\n",
    "        self.size = size #max number of items in buffer\n",
    "        self.buffer =[] #array to hold buffer\n",
    "        self.next_id = 0\n",
    "        self.alpha = alpha\n",
    "        self.beta = beta\n",
    "        self.priorities = np.ones(size)\n",
    "        self.epsilon = 1e-5\n",
    "    \n",
    "    def __len__(self):\n",
    "        return len(self.buffer)\n",
    "    \n",
    "    def add(self, state, action, reward, next_state, done):\n",
    "        item = (state, action, reward, next_state, done)\n",
    "        max_priority = self.priorities.max()\n",
    "        if len(self.buffer) < self.size:\n",
    "           self.buffer.append(item)\n",
    "        else:\n",
    "            self.buffer[self.next_id] = item\n",
    "        self.priorities[self.next_id] = max_priority\n",
    "        self.next_id = (self.next_id + 1) % self.size\n",
    "        \n",
    "    def sample(self, batch_size):\n",
    "        N = len(self.buffer)\n",
    "        priorities = self.priorities[:N]\n",
    "        probabilities = priorities ** self.alpha\n",
    "        probabilities /= probabilities.sum()\n",
    "        weights = (N * probabilities) ** (-self.beta)\n",
    "        weights /= weights.max()\n",
    "\n",
    "        idxs = np.random.choice(len(self.buffer), batch_size, p=probabilities)\n",
    "\n",
    "        samples = [self.buffer[i] for i in idxs]\n",
    "        states, actions, rewards, next_states, done_flags = list(zip(*samples))\n",
    "        weights = weights[idxs]\n",
    "        \n",
    "        \n",
    "        return  (np.array(states), np.array(actions), np.array(rewards), \n",
    "                np.array(next_states), np.array(done_flags), np.array(weights), np.array(idxs))\n",
    "        \n",
    "    def update_priorities(self, idxs, new_priorities):\n",
    "        self.priorities[idxs] = new_priorities+self.epsilon"
   ]
  },
  {
   "cell_type": "code",
   "execution_count": 12,
   "metadata": {},
   "outputs": [],
   "source": [
    "def play_and_record(start_state, agent, env, exp_replay, n_steps=1):\n",
    "\n",
    "    s = start_state\n",
    "    sum_rewards = 0\n",
    "\n",
    "    # Play the game for n_steps and record transitions in buffer\n",
    "    for i in range(n_steps):\n",
    "        qvalues = agent.get_qvalues([s])\n",
    "        a = agent.sample_actions(qvalues)[0]\n",
    "        next_s, r, terminated, truncated, _ = env.step(a)\n",
    "        sum_rewards += r\n",
    "        done = terminated or truncated\n",
    "        exp_replay.add(s, a, r, next_s, done)\n",
    "        if done:\n",
    "            s,_ = env.reset(seed=seed+i)\n",
    "        else:\n",
    "            s = next_s\n",
    "\n",
    "    return sum_rewards, s"
   ]
  },
  {
   "cell_type": "markdown",
   "metadata": {},
   "source": [
    "#### Target network\n"
   ]
  },
  {
   "cell_type": "code",
   "execution_count": 13,
   "metadata": {},
   "outputs": [
    {
     "data": {
      "text/plain": [
       "<All keys matched successfully>"
      ]
     },
     "execution_count": 13,
     "metadata": {},
     "output_type": "execute_result"
    }
   ],
   "source": [
    "target_network = DQNAgent(agent.state_shape, agent.n_actions, epsilon=0.5).to(device)\n",
    "target_network.load_state_dict(agent.state_dict())"
   ]
  },
  {
   "cell_type": "markdown",
   "metadata": {},
   "source": [
    "### Learning with DQN (Prioritized replay)\n",
    "\n",
    "\n",
    "Here we write a function similar to tabular q-learning. We will calculate average TD error per batch using the equation as given below. We need to modify the Loss calculation by adjusting each sample with the Importance sampling weight. \n",
    "\n",
    "$$ L =  \\frac{1}{N} \\sum_{i=1}^{N} \\left[ r_i + \\left( (1-done_i) . \\gamma .  \\max_{a'} \\hat{q}(s'_i,a';w^-_t) \\right) – \\hat{q}(s_i,a_i;w_t) \\right]^2 . w^{IS}_i$$\n",
    "\n",
    "\n",
    "$$ \\nabla_{w_t} L =   - \\frac{1}{N} \\sum_{i=1}^{N} \\left[ r_i + \\left( (1-done_i) . \\gamma .  \\max_{a'} \\hat{q}(s'_i,a';w^-_t) \\right) – \\hat{q}(s_i,a_i;w_t) \\right]. w^{IS}_i . \\nabla \\hat{q}_{w_t}(s_i,a_i;w_t)$$\n",
    "\n",
    "\n",
    "$\\hat{q}(s',a';w^{-})$ is calculated using target network whose weights are held constant and refreshed periodically from the agent learning network.\n",
    "\n",
    "Target is given by following:\n",
    "* non terminal state: $r_i +  \\gamma .  \\max\\limits_{a'} \\hat{q}(s'_i,a';w^-_t)$\n",
    "* terminal state: $ r_i $\n",
    "\n",
    "We then carryout back propagation through the agent network to update the weights using equation below:\n",
    "\n",
    "\n",
    "$$\n",
    "w_{t+1} \\leftarrow w_t - \\alpha . \\nabla_{w_t}L$$"
   ]
  },
  {
   "cell_type": "code",
   "execution_count": 14,
   "metadata": {},
   "outputs": [],
   "source": [
    "def compute_td_loss_priority_replay(agent, target_network, replay_buffer,\n",
    "                                    states, actions, rewards, next_states, done_flags, weights, buffer_idxs,\n",
    "                                    gamma=0.99, device=device):\n",
    "\n",
    "    # convert numpy array to torch tensors\n",
    "    states = torch.tensor(states, device=device, dtype=torch.float)\n",
    "    actions = torch.tensor(actions, device=device, dtype=torch.long)\n",
    "    rewards = torch.tensor(rewards, device=device, dtype=torch.float)\n",
    "    next_states = torch.tensor(next_states, device=device, dtype=torch.float)\n",
    "    done_flags = torch.tensor(done_flags.astype('float32'),device=device,dtype=torch.float)\n",
    "    weights = torch.tensor(weights, device=device, dtype=torch.float)\n",
    "\n",
    "    # get q-values for all actions in current states\n",
    "    # use agent network\n",
    "    predicted_qvalues = agent(states)\n",
    "\n",
    "    # compute q-values for all actions in next states\n",
    "    # use target network\n",
    "    predicted_next_qvalues = target_network(next_states)\n",
    "    \n",
    "    # select q-values for chosen actions\n",
    "    predicted_qvalues_for_actions = predicted_qvalues[range(\n",
    "        len(actions)), actions]\n",
    "\n",
    "    # compute Qmax(next_states, actions) using predicted next q-values\n",
    "    next_state_values,_ = torch.max(predicted_next_qvalues, dim=1)\n",
    "\n",
    "    # compute \"target q-values\" \n",
    "    target_qvalues_for_actions = rewards + gamma * next_state_values * (1-done_flags)\n",
    "    \n",
    "    #compute each sample TD error\n",
    "    loss = ((predicted_qvalues_for_actions - target_qvalues_for_actions.detach()) ** 2) * weights\n",
    "    \n",
    "    # mean squared error loss to minimize\n",
    "    loss = loss.mean()\n",
    "    \n",
    "    # calculate new priorities and update buffer\n",
    "    with torch.no_grad():\n",
    "        new_priorities = predicted_qvalues_for_actions.detach() - target_qvalues_for_actions.detach()\n",
    "        new_priorities = np.absolute(new_priorities.detach().cpu().numpy())\n",
    "        replay_buffer.update_priorities(buffer_idxs, new_priorities)\n",
    "        \n",
    "    return loss"
   ]
  },
  {
   "cell_type": "markdown",
   "metadata": {},
   "source": [
    "### Main loop\n",
    "\n",
    "We now carryout the training on DQN setup above."
   ]
  },
  {
   "cell_type": "code",
   "execution_count": 15,
   "metadata": {},
   "outputs": [],
   "source": [
    "from tqdm import trange\n",
    "from IPython.display import clear_output\n",
    "import matplotlib.pyplot as plt"
   ]
  },
  {
   "cell_type": "code",
   "execution_count": 16,
   "metadata": {},
   "outputs": [
    {
     "data": {
      "text/plain": [
       "<torch._C.Generator at 0x7f4c20962f10>"
      ]
     },
     "execution_count": 16,
     "metadata": {},
     "output_type": "execute_result"
    }
   ],
   "source": [
    "# set a seed\n",
    "random.seed(seed)\n",
    "np.random.seed(seed)\n",
    "torch.manual_seed(seed)"
   ]
  },
  {
   "cell_type": "markdown",
   "metadata": {},
   "source": [
    "#### Set up Environment and Policy"
   ]
  },
  {
   "cell_type": "code",
   "execution_count": 17,
   "metadata": {},
   "outputs": [
    {
     "data": {
      "text/plain": [
       "<All keys matched successfully>"
      ]
     },
     "execution_count": 17,
     "metadata": {},
     "output_type": "execute_result"
    }
   ],
   "source": [
    "#setup env and agent and target networks\n",
    "env_name = 'CartPole-v1'\n",
    "env = make_env(env_name)\n",
    "state_dim = env.observation_space.shape\n",
    "n_actions = env.action_space.n\n",
    "state,_ = env.reset(seed=seed)\n",
    "\n",
    "agent = DQNAgent(state_dim, n_actions, epsilon=1).to(device)\n",
    "target_network = DQNAgent(state_dim, n_actions, epsilon=1).to(device)\n",
    "target_network.load_state_dict(agent.state_dict())"
   ]
  },
  {
   "cell_type": "markdown",
   "metadata": {},
   "source": [
    "#### Populate Experience Replay"
   ]
  },
  {
   "cell_type": "code",
   "execution_count": 18,
   "metadata": {},
   "outputs": [
    {
     "name": "stdout",
     "output_type": "stream",
     "text": [
      "10000\n"
     ]
    }
   ],
   "source": [
    "# let us fill experience replay with some samples using full random policy\n",
    "exp_replay = PrioritizedReplayBuffer(10**4)\n",
    "for i in range(100):\n",
    "    play_and_record(state, agent, env, exp_replay, n_steps=10**2)\n",
    "    if len(exp_replay) == 10**4:\n",
    "        break\n",
    "print(len(exp_replay))\n"
   ]
  },
  {
   "cell_type": "markdown",
   "metadata": {},
   "source": [
    "#### Setup Training Paramaters"
   ]
  },
  {
   "cell_type": "code",
   "execution_count": 19,
   "metadata": {},
   "outputs": [],
   "source": [
    "#setup some parameters for training\n",
    "timesteps_per_epoch = 1\n",
    "batch_size = 32\n",
    "total_steps = 45000\n",
    "\n",
    "#init Optimizer\n",
    "opt = torch.optim.Adam(agent.parameters(), lr=1e-4)\n",
    "\n",
    "# set exploration epsilon \n",
    "start_epsilon = 1\n",
    "end_epsilon = 0.05\n",
    "eps_decay_final_step = 2 * 10**4\n",
    "\n",
    "# setup some frequency for logging and updating target network\n",
    "loss_freq = 20\n",
    "refresh_target_network_freq = 100\n",
    "eval_freq = 1000\n",
    "\n",
    "# to clip the gradients\n",
    "max_grad_norm = 5000"
   ]
  },
  {
   "cell_type": "code",
   "execution_count": 20,
   "metadata": {},
   "outputs": [],
   "source": [
    "mean_rw_history = []\n",
    "td_loss_history = []"
   ]
  },
  {
   "cell_type": "code",
   "execution_count": 21,
   "metadata": {},
   "outputs": [],
   "source": [
    "def epsilon_schedule(start_eps, end_eps, step, final_step):\n",
    "    return start_eps + (end_eps-start_eps)*min(step, final_step)/final_step\n",
    "\n",
    "def smoothen(values):\n",
    "    kernel = gaussian(100, std=100)\n",
    "    kernel = kernel / np.sum(kernel)\n",
    "    return convolve(values, kernel, 'valid')"
   ]
  },
  {
   "cell_type": "markdown",
   "metadata": {},
   "source": [
    "#### Run Training"
   ]
  },
  {
   "cell_type": "code",
   "execution_count": 22,
   "metadata": {},
   "outputs": [
    {
     "name": "stdout",
     "output_type": "stream",
     "text": [
      "buffer size = 10000, epsilon = 0.05000\n"
     ]
    },
    {
     "data": {
      "image/png": "[encoded data removed]",
      "text/plain": [
       "<Figure size 1600x500 with 2 Axes>"
      ]
     },
     "metadata": {},
     "output_type": "display_data"
    },
    {
     "name": "stderr",
     "output_type": "stream",
     "text": [
      "100%|████████████████████████████████████████████████████████████████████████████| 45001/45001 [05:35<00:00, 134.19it/s]\n"
     ]
    }
   ],
   "source": [
    "state, _ = env.reset(seed=seed)\n",
    "for step in trange(total_steps + 1):\n",
    "    \n",
    "    # reduce exploration as we progress\n",
    "    agent.epsilon = epsilon_schedule(start_epsilon, end_epsilon, step, eps_decay_final_step)\n",
    "\n",
    "    # take timesteps_per_epoch and update experience replay buffer\n",
    "    _, state = play_and_record(state, agent, env, exp_replay, timesteps_per_epoch)\n",
    "\n",
    "    # train by sampling batch_size of data from experience replay\n",
    "    states, actions, rewards, next_states, done_flags, weights, idxs = exp_replay.sample(batch_size)\n",
    "    \n",
    "\n",
    "    # loss = <compute TD loss>\n",
    "    loss = compute_td_loss_priority_replay(agent, target_network, exp_replay,\n",
    "                           states, actions, rewards, next_states, done_flags, weights, idxs,              \n",
    "                           gamma=0.99,\n",
    "                           device=device)\n",
    "\n",
    "    loss.backward()\n",
    "    grad_norm = nn.utils.clip_grad_norm_(agent.parameters(), max_grad_norm)\n",
    "    opt.step()\n",
    "    opt.zero_grad()\n",
    "\n",
    "    if step % loss_freq == 0:\n",
    "        td_loss_history.append(loss.data.cpu().item())\n",
    "\n",
    "    if step % refresh_target_network_freq == 0:\n",
    "        # Load agent weights into target_network\n",
    "        target_network.load_state_dict(agent.state_dict())\n",
    "\n",
    "    if step % eval_freq == 0:\n",
    "        # eval the agent\n",
    "        mean_rw_history.append(evaluate(\n",
    "            make_env(env_name), agent, n_games=3, greedy=True, t_max=1000)\n",
    "        )\n",
    "\n",
    "        clear_output(True)\n",
    "        print(\"buffer size = %i, epsilon = %.5f\" %\n",
    "              (len(exp_replay), agent.epsilon))\n",
    "\n",
    "        plt.figure(figsize=[16, 5])\n",
    "        plt.subplot(1, 2, 1)\n",
    "        plt.title(\"Mean return per episode\")\n",
    "        plt.plot(mean_rw_history)\n",
    "        plt.grid()\n",
    "\n",
    "        assert not np.isnan(td_loss_history[-1])\n",
    "        plt.subplot(1, 2, 2)\n",
    "        plt.title(\"TD loss history (smoothened)\")\n",
    "        plt.plot(smoothen(td_loss_history))\n",
    "        plt.grid()\n",
    "\n",
    "        plt.show()"
   ]
  },
  {
   "cell_type": "code",
   "execution_count": 23,
   "metadata": {},
   "outputs": [
    {
     "name": "stdout",
     "output_type": "stream",
     "text": [
      "final score: 1000.0\n",
      "Well done\n"
     ]
    }
   ],
   "source": [
    "final_score = evaluate(\n",
    "  make_env(env_name),\n",
    "  agent, n_games=30, greedy=True, t_max=1000\n",
    ")\n",
    "print('final score:', final_score)\n",
    "print('Well done')"
   ]
  },
  {
   "cell_type": "markdown",
   "metadata": {},
   "source": [
    "### Record and Play a video of trained agent"
   ]
  },
  {
   "cell_type": "markdown",
   "metadata": {},
   "source": [
    "**Let us record a video of trained agent**"
   ]
  },
  {
   "cell_type": "code",
   "execution_count": 26,
   "metadata": {},
   "outputs": [],
   "source": [
    "# Helper function to record videos\n",
    "def record_video(env_id, video_folder, video_length, agent):\n",
    "\n",
    "    vec_env = DummyVecEnv([lambda: gym.make(env_id, render_mode=\"rgb_array\")])\n",
    "    # Record the video starting at the first step\n",
    "    vec_env = VecVideoRecorder(vec_env, video_folder,\n",
    "                           record_video_trigger=lambda x: x == 0, video_length=video_length,\n",
    "                           name_prefix=f\"{type(agent).__name__}-{env_id}\")\n",
    "\n",
    "    obs = vec_env.reset()\n",
    "    for _ in range(video_length + 1):\n",
    "        action = agent.get_action(obs).detach().cpu().numpy()\n",
    "        obs, _, _, _ = vec_env.step(action)\n",
    "    # video filename\n",
    "    file_path = \"./\"+video_folder+vec_env.video_recorder.path.split(\"/\")[-1]\n",
    "    # Save the video\n",
    "    vec_env.close()\n",
    "    return file_path\n",
    "\n",
    "def play_video(file_path):\n",
    "    mp4 = open(file_path, 'rb').read()\n",
    "    data_url = \"data:video/mp4;base64,\" + b64encode(mp4).decode()\n",
    "    return HTML(\"\"\"\n",
    "        <video width=400 controls>\n",
    "              <source src=\"%s\" type=\"video/mp4\">\n",
    "        </video>\n",
    "        \"\"\" % data_url)\n"
   ]
  },
  {
   "cell_type": "code",
   "execution_count": 27,
   "metadata": {},
   "outputs": [
    {
     "name": "stdout",
     "output_type": "stream",
     "text": [
      "Saving video to /home/nsanghi/sandbox/apress/drl-2ed/chapter7/logs/7_a/DQNAgent-CartPole-v1-step-0-to-step-500.mp4\n",
      "Moviepy - Building video /home/nsanghi/sandbox/apress/drl-2ed/chapter7/logs/7_a/DQNAgent-CartPole-v1-step-0-to-step-500.mp4.\n",
      "Moviepy - Writing video /home/nsanghi/sandbox/apress/drl-2ed/chapter7/logs/7_a/DQNAgent-CartPole-v1-step-0-to-step-500.mp4\n",
      "\n"
     ]
    },
    {
     "name": "stderr",
     "output_type": "stream",
     "text": [
      "                                                                                                                        \r"
     ]
    },
    {
     "name": "stdout",
     "output_type": "stream",
     "text": [
      "Moviepy - Done !\n",
      "Moviepy - video ready /home/nsanghi/sandbox/apress/drl-2ed/chapter7/logs/7_a/DQNAgent-CartPole-v1-step-0-to-step-500.mp4\n"
     ]
    },
    {
     "data": {
      "text/html": [
       "\n",
       "        <video width=400 controls>\n",
       "              <source src=\"data:video/mp4;base64,AAAAIGZ0eXBpc29tAAACAGlzb21pc28yYXZjMW1wNDEAAAAIZnJlZQAAaHNtZGF0AAACrwYF//+r3EXpvebZSLeWLNgg2SPu73gyNjQgLSBjb3JlIDE1OSByMjk5MSAxNzcxYjU1IC0gSC4yNjQvTVBFRy00IEFWQyBjb2RlYyAtIENvcHlsZWZ0IDIwMDMtMjAxOSAtIGh0dHA6Ly93d3cudmlkZW9sYW4ub3JnL3gyNjQuaHRtbCAtIG9wdGlvbnM6IGNhYmFjPTEgcmVmPTMgZGVibG9jaz0xOjA6MCBhbmFseXNlPTB4MzoweDExMyBtZT1oZXggc3VibWU9NyBwc3k9MSBwc3lfcmQ9MS4wMDowLjAwIG1peGVkX3JlZj0xIG1lX3JhbmdlPTE2IGNocm9tYV9tZT0xIHRyZWxsaXM9MSA4eDhkY3Q9MSBjcW09MCBkZWFkem9uZT0yMSwxMSBmYXN0X3Bza2lwPTEgY2hyb21hX3FwX29mZnNldD0tMiB0aHJlYWRzPTEyIGxvb2thaGVhZF90aHJlYWRzPTIgc2xpY2VkX3RocmVhZHM9MCBucj0wIGRlY2ltYXRlPTEgaW50ZXJsYWNlZD0wIGJsdXJheV9jb21wYXQ9MCBjb25zdHJhaW5lZF9pbnRyYT0wIGJmcmFtZXM9MyBiX3B5cmFtaWQ9MiBiX2FkYXB0PTEgYl9iaWFzPTAgZGlyZWN0PTEgd2VpZ2h0Yj0xIG9wZW5fZ29wPTAgd2VpZ2h0cD0yIGtleWludD0yNTAga2V5aW50X21pbj0yNSBzY2VuZWN1dD00MCBpbnRyYV9yZWZyZXNoPTAgcmNfbG9va2FoZWFkPTQwIHJjPWNyZiBtYnRyZWU9MSBjcmY9MjMuMCBxY29tcD0wLjYwIHFwbWluPTAgcXBtYXg9NjkgcXBzdGVwPTQgaXBfcmF0aW89MS40MCBhcT0xOjEuMDAAgAAAAY1liIQAJ//+9bF8CmrJ84oM6DIu4Zckya62IuJtAMABjzYAAAMAAERqWJ7MgJRqXwAAAwBCQA1AfQZQeYiYqxUCWDAoSji2sCpVkioXOsXvEivLU3+se6jeEKI6hQXGJwHPii5AKOu0xWgtvR9iAhCe4X73f02mOSa2S7C0gAmnD2gjqPNgWLm1iS/lOF7LYigJl9X4m2/P9g/3zYmFfC5ugdBTvoGfH8tf/84LuM7IcF2JEXig9jzZCKIKKVM3lDKv80XVOHNvD49Y6b4Kvb1n7BCMdfTeNy0d7C8TXA+Si4gp8FKLrs1FxMC3M55L+Oudw1LLfQw09tvwC80WZz3YGEWfd3EgUQW/PGGqDgeTu6PgPAX39N+D8DR6ZMj+XSLcunLga5efJgC2a2f468Lh9o+fWR742REmrMBBtCv4oYG0ucOtoZEavjHLRuygXG4ZlE5QeQ0eSADvcdRIE2D+yAZZhCfhYEYbD7pOnPC1Zl42q+SeX0gYpHS++bKO0CuqljGCAAADAAADAAbNAAAAV0GaJGxCf/3xAAADAp9caiYuI+RJA2qCvf2Iibdc0NCQKxzPrfnQypPlfFLs3veuVj4EWnLfk9Wa1IJ9BDwNs5d2l0J4W/z/5gtJADsYxTNB5KplBX3SiwAAAEdBnkJ4hH8AABa+WxxfSQAA3TyIyQJFcqhSzyZn0yrqIPt8Zjlt/8CVsi5ObFFtLg0TcyFuoaC5PZ0dnC6fLwu7G2SC9bzytwAAAB0BnmF0R/8AAAUf0MHUtVemrw8eoXfQQgN30OksJwAAABwBnmNqR/8AACO/Gs573hQeBtAD1MmNn8VgG0jBAAAAT0GaaEmoQWiZTAj//IQAAA/YabXIEWNpNT4LQALeAOoaYEEfYOu4nIW/OCGybKy+JsCDHKfw14eIdLxaK7iaUCOC39kiTsoqS1RB9CAGJBEAAAA9QZ6GRREsI/8AABa1WFYzNifwNmUgARbJGoYnO28EnGp7UBeBArU7RVy1fPkP9N4ENWSXX6FxmLgC6aQ8qQAAACYBnqV0R/8AACPDPg2aNQiRzxeQbMbO3opVnXFHrzVAbpISe1N/mQAAACMBnqdqR/8AAAUa0gqNYAW1SoO5ZtGxR2dxcjldABeX8tel5AAAADNBmqlJqEFsmUwIV//+OEAAAQz6JbzbykCnjxmN7/89+Aa5mOAE0Dz+j9QA9nTNUcf+aZAAAAA5QZrNSeEKUmUwIR/94QAAAwA4mZd0usy+Rsx4jRR0DaK621WAKVQvQRNSHcxCg8uymnlQ3Z+Jnu2XAAAAOEGe60U0TCP/AAADAyNxVqBTo6ADiVEUk3nAsLidtmhr4UwUbH+pd9AZfSO68j/4RH9uf5hfPfZgAAAAFgGfCnRH/wAAAwHlih49cYmvFkHuNbAAAAAZAZ8Makf/AAADALplzNgWFeizY3PKcwlWzQAAACxBmxBJqEFomUwIT//98QAAAwKfBWDgU3IYa+RaN/8Fq1ll+5pXlj8ilt7MeQAAADRBny5FESwj/wAAFrxMg+8f5IzRyIANaAmV4MYLmgl1nkV920OOYBdaJQzvXVpX1H0B3Rg9AAAAHwGfT2pH/wAAI78aznt0ef+G42WT+K32Z1F4OJvuUnAAAABRQZtRSahBbJlMCE///fEAAAMA+Ipah5ADYlliqRGLXUMAejp7oAkJrXp2QErtyrCrXQjMo8+tmAJzJ+swpKfLQRR5qd14R0sVRaCWb7MU+JlwAAAAL0GbdUnhClJlMCF//oywAAADA6SMi8hSY2p2jW+EkO/IG9G81caG24ScvjjvQuihAAAAQ0Gfk0U0TCP/AAADAzd+8AA4p+hi+8fpGHTv4hrYNAzRgnyORZyp2qcTswwn/D3o5Ud4I4I2APTCHiPgRqeZJopXbMAAAAAWAZ+ydEf/AAAFHFt5ksfH9YMwz+SbgAAAAB0Bn7RqR/8AAAUOEcx8MXfmy/1ju+DNMfP4WQ5bgQAAAEJBm7lJqEFomUwIV//+OEAAAA6J34C/MACuz2mm5+qXd4AGmMCuJC/O5+0smPAOyQa79WiaPxJk/9uM975xp1KtmoQAAAA4QZ/XRREsI/8AAAMBNYe8ANN5qQ07HwDyRcQWjBPdgWdlpOg8ULPvFRid4QmQL8MfCZywNDjijtkAAAAWAZ/2dEf/AAADAeWKKH3SXHry22cL/QAAABcBn/hqR/8AAAMACoKZSZHTdYs32m+HiwAAABpBm/xJqEFsmUwI//yEAAADAAuehnYgfe6sWQAAADVBnhpFFSwj/wAAAwM3vHAAOKfjmapm3nZ5yXyi9En8PTWSAI3gEwVRAk3ST9nqF2U8aYXfgAAAABkBnjtqR/8AAAUfLmT8j01zDvDYx7Cmd241AAAAUUGaPUmoQWyZTAhP//3xAAADAp8FYOBeh7bufHOkxaV1VgLXaCyzjVd5E+ip+Q1i3ZlRSF81Uu08Uef0LLF2sQTRr3KCwWsSAdxqCXgJeKDBQQAAADBBmkFJ4QpSZTAhf/6MsAAAAwFuDTD+7OKvDsbPcx7gY1AFkxZWWCJ75lE9oD15AYAAAABIQZ5/RTRMI/8AAAMDNmj3YALW0aWehlWjjxCZY8FK7V3Yu+DEizv5HW5y4bZsq08lStI6h4wtDbeIrN0a+ZKWA3iOYD6McghMAAAAGQGennRH/wAABUPHCYt3lJojgRbHTqz9pR8AAAAiAZ6Aakf/AAAFQS/iZXXf6bz4X0Sc2HmxsxDZTuyRSuOsVAAAAElBmoVJqEFomUwIV//+OEAAAA6B2vA9Vk8Jym/I+gagA+YoKTzL+Zb5q4qRdjgpC0LleZZTDAPTiLN6YAXlnhZiqL+e3C7yTfmzAAAAPUGeo0URLCP/AAADAzfLFxADioanC/iql50NJvawCq4t+VFQ/wobeb6N/j5EM6EEZlSYjhnTYNtKVvZjvtgAAAAWAZ7CdEf/AAADAeYl87PbeptRKYg03QAAABgBnsRqR/8AAAMAumakn6YbcLXCxPIUi3EAAAAZQZrISahBbJlMCE///fEAAAMAAENR5s8ScQAAAD5BnuZFFSwj/wAACFJwjszDqwAWtoxC7VM4zT++mHAySkT69kgfDUQc4gV6puH6VkHZUpFcZ0dMTnh2Ul+9VQAAABgBnwdqR/8AAA15nJqWEb62kExOT70hg8AAAABIQZsMSahBbJlMCP/8hAAAD9Q3CAIOK4VZ5x1uYR5Otv64igIFSgMimbil27WMOJir0YEt4bgU1AcT8ym/BjpmyIq1Fwvpo+p8AAAAQEGfKkUVLCP/AAAWtVjyo933/ABuWi34vUzYJ7gOhoOcrX5vRQCtpWgCqE9dDXYCCP++8qu+CihvHaX0O8NaEqEAAAAgAZ9JdEf/AAAjrDopq5k94gQWaLhqE2jeLY2Sql1waJUAAAAXAZ9Lakf/AAAFHzTvsP9I3pSw7ieXqYAAAAA7QZtNSahBbJlMCF///oywAAADAW32DiB0yoKR27Ye1xxQtADwCVhahKk22wwXgfeFwAUxtPdji0EfvHEAAABhQZtxSeEKUmUwIX/+jLAAABqv5Y0AN0wFoTLnI0AI1ZK4OMeaBGYhHngxOM1MQbvAjpCt312nGyez7pZe+RgFO+11lrHenvCaHsA4CRopT7/xG+Ng2FcKtAzUrnbC1nLvvQAAADJBn49FNEwj/wAACGwHmajQA47PkGUDlgV8ixrB/PYID2d19G+sZYLiqC4/oEPx4e0kwQAAABUBn650R/8AAAUcW3mW6WvqquArtVQAAAAYAZ+wakf/AAADALp2gORdJVu3afzar/swAAAAG0GbtUmoQWiZTAhX//44QAAABYfuxqXwT40KqwAAAEFBn9NFESwj/wAAAwMvS/UAAcbWJf6Co8EzIGF07IMD4HP+Cvljq52tXYGwJZp/pSK7wn7Ku3HJ7BL7mBgE0KmfHAAAABYBn/J0R/8AAAUcW3mSx4TJZEvZX8wcAAAAFgGf9GpH/wAABR0+YOBt2/E7PrMWqCEAAAA/QZv5SahBbJlMCE///fEAAAMAX2VKzsvUw1XbdrmPxs74C1R4ChUB8td3MThVs3+F+WVvVRW7cC1b+Vp3ZYLAAAAAH0GeF0UVLCP/AAADAzhTCrFZd5O0CkDNGBQ9hoT624EAAAAWAZ42dEf/AAAFHFt5kseEyWRL2V/MHQAAABUBnjhqR/8AAAMACjqb6Y7XCUzY89UAAAByQZo9SahBbJlMCE///fEAAAMCnwV5kB76RrhhpHMInFZI2QCm3L974jBdaG08sW81BW1ywxqZ9oEv2xMkKuOvHIAeigphoGpn1Eg1Ub26tZyUDIQYKEYoMRVLZ93yu4c3qEkx815kx4SSPQVtxDZ6supNAAAAL0GeW0UVLCP/AAAWtVhVi2gz+7VIq8i8AIzjK2EYAF6xVELyP5E1PKcJNQS/VhyQAAAAPwGeenRH/wAAI6w5AcnaJsK+dq6J0AmkteOoGj/3RWO4NJ3+40jf3X7CBlupnUrJGvbpQjmJejoc+vdBjCXbgQAAABcBnnxqR/8AAAMAGwk6ukFcQH3QV+3FgQAAAFVBmmFJqEFsmUwIV//+OEAAAGRsfDwAYqnS33/cRYZvV0xjpOGYIm900aYcHdpcQo8DM5l+XxgECD3kfP+YSM+H/o08ay7SbehXTJRg1zO41kfNHiXAAAAAHkGen0UVLCP/AAAILAy0yhdQd+UEniW4IeNOgzylswAAAC4Bnr50R/8AAA0164ixtcWMV8pxgh418PVQ8YE6W+ipwAQ25EcOMdAc9MIoRJWLAAAADwGeoGpH/wAAAwAa/6+xIwAAABdBmqRJqEFsmUwIT//98QAAAwAAAwAekQAAAD9BnsJFFSwj/wAACCc/MKryQAcbWNVhIGPCq/Tdcg456fdCX1REvWilk7fjOB18OK9K2QvKPHRaaHH6vth4xQQAAAAkAZ7jakf/AAANKwfPGAgEds9IrS0cRdH4vJEwaLLoUA4WFSWzAAAAYEGa6EmoQWyZTAhP//3xAAADAp8FYOA077L398YcXCPJ96Fpb1wSURAZbUow6DK4ctAOZiBes3+Alqdf93If3/eICOtiq9NSOU5vc53ll9J7SZBC+INBgrpNH7vB2/TMgQAAACtBnwZFFSwj/wAAFrUrN2s23AnubqUABzXF7MWg67/aRYqNvXnvcQP1JVGBAAAAHgGfJXRH/wAAI6v4W3gSnWgjAkrIPBaDa+zjPlJyQQAAABIBnydqR/8AAAMAtea5fNV4TMAAAAA1QZssSahBbJlMCE///fEAAAMCoLOFyMO+C9EPgB7rs+wq/FA16aNDxLtW1Q5A5yFGqziqsUAAAAA5QZ9KRRUsI/8AABa1P2PEfJmK2ABbNY1VyY+jsxuQOQuVhB6ss07BSckO0bwOxvhXTYu9YROJbbJNAAAAHwGfaXRH/wAAI6v4W4HdoJLP26QG4aW23uhfA7kYCVAAAAAeAZ9rakf/AAANKwfPGAgEds9IrSk1DgKjOej9S+DAAAAANkGbcEmoQWyZTAhP//3xAAADAp/zBOQVejVhba8KZc79Cyt5tm+v9Cx3QETJ+TeMfTxMi3P1QQAAACpBn45FFSwj/wAAFrUrN2tUMxoURNpQAHNcXsxafQ+zg6P6ebcCR8WRb2cAAAAeAZ+tdEf/AAAjq/hbeBKdaCMCSurfprxcCopYtmSZAAAAEAGfr2pH/wAAAwC15qFAi4AAAABaQZu0SahBbJlMCEf//eEAAAQVHZ+P7H1pNPv/AAcbWNVjU5IN1LcgeuEqun1Kn1aUvO/naFHWVMKgp3Pp+VmWNEiZOUWQg162EvcJbWorMr+SvyzLoS2PlNiwAAAAIEGf0kUVLCP/AAAWtSs3Z/TU1ybNVpvcPBudQttGHaWzAAAAJwGf8XRH/wAAI8MXaKmlU4Ei8ZReeA9A5blJHpkLCDT/nx5aO3y24AAAAA4Bn/NqR/8AAAMAAAMBqQAAAEZBm/dJqEFsmUwIV//+OEAAAQ1RDw0G4ZnJOHMHFy8dHiOYAkRftVMRGiD8gBIRHWO/lUDP1/n5wHbEd9nomBaMzKzrG0xzAAAAIEGeFUUVLCP/AAAWvEPNt9RrQRtfiT3Hx8NCLsAk4vZgAAAAJAGeNmpH/wAAI7HMCWPmxVkZ8D1M8t6yv/66VmH6hRHip6d9mQAAADtBmjtJqEFsmUwIT//98QAAAwBc2Jka6dVWhtq5QJkfCAO0RvQUKCH6BqQTm+h6Ys6GFfmxvp46MFx8eQAAADRBnllFFSwj/wAAAwMlMhYaC7Yk8QJTYArR+RZGlbdIlYchN+wqaGC54kWA2IdlUNa6Yf8GAAAAGgGeeHRH/wAAAwC6Cm183QkazhVRgOq29PW3AAAAHQGeempH/wAABPs1yst9c9zHDBV1ev0BdbW/jvJMAAAAMEGaf0moQWyZTAhX//44QAAAJafsSaPVaEy+Z90/SaGyUxgurCdioqVMjrYlgmqdwQAAAERBnp1FFSwj/wAAFrMp0lEZZbQAsXXTtJbEZnyXF74VYMFxolCqlbdmYJ6t0A+qUH2Qry/+j0c4Pm4hDeGjeNmiLMc7cQAAABgBnrx0R/8AACOr+Ft4Ep3IIXYYPHYwSQ8AAAAhAZ6+akf/AAAjscwJb6q96mpVn1hi8D1Ao/Stb9t8d1RgAAAANUGao0moQWyZTAhP//3xAAADAFzYmRrpwTNK39r2aL4AACQfB6ChQQ7+aUeoAnVSF6mi+FO5AAAAOEGewUUVLCP/AAADAyUyFwo7e/VfJUbAFaPyLI0qEA6WXDWRirGLSOlQ3g77SV7vPYtOwwJKUUkwAAAAGgGe4HRH/wAAAwC6Cm183QkazhVRgOq29PW3AAAAHQGe4mpH/wAABPs1yst9c9zHDBV1ev0BdbW/jvJMAAAAMUGa50moQWyZTAhP//3xAAADAFz5SlmfwRwABOwOGd5tESRZCt3p8wHFQMjmGJL3JjkAAAA9QZ8FRRUsI/8AABazKdJRGWW0ALF107SWxGZ8lxe+FWDBcaJQqpW3ZmCerdAPqlC7HY89C7dlH54Z51BtmQAAABgBnyR0R/8AACOr+Ft4Ep3IIXYK/8a4jlkAAAAfAZ8makf/AAAjscwJb6q96mpVn4GZlrh1UEbsRxUdswAAADxBmytJqEFsmUwIT//98QAAAwKhnoSlmW+doqcM+yTtgcyQgQQAIdM5MJQan+J1X9YOiyryJLD79nKp6oAAAAAzQZ9JRRUsI/8AABa8Q823FcyuLcmEumYAAWA/IsjZAqjoSpCy85zKtcQyPIm0FTahlDbcAAAAGgGfaHRH/wAAAwC6Cm183QkazhVRgOq29PW3AAAAHwGfampH/wAAI78EJxLJaZ+vU6VPCZ9saIIQmlRD/BgAAAAuQZtvSahBbJlMCE///fEAAAMCn8hpADlVtLEQRjuh1U7x5b9zvHcKf6rr5opKxQAAACBBn41FFSwj/wAAFrxDzbcVzKy11GoNnSWfgu8Y3pJJgQAAAA4Bn6x0R/8AAAMAAAMBqQAAABsBn65qR/8AACO/BCcSyWmxeipOZGmU8zpPgQEAAABLQZuzSahBbJlMCF///oywAABGEawQ5L4+JAkZUtWKzHHWJexR8V/p1Ps/Boy5z//Nvprqq5aUBFoSbrc5Pto/qeRI7HcNxBD8J/EfAAAANkGf0UUVLCP/AAAWvEPNtxWM54eCpJvWcOK2qZAFXrFFxErUUI2VH22wtvpHPf/eLEPUAuPdtwAAABoBn/B0R/8AAAMAugpNNhCnMfVmC3RKRC+24QAAABsBn/JqR/8AACOxzAlvqW+yFUj7/AYoyD53nJAAAABRQZv3SahBbJlMCF///oywAAAZ5ZKWQ8XUADM3cIh8YvFHZnLri/lT7FeEC0LCvQ9XKQ1wcyrEmMIfliqsHR+e56tUwDUw+dEurPNFMN86MqpAAAAAH0GeFUUVLCP/AAAILybxqTB2iaKlxypxZ6DEQ6+cjkkAAAAOAZ40dEf/AAADAAADAakAAAAcAZ42akf/AAANNJ2rY2rSLB9Z+TooYUesTPBbMQAAAChBmjtJqEFsmUwIV//+OEAAAGRnm/cBbza0dRlT4U6uqkXTQBWuFLrFAAAAMEGeWUUVLCP/AAAV7HQ4cYNeJ8Of6sj7Ox3dQjJqBZuGliaGUA6YeurNdOkMN3qxQAAAADYBnnh0R/8AACPAuB/On+/EURBdYAC1YPrrteaQVP5u2cRIHl1iZbwcJWh1pnV6QdsgA5Rl2TEAAAAfAZ56akf/AAAivxrOfBcbm1+RKo+YHkSVe+SSZ8tLBgAAAC5Bmn9JqEFsmUwIT//98QAAAwDylvSzKP3YFxAsAsq3JV5wiQmuCsvFgzqzLKsvAAAASkGenUUVLCP/AAAWsywsqySZVTYKzzQAs/c8bzUkd/VVtykqlPYIwI/wm6rZkO89bmecOoX2Le3c9dfETs0OPpP3g5zMdmZ68F8HAAAAGgGevHRH/wAAI6v4W3gT76j2umLX2i4lP2FwAAAAMQGevmpH/wAAI78EJMZ3G0G1WZABbwB1Go5SQCJX0XOFqFf5rCUcqmhL7UTOXWx8m24AAAAtQZqjSahBbJlMCFf//jhAAAENQFYA16TQCUQQU7cF6zQkdv+hyHTSw1VnmG9BAAAAF0GewUUVLCP/AAAWvEcV/v4eYc6qLEJOAAAADwGe4HRH/wAAIqw8UAC2gQAAABQBnuJqR/8AACOx6/wcz81m7OQTcAAAABdBmuZJqEFsmUwIT//98QAAAwAAAwAekQAAADxBnwRFFSwj/wAAFjCf1WbmUAAtmsTDGlLanopFsQKjyvHel9xiI3knLgvFPiE5EQO4taPLnCCnqxx+XbcAAAAcAZ8lakf/AAAivx01wcRWk1BVQoV/MJzbNngtmQAAAFpBmypJqEFsmUwIT//98QAAAwBf9HgdcEgsAags/dWww7/V+eVFT+eox/i6KmqWuKXHIiBonsDSGKKZST1SPY14uXyWPfP7CqXzInwyT08Jv0s/3xpxoSQ2bIEAAAAhQZ9IRRUsI/8AABYwn9WW5WBm9t8a0+kPzNewYu56FskwAAAAGwGfZ3RH/wAAIqw+fISOwLHXajmZsiIXoO6ckAAAAA8Bn2lqR/8AACK/G9gAcEEAAAA1QZtuSahBbJlMCE///fEAAAMCnwLw4DuUcYBTYa5IQuzZM2xqBot43piw8afXkGqhBNm7VMAAAAA5QZ+MRRUsI/8AABa1RAVGGpIGQA3LRiF2qZx3LycmmSDVKTMP42pgqDl71lQon9cwj+XhZ+1LIFkBAAAAIwGfq3RH/wAAI8LwcQZOABdETEZ3jm9Z2MGtor1ampb6bEBBAAAAHAGfrWpH/wAAIr8dNcHEVr1mxKafV0+adB8ySYEAAAA8QZuySahBbJlMCE///fEAAAMAI7isUcslT4rq7gRhmkd18/H/M+ONlrLOUB6Bv1XNFzRZixtycW8RBWlJAAAAHUGf0EUVLCP/AAAWMJ+qYFTxzY9LluhPF7GkIsWAAAAAGwGf73RH/wAAIqw9Is5bMTr8DtD4106rMKhKgAAAAA8Bn/FqR/8AACK/G9gAcEEAAAAxQZv2SahBbJlMCE///fEAAAMCnwLEmG9AAWMLNOVKTqrlcyaU3sSgAn+R3oVpNLPhKwAAAB9BnhRFFSwj/wAAFrxHFR3JE4wKeWQc4eJvYT7MILKAAAAAEQGeM3RH/wAAIqw9KGT+ANCBAAAAGQGeNWpH/wAAI7Hr/BzRbbm9tGNJ98AUm4AAAAA+QZo6SahBbJlMCE///fEAAAMAI6X7FSfdQ1vTMXW6R8h8+J0MUAkHmnMD6tIlEhSn/qJn9Z2xCkYXbp2Ty4EAAAAgQZ5YRRUsI/8AABYwn6ppV7zRw1iLL1m8IxUsMDbPCg8AAAA3AZ53dEf/AAAirD57mzIsALbq65/HIckfXrGtvdXYlVIIpO9MoEa6i5lAfnyfsz0dF+/l+sPRXwAAABoBnnlqR/8AACK/HFixuBCill8ita03lK/EqQAAACZBmn5JqEFsmUwI//yEAAAP1CmIAT3WW90Y5Qp5v98cVef8cza+BAAAAB9BnpxFFSwj/wAAFrVEBUYnOAALaCj/vVgq4xxCUNsxAAAAFwGeu3RH/wAAI8Lwfx5bnVR1iSgOptmBAAAAEQGevWpH/wAAIr8b2QJINp/gAAAATEGav0moQWyZTAhX//44QAAADnp/wiABNUHgbPYlXdLZ+Ejstk5h/z1ivBGkG/6iYU4/K8QKn0rT5+GVpEPYq+VeBuc9iW6MwREUKYAAAAAlQZrCSeEKUmUwIT/98QAAAwAAtntl1/2nWN2l2WmhYAAABBS1IQAAADdBnuBFNEwj/wAAFi6m44aZSlm3WVU5eAADin545UwG+0p9v2gIyoVF0IQTjBNb6I+Lf79K6EOCAAAAHAGfAWpH/wAAIr8dNcHEV/BrFhQV9aZrNw7wosEAAAAyQZsGSahBaJlMCP/8hAAAD9QoepkZzDxlP2Njxc3xcABIogtirHQXGKcqXjIeBmRD2VAAAAAcQZ8kRREsI/8AABa1RAVGJzgAEInfv2rVrrEI2QAAABUBn0N0R/8AACOr+FuNYsTY8tD2CXkAAAARAZ9Fakf/AAAivxve/ZfgS8EAAAA5QZtHSahBbJlMCE///fEAAAMCtcn23Ng7lfY9L+LddZEKrc1SFgANF4bHXwG0J/IF1VqhxaRF1znHAAAAR0Gba0nhClJlMCE//fEAAAMCsQKe3hwDXK21wCd1PunNuFC4n8SM/Szw1PURhUR6D+5+bblHxxmZltNLoMA01/ViCpF/UEPAAAAAOkGfiUU0TCP/AAAXTEPDFsuwGDCKPiD4BRZgS3tcRvlmsZBU5WYmk/Eq7EIiRVJaPwjiUX3vcBbsg9wAAAAcAZ+odEf/AAAirELfD5z+vY+AQY1gcii0EoMHBQAAAB0Bn6pqR/8AACSxy1giLKUmy6XrEm7TtRjdtg7UgAAAADtBm69JqEFomUwIT//98QAAAwKRyfbc2+PXO3D+rMi25p537HS6fEEqHAG0yPQVxMd3WBu6K2ELAnxjwAAAAB9Bn81FESwj/wAAFiVcLUXQNZ4TbyxK/hMCOouIVRwRAAAAJgGf7HRH/wAAIqw+jjvFnO6Gv8OJDY4oN9fUWuAESsfyNi4nf73BAAAAEAGf7mpH/wAAAwHmf+KAZ8EAAABaQZvzSahBbJlMCE///fEAAAMCsQLw4I4ElZZxNW/IAZzZo8G6ypovvNesNs9tnsQQ9YRggBfzzweW1wg9EGnjAF8l6TbmhvYTUO4E13cldUrW4d2+DvjYFzPEAAAAI0GeEUUVLCP/AAAXRSs3h5zqgBLeHQ5XTI9vtzGNGbfL3SWvAAAAJgGeMHRH/wAAJMMXaFURFg1Ki9lYqts9m9rOlqW1rR28l3TskRalAAAADgGeMmpH/wAAAwAAAwGpAAAAXEGaN0moQWyZTAhP//3xAAADAP0/7ooRTbdwBB4Hj38Ri15dbI7ClVv5f7Xb/qX9gLzCPA5KY67o5h/gatDUweVq89OeaiTpngjXnf+t3DTubMps5b95MLqSHZaAAAAALEGeVUUVLCP/AAAIr0kAA0fj1DgfbsvfehM8RO4JAFr+7s/cOGVDEBoMI7UhAAAAGwGedHRH/wAAAwHmsiYf2amkATxT9v/HgVE4IAAAADgBnnZqR/8AAAVGY4AFs0ueZVjHI7VScg28ckiY/VtgrOeOY2/RcxesBEdeFICn+KD1r3H+/+nXgQAAAEtBmntJqEFsmUwIT//98QAAAwKxApcaRq5ZVKnEAAumvsAjKhhoWWNUt/PHMkZR/LA8r5BJQJ+v7wOCXiIt69zULpnh8l5WGblRBBEAAAAfQZ6ZRRUsI/8AABdMQ8223Hk75yYgWl1vuNusNqCq9wAAAA8Bnrh0R/8AAAVA37GAG/EAAAAbAZ66akf/AAAkvwQnEsm3+sL4SaS5sub571rwAAAAWUGav0moQWyZTAhX//44QAABFThobFHOfGAPmvpoTZGr1o8kLt2kng8JG9hNWSJF1Z9L4hpIggO0/OcLIGxaA2BzodDxcdN8rXI0nDejG1Hb87GP5MjBwzmBAAAAKEGe3UUVLCP/AAAXTEPNHjITC6x5iaiBXk5kQAML/uFt+9R3ZkFuDvcAAAAaAZ78dEf/AAANzhLzJY8JksiYbA0H6GIsbIsAAAAXAZ7+akf/AAAkscwJb6lvsk+v7riXw8IAAACOQZrjSahBbJlMCE///fEAAAMCsck2rGgUBclWeKC8mbOFRF4nfwtfalCXka4QQxF4sEiuO07DG7eYO7dcWCj+12wh3G4mBSOsYEp55/3QSGx2P7dvVisDoSORvzobUfRBwF/Rof2gSl/xi5PfeX1TFubhzk2yUEIZ3dOJZteabrjZDBWV66vx/Xn2GLZUYQAAAC5BnwFFFSwj/wAAF0xDzbcXKAKIAHDzq0cn0eihZuUx3fhHPItdwKWVlfHZmtSAAAAAIAGfIHRH/wAAAwHmsiZQ+1XABXI1MmyKQz/8O3BROq7BAAAALQGfImpH/wAAJLHMAYyejdKrRgcs3JAhTGTnSsElGBZaC5CyICr/JZ9Fv5e9wAAAAERBmydJqEFsmUwIT//98QAAAwKxyO45Ae2brCoFF2qxTe0BKlGZBCA7GRhccfDZHw6IZqGsIAI7fSgV7k8gkOh8Y3UPOwAAAChBn0VFFSwj/wAAF0xDzbcVzKyZhiC/h8Y5Y3okBuD88mndLy1zWOCBAAAAFgGfZHRH/wAAAwAKgMoGn1x3HPJzKRcAAAAgAZ9makf/AAAkvwQnEsl7kiwGRxe3n0N+WnzW1NbYSLEAAAB0QZtrSahBbJlMCEf//eEAAAQzc08hahFAUDJrZqDT1w+ri60YIhWIPYzCEkFdAgn86z7kfHn1dQPNMlBW7keq5M0pRQ0mPw8CB9Yuk/4AJ6cCqnPKu6pbrn0KwqIlaG4ebuJp4gYRpEvgfgjJQhT5gIxskPgAAAArQZ+JRRUsI/8AABdMQ8qOh+NV8qW9amt5HA4YOyfEZQSp4SzlCo+DDtMnBAAAACgBn6h0R/8AAAU/WHP0qzXuABc9XU2rqdb5vQXS0eDSMQlLg9lhJHOvAAAAGwGfqmpH/wAAJLHMCW+pcuAII9SAC5TBnnhD3AAAAHJBm69JqEFsmUwIT//98QAAAwKw995Npn/3qAIdyZs4ZA5ws7mvwoh/+OjJbEgi8WtBpoKwC1NCxiWYbo3Cy2h47F55oM8FEIf4l8Raq07gpvHNIvrm3edPbEDv2Q3T6Ow2RlxEzPAkJdVLfgdVJhhwL4AAAAAoQZ/NRRUsI/8AABdQmz9h/ZXLZRJ1dJ8ylRY+dkIwpuXKgkDiwg+deQAAACsBn+x0R/8AACTDF2ipnfG3fzs57cn30357SVgPt4kfNt7Xqu9XLQki/nBBAAAALQGf7mpH/wAAJL8EJo0CHo42pIHiIogonM6JOvt3/dh7ZRtMgUktqabHrDgdqQAAACFBm/JJqEFsmUwIR//94QAAAwA4xvSD0W5TmpUVNdbvMMoAAAA+QZ4QRRUsI/8AAAite590kSR9mHkHSErDqjgKvBDK/ZT2QWbyABtHox6nBTI5j3Vu7fVM/2Cpay5oobPt73AAAAAcAZ4xakf/AAANhJ6fd6Bz2SOsDjX9AdZomeC1IQAAAGxBmjZJqEFsmUwIR//94QAABDNbtGNw6omxH6lSkARfcZ+8oQboatxdbGP9wvSTx1tUvqLr+jdh3t4J2YLby5s08XCdag8yxMG0Y56v567HA8rH5w1/XjfjNard4W62Pu9KlE5DRDLH5nEO0cAAAAAwQZ5URRUsI/8AABdDR7cNw4oAWLuNIAnbxHefkSWm0qj1Q07aMBxkHtR9rrthwWvAAAAAKwGec3RH/wAAJKv4WTRwxlroTmsR8WmaBELwDVj0lHduR229gVxzfx8LrXkAAAAqAZ51akf/AAAkscwJbz+4jnjseqjMVH836t8jicFcYPEZzUwvkLydKbtSAAAAX0GaekmoQWyZTAhP//3xAAADArHy5d7QRwgyek9CHcIZFdwNddNstcSRU6Wn5E3DYGfpqewvw37+f/PndCp5+vtr1HFnD1zH8HQZkoQfAbnXPGxKvb58I4J24V0CCHX7AAAALkGemEUVLCP/AAAXUJs/c6rcjPXx2w9U56eqoRdIJ2xV2PzcwKkMuULGpxQVtSEAAAAdAZ63dEf/AAAkwxdojR9kyaQnDKmBjFoHOcXLimwAAAAkAZ65akf/AAAkvwQnEsnU+JieTaj/NoR7PVynDNvxskzZ/za9AAAAbEGavkmoQWyZTAhH//3hAAAEM3jIwO0Y5hBAwypKAmBJdEaMdQNn0YC2JcF8w46pe0+vDwKPDayzywD9W6QD5nRW/C/4tvD7gJjOSL/KkIeNd48xStdx5UOeYFFaybCAkTm94MjXN4ZQJFVo6AAAADlBntxFFSwj/wAAF0UrOMje+m7ni+R9Imy5cPPl488ABwOln5G5Gmrjx+qXPOZ7XIXlMyh2e58wbHkAAAA2AZ77dEf/AAAkwxdp9owq+AAlqNoTmBpHBEd8IBalT48nNekLTNkc4nSAWs47Un5sHuLpt615AAAAHQGe/WpH/wAADdSV5XLjEryZxPfTSLKwjAJroMOCAAAAb0Ga4kmoQWyZTAhH//3hAAAENo4uRKuEUBQnDG/sRMvm925Vkvp3vkgN0oJPYVvA8xYfFJKn/I1BtvRtAG4Qk1YHX5NamPmA5Iz8FkPgsBF9QdsXoXccui9G2SrMToqBuxF69zBRWU2msLyLBVjQIAAAADVBnwBFFSwj/wAAF06jnfbp7WOBA7pEzuyF2WKggSVn8AQXpsw6QRSPqx9UK5JjwBFVHkKu9wAAAC8Bnz90R/8AACSr+Ft4ESu3M2ASIZa9rt44v9/oWLK6xDX61pCaNJW99GJxS5CRYAAAADQBnyFqR/8AACSxzAnBNsXfK1YCOwBRZbfmpFz4DBAC3GKSr0xWSVK5dXAWmqp1U2+0L73BAAAAfUGbJkmoQWyZTAhH//3hAAADAZs/LwAt4LiadMS1AN6b2xpR4CqcshfweJlvDa80ZFg093oz0K7Wehu2wns21kiycPPNAgqcO9Ig88E+aw47lDKh0+wi60Y5Y3EKXB1WIl+KYetT0f0342LTf1Uf51bVNZuq3AD+lq+tpBeAAAAAHUGfREUVLCP/AAAIq/rnLaENXV5uiqDgRCfVzr2pAAAAHAGfY3RH/wAADc4A02pUW0D2E5owkK+hC1f8e90AAAAQAZ9lakf/AAADAfGk8BgErQAAAIdBm2pJqEFsmUwIT//98QAAAwKw6VHFrwBFoQvH5F+B+LNazC4yzkVMmgZeDU4FY6EKWd+dXywuJ/Ds0ax7eBOXA8bbPr0Eur6pbUoSwJesUGCiO7iz4lcERHjF+3vPJnZYwKKCc1V9RWEz9rgTsri9sVYXGpyqRZK5u0tu104EGLF1oa7NTiEAAAAwQZ+IRRUsI/8AABdLX2K2qIMXeiBU7u+lUjLayJJBc5zx/gR7ftgBE5KGbDkNgr3uAAAANwGfp3RH/wAAJMC438AsKaIHVACUV7KDql5q1x7kKxwO6JzBvnAvHTT0fG+dhcCNGGbIMI5FSrsAAAA5AZ+pakf/AAAkvwQmjQInEWADjaXw7Xi3KnP5KYfZmj3Q4hpzujAj6J7XHeC4Kd9OhC6oYAozFGdfAAAATkGbrkmoQWyZTAhP//3xAAADArHIaraCIrQ6OOmCNc5azFeYYWezdKI9W7Of7p/HrianT15VkI/9vfKZ2VMAZJm3EYKEBzfd4SBY5oFe4AAAACdBn8xFFSwj/wAAF0xDzbHhDmWr85aUvAn0LaSk40562COvPfuK1IAAAAARAZ/rdEf/AAAFQFwVVRrAuIEAAAAlAZ/takf/AAAkscwJb8HCQaF+XbXPnKJHHHa2MpmTFZqYDAbUgQAAAElBm/JJqEFsmUwIV//+OEAAART63xkVApPqYHm80ANhP5qNSSgZMUnYESI0l2aMzuo4BjIrazECopZXSTO4/KTjnj5oFQhSs7gTAAAAHkGeEEUVLCP/AAAXTEPNtxaCe4gZO0vspgXXkGa2pAAAAA4Bni90R/8AAAMAAAMBqQAAACEBnjFqR/8AACSxzAlvwcHR1zf9MyYHM/kF6Ph7jaNluRcAAABCQZo2SahBbJlMCE///fEAAAMAI7P99aOh4AiYUwMc1VoHZnFnfOb8xg1uAsWtX34WGjVGB72VJAGRe5VEb3dtEmIQAAAAHkGeVEUVLCP/AAADATXlC29NRkS7BHBPVLXzC4aPcAAAAA4BnnN0R/8AAAMAAAMBqQAAABwBnnVqR/8AAAMB5oAS+OBpuK11QpcJO2ZW4OCAAAAAP0GaeUmoQWyZTAj//IQAABBvWpAFtN1AZAUeNDo3O9W3ypQ+IN7BsYnexLT8BVbCOqCvAhjsNf+d2UA6rkJfAwAAACFBnpdFFSx/AAAkvwQnEsl7kilqoyYolObuJdysVw6DHXkAAAAeAZ64akf/AAAkscwJb6WTQDpGlD8MhFHUIHe60B7gAAABbGWIggAO//73Tr8Cm0WXagOSVwr2yqQmWblSawHypgAAAwAAAwAAAwLa9HiTO+TU8TYAAAMBBwAoYVMRISAUsbwqBLEG9h/nCkRwo5B1rlb/JHqCwn77HSP4DFeQeYCjtYe96LwQRVdb9x8l5BDR5HZdKBTAzM9BX0DAsrpcgJEBZBhqyswz2DK1L3b0L+SIfl9Y23blvuoW6O5IAJRCMH0Sno1Ma6eEQZS/hw7iWzy2AsLpjuWIFp2tzdOvL72dtEBP8I6Krp1uy86SfyDGm8heGMFZVvDFMeblhIeRCjXvpLfrR2zrwUmfiFy9ld1hKlWD8wlvxHWtaV3Nw0vR0o5HaSSelgUdnJCwGUEc7+U5CAEBBYP2xzGuo3aeckBni7MP9kYnxo/hTsRAh6XfALmeQfivkMTWc/2kgxXA7sRJmIBcHPs+povPvuRXOESle3bYzW7+sfDms+xfHIZZb4siv7AAAAMAAAMAAzcAAABVQZokbEK//jhAAAAOgif1HoVu4AH7rr3/5aAaFw72V6QUGwEH7jRlmkgQmic4qHb3SYkc95/AT6UCcukDrERpT9ijGmZVe3ecaM31kl4pcFJZa1pgQAAAABRBnkJ4hH8AAAMBNgXQuPIbeemPVQAAAA4BnmF0R/8AAAMAAAMBqQAAABUBnmNqR/8AAAMB5n/VbGssCiGiuaAAAAAsQZpmSahBaJlMFPCf/fEAAAMAAMOZTl7mhLjPFjbByAXwxFVo2Rt3Tzmo9fIAAAAcAZ6Fakf/AAADAebvW6cItI2Sdt2rTDO/KopSLQAAACVBmopJ4QpSZTAhP/3xAAADAp8FNJjnPTT5fXircoWX343vlDO1AAAAFkGeqEU0TCP/AAAWtVhVis4/2KBfHHEAAAAVAZ7HdEf/AAAjrDkFrk8fPxV1EnS8AAAADgGeyWpH/wAAAwAAAwGpAAAAOUGazkmoQWiZTAhX//44QAABDU8wLvAsWVorCTF2UcRIY5S1K3QyAO0WbQj+8kvj/xcj+ofjcAyQmQAAAB5BnuxFESwj/wAAFrxObMLYSwtKnjTvYWNhjx+2EqEAAAAOAZ8LdEf/AAADAAADAakAAAAiAZ8Nakf/AAAjsisFsRY7D83Ozh1NfRgvdkBgOch7tOnYsAAAADhBmxJJqEFsmUwIT//98QAAAwBfhx35nQZJPn4+6/cRvklc+9YPbYKM8JVZPw/dGOjvLpyyUs9ybgAAAB5BnzBFFSwj/wAAAwM5Mc2YWwlh7U3xoRya8L9PbMEAAAAOAZ9PdEf/AAADAAADAakAAAAaAZ9Rakf/AAAFHzTVsaywKpSwFxBWIDj2j7YAAAA8QZtWSahBbJlMCE///fEAAAMCnwU0mOeMXtEEJqWG2lzhnFsNIRQtSioDFyUb6ex/EzqBxQm+ZahoCzvtAAAAGUGfdEUVLCP/AAAWvE5swthIqUhoGwY2HzEAAAAOAZ+TdEf/AAADAAADAakAAAAVAZ+Vakf/AAAjvxrOe94JvFaumLKAAAAATEGbmkmoQWyZTAhH//3hAAAEFLn0dgPT1BJj0AD9tFlUypJihavC66BlRFDtQdtNRV7PRVcoKxyNbPtvwfb4u8mCRvw/o4JiwvyRL8AAAAA2QZ+4RRUsI/8AABa1WFPjfn8cqF0RwYAcSod5UVpKO/BncI/Kv3vQhmFYQfrVEVr8aA9F++2BAAAAIQGf13RH/wAAI8M+DnjYa8Oqda4Gg0pFnOngNMxzJUNrFQAAAB0Bn9lqR/8AAAUft3SqzA9f0F2FC6RV6OwG+VtGzAAAADNBm9xJqEFsmUwUTCf//fEAAAMCn/OATwW3sp6nsMCH8FPdEdhTeRx/tv26bKYhPWkrA1UAAAAdAZ/7akf/AAAjsisHESugr5kHOlWwuLjwO+L6JUAAAAA8QZv9SeEKUmUwIT/98QAAAwANdmUIY7Bk1TRGfN2scETq2LY9ANRqgWFn7q2GHpZBW7ALU4Ib7+9XKZsxAAAAKEGaAUnhDomUwIV//jhAAAENUTyQxbXZrp0gPxtqxhJHkzY7/vKB64EAAAA7QZ4/RRE8I/8AABa8TajakzP4ANy0Yhdqmdw5B/B2eNdBJ3hWti5krIOzAgcSmhKxjj4kqE3OpA9k2SYAAAAaAZ5edEf/AAAFHFt5ksfH/0VqiHyKVwQ4q2cAAAAbAZ5Aakf/AAAjsisHEzqIkT56KZ4B3GRVFfEqAAAAP0GaRUmoQWiZTAhP//3xAAADACO7x7wAZMY84aJP0xTny5CGTbxNgKPyzeg8LoLKzWobZOoEw2FcG7NRiZlNmQAAAB5BnmNFESwj/wAAAwE1gTR3CA/8/EX7gCdy5zms2TEAAAAaAZ6CdEf/AAADAeWKHmSx9ohMioFzmm0RICAAAAAQAZ6Eakf/AAADALpmoUCHgAAAAElBmolJqEFsmUwIV//+OEAAAQz65bkqUAAbrEnsN92JPjBsR0waugKLs/MMA6ebRJTryQcPc8KwX7rQXnfDHikYUjigQyhG/tmBAAAAOEGep0UVLCP/AAAWvE2o2d9GUaACz9zx7FUZqPLcA61ceT97mb8oW7BZCG/n60z7xrXfkRWeIGQEAAAAGgGexnRH/wAABRxbofdJaswncQoeibpMhB25AAAAJQGeyGpH/wAAI7IrAgOgfkFpZtOm+oK0KZMOqpIlK1T/A4qLYMAAAAAWQZrMSahBbJlMCP/8hAAAAwAAAwDAgQAAABBBnupFFSwj/wAAAwAAAwEHAAAALQGfC2pH/wAAI65eM3+wHkOf6vAAIjq6Hs5SWwkdYf5Qigd3YXSFNduP8cobMQAAAD1Bmw1JqEFsmUwIX//+jLAAAAoXsPvo6S7+fDUKZB/uKMySA8YpEVF+GANJPr8QTXoHf3sFyythOuPFKAghAAAAS0GbMUnhClJlMCFf/jhAAABkOZnjVgXAtv2MTlmTCpKs84X7GLqZuDPtSdusJr5KQqrzaSNV6KvFi0xBH4ZohH5Q4uIwaoMI/asdPAAAAB1Bn09FNEwj/wAACCwKHkXkCcykXTYtX3fwyK2lswAAABsBn250R/8AAA0uEvMlj7RCTRqcKf6/a+cQtmEAAAAOAZ9wakf/AAADAAADAakAAABYQZt1SahBaJlMCEf//eEAAAMD9cxEBxhKeQe/JOazkwFU9U3O/1mKFqyxL3Dti18E92U/lMiaaLVSbyNsGx4MH3H/y9fSPgK/28dun+T7xmJoS/Lwgk20EwAAACBBn5NFESwj/wAAFiVYVy9efCsXuWCQlL6ScgwsGcd3gwAAAB0Bn7J0R/8AAA0uFcJ0BIxJQoJlqdRHVI1/+qU5IQAAAA4Bn7RqR/8AAAMAAAMBqQAAAF5Bm7lJqEFsmUwIT//98QAAAwKe9+L3InXdDZ9D5LqPggBMkkrOgZfRvDb90FIpu+HCBWx3HRbgTU00t4d1M/WS685eLBl1Fk+XNvtRmIkWhbnXVR58/hVL1pHilKQwAAAAKEGf10UVLCP/AAAWsyu1BgDO2g4dS41D9fVSmnlHhbANkzMpdY7Ej2YAAAAjAZ/2dEf/AAAjq/hbeBKsoARsV5mt8z0m9h5dH+oZppOpbMEAAAAcAZ/4akf/AAAjscwJb6l2cXJ6NVUWJ4J4o+nFRgAAAFBBm/1JqEFsmUwIX//+jLAAAEZBicgEaSkQQMpGBN6yQ964b82t2c0lxUUQmzksOkuXe9J5QvFSZ3DBYh9sY0eI+4eQVsIH01jMP7u7US1bMAAAAB5BnhtFFSwj/wAAFrUrN2taYQ1PJ84IzSkki0quICEAAAAuAZ46dEf/AAAjwxdoqbAl6jhQB9EdiPMqJ0Ks56yRkSTsQyEe5jKsTGweeR92zAAAAA4BnjxqR/8AAAMAAAMBqQAAABZBmiFJqEFsmUwIV//+OEAAAAMAAAypAAAAPkGeX0UVLCP/AAAIKj/qryQAcbWNOff7Ff22N+niOUGDcXOAtQSHD+7ZtYHRaF2DRtQtyv/oCXLzaGc7zXtmAAAAHQGefnRH/wAABRxSZ33q9YSg6s3sNDIc87hnrnePAAAAGwGeYGpH/wAABR0wDinKRaLqoeUnbJ6H1NpyQAAAADlBmmVJqEFsmUwIR//94QAAAwCWmqqAgsGpIAhZSbYKd4SZ2iVOcE09AU+566JkpSIhXAgu2qZZSy8AAAAfQZ6DRRUsI/8AAAgqP+joUH918ToiiymAp8KIX2YJyQAAABwBnqJ0R/8AAAUcUmmwhTl5gP9YMNJ2HKwzd+DAAAAAEAGepGpH/wAAAwBFfjewcEAAAABJQZqnSahBbJlMFEwr//44QAABDZVsXe5gFKMSlTdAGjWzsMpxf7/cKTuN1KlfhNRuzVFHb3DhV3862BXfwe4Qr9X8xgA7BETPjwAAACQBnsZqR/8AACOxzAlvqr3qbfqKC9PjtBnzlZLHUT74jL9r1bMAAAA0QZrLSeEKUmUwIT/98QAAAwBc2Jka6dVWhtq5QNe2X0ej3C/94bpMAUITePQ5nwOeJZ9bnwAAADVBnulFNEwj/wAAAwM2aF7I+kKpz1ml/ueL6yABxak56t9/hawCFWlyx18dcVhEhwICgmLbMAAAABwBnwh0R/8AAAMB5YoeGagK6CF3O7/CVvPFNnbhAAAAIAGfCmpH/wAABR009eFh/ATiojBUop8PX3djy6I8IiAhAAAANUGbD0moQWiZTAhX//44QAAADiHgmf56OjEABOkSjWc167K6j9wn/YyJ5d8ccv4BhOg/HEL5AAAAM0GfLUURLCP/AAAWsyu1BcOKAFiz3uEhdjToFHsb22dwSvxEtiV942OxNlIEganDvEhvgwAAABgBn0x0R/8AACOr+Ft4Ep1psoiVK9Q/H+AAAAAiAZ9Oakf/AAAjscwJb6lv0fpfEVg+TGt/ChcayCEbgBHbgAAAADxBm1NJqEFsmUwIT//98QAAAwAimbNCV6sgADhVHUGM4xLCZo5ZSkQkY4XqKLnJBo/YgoCueMu0A1DECcEAAAAtQZ9xRRUsI/8AAAMDNmgmkNBTvNPLWWETr5VTHV4mOm9JUeGRBYQwQbuUOQckAAAAHAGfkHRH/wAABPhc4UPAfKlatt+BuCipGCrbeDAAAAAeAZ+Sakf/AAAFHTT14WQlpW7KOvw0hg+AfIqxEqOTAAAAP0Gbl0moQWyZTAhX//44QAAAJagKwC/0nP3+N9IWSsTLyp6x0F2JnwyqrCTutoGcedoNn8wNuvkVeOuWWIFYoQAAAEdBn7VFFSwj/wAAFrMrtQXDigBYs95hst0cRHvJQr8QugFntEXJCIGkKaKdwYfmok2u7hmzHwdcj/tUrRe+yw1dnnSBmJVswQAAAB0Bn9R0R/8AACOr+Ft4E+//2CUFwvNnS+5eh5ymgAAAADIBn9ZqR/8AACO/BCcSzEJ8cAC6gDzlpXAbbc2W3/qhBQ75MxBZ4EmGDl4rP1AVTS9RyQAAAB5Bm9pJqEFsmUwIT//98QAAAwBfnGGoFAWwzk+EAicAAAA5QZ/4RRUsI/8AAAMDNmho6QtjsugsBwtAj8cH97hTeTEOhXoASiEwcly2NtGaxh2w40+y7hVn9z44AAAAGQGeGWpH/wAAAwHmf7/rcDvmgUp+RhO/HPgAAABbQZoeSahBbJlMCE///fEAAAMCoLOKwAjLZomPAYAauYdNtON9hqX7ijCTRTZgRfQkI+8/+bGKvh8eb6JF4VGb9l7lc6I/m2N5dkCz0RTsNxg2vFkwEOQk9cdUwQAAAEdBnjxFFSwj/wAAFrUrN3iSAlS4OYmwKXYQgBt5B2UbYgnOKuBypm0gHnS7WLLhIp3eFMwdO1HGYQarh/IIXhdOzGbYNDy1twAAACEBnlt0R/8AACOr+FuB3aCS2PDF0DPWtnjcAI1wRvkzNs0AAAAhAZ5dakf/AAAFH7dOthHr+HBGKDRdH3Aw51u70lxkDlgxAAAAP0GaQkmoQWyZTAhH//3hAAADAJM4ePk+XMEd7lfhJsAcisLxNYAHqQExLP4r248JFM/hqS5/mry3oAqrJ8lO4AAAACBBnmBFFSwj/wAAAwM5drPy04KvIS6yEOLCllKODO87cQAAABsBnp90R/8AAAUcUmmwhTl5gQQqA0hNunMW2YAAAAARAZ6Bakf/AAAFHzUkaFeAb0EAAABTQZqFSahBbJlMCE///fEAAAMA8/mfhFNigr3tB4jTP3NBi/QXW5xOPNTC4YXhA3Nnhhl4zoOhQ08uiEEGgJ2KWzj9kQJtTSWR2SsRIsbqli7QoYsAAAAfQZ6jRRUsI/8AAAMDObwIS9GN1bQZvh+mtGCoFORFKgAAAB4BnsRqR/8AAAUfMJdABprRxAgOpbuNVgGg1WWEJUAAAABkQZrJSahBbJlMCE///fEAAAMCoLOM+gUM2yyStKl7+53RO1g8iCJzL8SHjDk+SK3aakjoljQXxk5UYgcZKCaztU8Q6t+s3BdrFZmoiPE99l9jhz1bXxdYwVbTbydfmYJQedB6oQAAADdBnudFFSwj/wAAFrxDzbcVtl1JFdYabOyCsAALAfkWRsi9LJ2sF6ZpNwU8gTlMe/OhLKDry1igAAAAHAGfBnRH/wAAAwHlih4h09NF0cJMu0f9HBSjRbcAAAAhAZ8Iakf/AAAjvwQnEsf9Eit1Nv4gA8MngFA7v2/dNtuAAAAATEGbDUmoQWyZTAhf//6MsAAAGgBMlsQ97LruHD1hxpCwA1rqqwtoFUVdrUXkIuRb8IHIxijVMMIrr53UyIM2y0ZzUUl9zQ0zFrtP+LEAAAAfQZ8rRRUsI/8AAAMDOTB5tuK5lZMpKLxfhDEk3ePBgQAAAA4Bn0p0R/8AAAMAAAMBqQAAABwBn0xqR/8AAA00n5fHA03Fa0+weP1pTYmxzq23AAAAFkGbUUmoQWyZTAhX//44QAAAAwAADKgAAAAzQZ9vRRUsI/8AAAgrBpN4Df0d6ypMgWovxZIpbc2Km5GPynaOnynE4bRF4CBNl5ckW9swAAAAGwGfjnRH/wAADS4S8yXN88FBG/MMVh7aw6CyTQAAABoBn5BqR/8AAA0v1jTF3G3YpN2oQw7Y5cXkmAAAAEhBm5VJqEFsmUwI//yEAAAF9hMpBYyKB6walI4AEtRtO0Ux64+AjflqmmMT+ZMRdq0rjT2Prfl05R86ZxH9mAWnIiOrX0pstYAAAAAhQZ+zRRUsI/8AAAgsCh8Xr0VT4gnJwHvRC+N7pMzBiduBAAAAJQGf0nRH/wAADS4S89jvj/x1cdQNwSlZUfe0LqPtCIvYpePL2zEAAAAQAZ/Uakf/AAADAAPM/8VnwQAAADdBm9ZJqEFsmUwIV//+OEAAAQz6MoANEpjnaiw7nTs69ZpZXy+fHq8XDkwid/77sNYsTP6ZbC2VAAAARkGb+knhClJlMCP//IQAAAMA3QvJvsfqACWo2TYkFk6hsr+WqXngB34Kr6ZmJAlZQl08JGcdblOWp0R26LGWz0//fLB4fkgAAAAsQZ4YRTRMI/8AAAMBNYFKCovYAyAAIhtTJzbK7MGu55h5a/+DLtc7NQZ1YMEAAAAoAZ43dEf/AAADAeWKIm+W/xxH994TwQkUCeFQAQrHtotbcCtSaeoeSAAAABsBnjlqR/8AAAMAunaBC+kEj+ssreGfWWwvgTcAAAAvQZo7SahBaJlMCE///fEAAAMAI6jzTLRKECc+cjRtVHKqEkuMDVhuJv4O+a669YEAAAAmQZpfSeEKUmUwIT/98QAAAwKfAsSYZV98KlouEtGMBkDuX+CVwWcAAAArQZ59RTRMI/8AABa8Tmynvy41tyZh5dQkZGwe2w2vby2MD+SAITwY8n65GQAAABsBnpx0R/8AAAMB5YoeYYZDB6m7ZFia7dA6/bMAAAAaAZ6eakf/AAAjsisHEzjhqCchr6AtZQUw/pAAAAAvQZqDSahBaJlMCE///fEAAAMADX0756hrykG2l7tIAOqYxICAGy/4H+gple88LcEAAAA1QZ6hRREsI/8AABazLIX7oJCAFXTI1eCgp94kaK8bZvYd5Wx1p9ndxDmxeHsBLbU4VW0MJUAAAAAWAZ7AdEf/AAAjwz4Qw2rbaBjawRXjjwAAAB4BnsJqR/8AACO/Gs83XBtfeBpdrZ1uV4MsuFcSFTEAAAAqQZrHSahBbJlMCP/8hAAAD9jZmBGivzYGhv0UnJ3310/EsCN/g89nJJHwAAAAJUGe5UUVLCP/AAAWtVjxbLF6bLwwvH+ROJf2QHOTP3WH9GUNCYAAAAAgAZ8EdEf/AAAjwz4MG2hx2YuP/JNYySDC2XJQnaP+cqcAAAAaAZ8Gakf/AAADALonzAgOmM+jHVXDTaeCLbMAAAA3QZsISahBbJlMCE///fEAAAMAXPlKWZ++wOiN5YM13IAHaGZzA+rSKjiI4L6YqnH+aeGyuha1swAAAEhBmyxJ4QpSZTAhP/3xAAADAp8C8OAiZUMiV4R12/Lyf1sPpfH+edSHorPUpmGc8/aEYUNVQwg32AsKSOrdtppfyLwDgwEs778AAAAyQZ9KRTRMI/8AABa8ToynABBfrtXgBGOHLCroVsX+uaTFJz6fZFDbxV93FFMfgw/t8jEAAAAaAZ9pdEf/AAANfhLzJY+P6wbsIXQiTkT+DkcAAAAWAZ9rakf/AAAjvxrOe94JsTQPF9xxwQAAAEZBm3BJqEFomUwIT//98QAAAwKfAsTi6CPYeVWcwAtvGvlCcjXVUI0MVjoI02iao/akg6xlxFBFvJKizqgsDFouveeXEK2ZAAAAH0GfjkURLCP/AAAWvE5swthOfjDBwnHJYqESKlK3cCAAAAAOAZ+tdEf/AAADAAADAakAAAAcAZ+vakf/AAAjvxrOe94UHgHXXKf0hohd11YrgQAAAGBBm7RJqEFsmUwIT//98QAAAwKfylHwXuVnYMyABOqi/CVgcjuppUP8KhH7UnJu0Lrf6VticJCfEh9ZsLxdZDuqBpKEJL1WlXf4/FdkbJLDj/IbIjQUAaawZYKMFn8HNIwAAAArQZ/SRRUsI/8AABa8Tp39gM76HYlRLhK2h52IBmzQw9rXEa4gEv0dUcBJgAAAAB0Bn/F0R/8AAAUf0MHPEnfVwu993vOcQH4f5OVgMQAAACUBn/NqR/8AACO/Gs2uR9PJ64+8DwDZViGRaU2sKGb0lzl6eR15AAAAPkGb+EmoQWyZTAhP//3xAAADArEciIDfzW4c8YwZim7OlbAu23n7iJ6LPBbHB5Ql1Mrbve7n2j61d7Fqs95xAAAAT0GeFkUVLCP/AAAXTEPNtt07EAFz3Gi0NqXnVXwBeMzn5pc4Bg1/vFFD+nLCR8OIaejl8vZtRoYvDHPOSwkk7bdKjeuXnq5K6FHkbmdw1qQAAAA2AZ41dEf/AAAFHPVrPAQP5gKTD9Zkq5lqgvXr5wtOEm+Dk+064IPOGvAvdBZCsZqT5BHxhx3uAAAAMAGeN2pH/wAAJLHMAZOaNdhb2E4Sc1DxB245ukh+OXUhZGhVGFYKFMsGAxDQS7pOvQAAAH9BmjxJqEFsmUwIT//98QAAAwKw9vdAIcGCU/drcWUNagMnmUTfMFMJ3iQNFi2MSzq1WBaDRMPb5j+HPshK+nY3R+/Bfs2gkGsgE6Z+bEx/nPiUwk7afCXgHMngh+VqVN4YotkJQm7S14iYzJBxbpEpnqoOlpUj1Sk96427UZ/IAAAAK0GeWkUVLCP/AAAXQ0e3DboLz6gusEP66EomKUcS6yT83H62HmRZEHT8H6kAAAAcAZ55dEf/AAAkq/hbeBKdvtOXtvZK7DK6AospsQAAAB0BnntqR/8AACS/BCcSyWmbK7ARCwJLFBO6/kjqbAAAAFlBmmBJqEFsmUwIR//94QAABDTVU/5EGSoVaua6k4qJA9J7LL6nVYYufH2OCffFyUJj+dNPiBoaY3tkleGXPeR/imwKmrJGRNLnd8VYqexxzcI7Vh2o11kJ/QAAAClBnp5FFSwj/wAAF0xDzbcVdD5IcNuG/bM+G5Ced4NlC49+0xgP1CvPuQAAABoBnr10R/8AAAVDy+0VNKp7oDKAxaG8R/b73AAAACwBnr9qR/8AACSxzAM6lyxtnEfVkI4s94B2YBV8TNIjx0xvUtB4veZfFSxkWQAAAGZBmqRJqEFsmUwIT//98QAAAwBh3mALYDrSH/NL6nt04AblqR6gWVuvADYD7jjX1V5ae0a4tDqj1dw+lU0o8ivPIvFDxxGKbBhno7zfQypAyk8VyEg8ELH5FrkCgGLn1OrdCQ8/iEQAAABaQZ7CRRUsI/8AAAitgXfENADctGk2AT6l3fbvU/gs/HEnPontJaaDXxsS6jO6Q02s9j/DCUB5XbjGtmMff+1LR7xxfdvXv+1jnfckWd+2IcApbpeTO3FMQ73BAAAAJQGe4XRH/wAADYXvLayFZ87/ofUcOipQTGy8NFmjPAANYytbakEAAAAcAZ7jakf/AAAN1JUugAzuzGif9aAMyZaJpLf3oAAAAFZBmuhJqEFsmUwIT//98QAAAwKxAvDgjTDWz6ig8SDaI5dlmnPs4ws2OiCZ8ohFbKaThuzUMJXBvsKJCiOe0vfZfZ/2GbbK2ro5BHkm/ss+WVUJXEKBiAAAADFBnwZFFSwj/wAAF0UrN2thKSKezwTZFTvpKZ52OloUALbw8rSx/reoDJq8myM/818fAAAAJAGfJXRH/wAAJKv4WdI/AbzwFXG+Ssm6TJgoJ/f/Dv7O+9EPcAAAABYBnydqR/8AAAVBPmDgbdvxOz6zFqbhAAAAVEGbLEmoQWyZTAhP//3xAAADAP0g/1cHveAAtmzeZCpCyV9h+/ouiBwzfEOjNF11Pr58Z6fONmQvJ0XktUzznkDsWtRElcmZ0W7d2QTXiFUTLpff1AAAACFBn0pFFSwj/wAACK8nNeF/tKGqoeArL0oWYYJ5ZCp0HuEAAAAfAZ9pdEf/AAAkwJjpWHxBjhyDjzQm0GQ57dn0RUhqQQAAACIBn2tqR/8AAAUfNNXeZZTIMvUQdTcPcj9SWf+N7TJpampBAAAAUkGbcEmoQWyZTAhX//44QAABFPo4ZAvTrYK6kg5tPfyPi6+AbRzLC9emw3OcHwUGQBGFYs7R8/40t94s+FOUnKm1Nw4IU/X3O/eCxVGqnrjX9SEAAAAqQZ+ORRUsI/8AABdMQ823FXREUQkIK/QGAJE6PITjT+oJR6W1ILnu1rXgAAAAIgGfrXRH/wAABUPL7RUzvjlHsVJa2gBI0x/BAyIH+khl+IsAAAAhAZ+vakf/AAAkscvowfuwyU+eaIGojMT6qgVojAuSSHBBAAAAYkGbtEmoQWyZTAhH//3hAAAENNVT/F3cE0HhSS0zGT0YkEQ+bWrwSn6xenngSfjbrJyuXDUNB3ahvVpzQJxTTeEsg0wrmruL2fPPcbYRJ/pvUlUPG5HG9vAQhvqviNr+jNnYAAAAJUGf0kUVLCP/AAAXTEPKjofhdF6PglKiVxmgABM8auweG3+TS1IAAAASAZ/xdEf/AAANzhLzikLRJAatAAAAKwGf82pH/wAAJL8EJwrTb1dkieWwnum3NxUUnX80xmhnEL8Qy9tggU9+HuEAAABYQZv4SahBbJlMCF///oywAAAbJ2ZAAbULePe/PGMpBv4qxXVCOSvzzlk4XB1OAc98nHt8u8I3y+GzyVoBcRpchOA4qKyRoA/YotAry6B6QULryp19JAuI4QAAAC1BnhZFFSwj/wAACKv65xadcjCDDnu4AButZKFRnLqRefjYoGmtyyb1m6MErUgAAAAcAZ41dEf/AAANzgDTakoLkl30ffmWHFXyGKQ68AAAABEBnjdqR/8AAAMAR34IV4AzIQAAAG9BmjxJqEFsmUwIV//+OEAAART6HI2Cq/hc4QAfxP599MZr6apUnXTej88GdbTHFlH14kp21VUrTsJWF1Et8+l2bnGS91kLD23VO2Psb5uoKdaW72kcB5D+L89rihUlYYDJHxsNJxYfh0h19pHC4sgAAAAtQZ5aRRUsI/8AABdFKyniRjirCYANWQTHPDdTX7D9GXT1GpjKVmdoNWuBiOCAAAAALAGeeXRH/wAAJMMXafWuouO6iQJEfJc0VodDIMUwCJv2V021nbDw5ftJevBBAAAAHwGee2pH/wAADdSfeB+f1COfJQQOIF6+sfIhbS4dakAAAABiQZpgSahBbJlMCE///fEAAAMCsfLlqGZYE3FFA/KkCfgAZ0fAns36dCImY0uv9xRnstY2w23xLVhOMVhfG3rWMTStE8KzSnbp0PokkUiPHtrMAuWN4NuFZvM5c/Ec999cP4EAAAAjQZ6eRRUsI/8AABdMQ8392lrFNd68X6kigDt1PKyJopxpo4MAAAASAZ69dEf/AAANzhSV9ubJ1QPmAAAAKQGev2pH/wAAJL8EJxLOu6PcDpBLQ+hmalwDYL0CVYvRrsYXut5RMLUhAAAAWUGapEmoQWyZTAhP//3xAAADArEFE8Ofl2bteazMS90QAEJBy+h4ZmTfKdR5mQ6O7bM77oMr9yPot/2Yfkh1r2lYYIANe44xpgmLLg5sG8IhP65hFt46eFXAAAAALEGewkUVLCP/AAAXRSs46rO+tnaT9S/MAG2oFzoSHSOTCLOrZm6eyLZEAZFhAAAAHAGe4XRH/wAAJKv4W3gSu2f0WdDUIqOjlHROFTcAAAATAZ7jakf/AAAN1J6XeHHNzxh6QAAAAJdBmuhJqEFsmUwIR//94QAABDNbtGNw9l4RF2OYL5Hh4UI/gEbqmhcZNtJiwqprQ5AVeqr9CsUcZznYVmbnYxZkHd5wjJ+YThGAUvK6zBPPH8OQ4cITAQddVWtJ+42lHX3RpdS2sSok8CjfYCrmDWBoOoi+XpSfUYDMykpQH9KYo6ztehl8ShR1rMLCXeOPWfzPMK9hjW/gAAAANkGfBkUVLCP/AAAXTqOdx3IVH7iwdgK4vOetmhboMnW8VQ3212333G5cHCrg8jhH9qzJ3vJO9wAAACsBnyV0R/8AACSr+FoC0QQI9fBLgxgLORjEh+cIPT8sugp43xhrtao09J14AAAAOAGfJ2pH/wAAJLHMD26047buS2ADgZ5+NJisCXI7dOEmGtwpnnfnDW1/jc0E7y/qokBtlu8SKJqRAAAAekGbLEmoQWyZTAhH//3hAAADAZ13BdkgCMCCT3/bxnGdcZGhQ3yDFR//1+Q1Y+u1Wgg0sGpxIiWl0CvuL1jlcL0X/dK3CK/ps/KPYNAWFNiyrc2RD8dnEIAtGIh4LpmiLBBtsnWIyV4U2ZsAbuXxKQkPX/FG5sNuARNgAAAATUGfSkUVLCP/AAAIrXuf6buTBres/dozhtzLcPFpuKJgKWsX2LIlxkAx7KCQwKwxM0m3abDyguYCMXZq9tHO3L23WWa22WbQEH1AkZsxAAAAJwGfaXRH/wAADdITia4SSdBAZMNojkpnETPeiAjrWgkET+NHKkLgQQAAAB8Bn2tqR/8AAA3UlS7ipenI/Gl7b7xZeTmzSBOk0QmBAAAApkGbcEmoQWyZTAhH//3hAAAEO4agLoOyBUgWS/K3+m5s+JIBCu9Kdl4WYxCGJbUtkZYMx7cGlUldH8zydJ6sIJCRGXMbwvB7b279FWiQCHSmq7MYgMjXUFBZA6MHk7NtSxqcd3gL2eqRxrlCdbieC/+Y3yMya7Eu6BYEgT4RBDpaMNDulTv2QlUnNasz8uxlyPvj13ATmzz+7+RiSr8iETolHUtzs7MAAABFQZ+ORRUsI/8AABdLlFSxBU+EAX9km2Mq50wzBV33vZ4SThT7NRcPeFgiBupqTJf014MLOFE265z6oe7Rbr99zQhkA9qQAAAALwGfrXRH/wAAJMMXafWmE/6eocSnRXJq5/ljymGHQc+CJkswhUcQYf43AJar/JakAAAAMQGfr2pH/wAAJK4xL9I5jNBOT7bKKE8bajayajHtdPw5dYsUt6yMmovDE6/U0GwbtSEAAABFQZu0SahBbJlMCEf//eEAAAQ0QqBUUxCEICrXCHNE0Fa73Fr7Em1HR/RgThTSxkqWFREPxsAL/X676fM0h5qiM8FuUc3wAAAAMkGf0kUVLCP/AAAIq/rnLBtAA4tpgm9R0a0QH49BDEJCT/0l5ncWpFZwE7hf9UuZDdqQAAAAHgGf8XRH/wAADc4F3xVaAvKJgY8skLVhHHs2BQR7gQAAACkBn/NqR/8AACRLRcH/OaA09slTVoe7zNx0jqOfJ/tD7sy8F3TzTAZOOQAAAGdBm/dJqEFsmUwIV//+OEAAARVPlM/xoDUyMclzMbQpeV6AGwshW2fMD41mHbgpTM4FWVmoB3TN63RMVCrNrUbWTlPCzm/fpELx1HAcogz2OSxZhIXp+Ip5GPncY4oULWlN/H0L8YArAAAAJ0GeFUUVLCP/AAAXTEPN3XFuk+JbwNIjLJEx22Pr79ChQEYyrMsDggAAADYBnjZqR/8AACTCgnVMDxYo+q0AC6HypUy3xc4YGKi4IkRqjdHoN1LDD9a8z27aAimqMiNSZFgAAABmQZo5SahBbJlMFEwr//44QAAAZ2y6JQAsZfMmb3S7pCreZYSFSPx/XSrpiAvXXwvFDyt5D/+85jGZ6NcPnrmNieOnPhkh8TvvAuga69rYl7egcJ2iq3oDlOiptjgUGr2pGaxAMJohAAAAKwGeWGpH/wAABUM01bIWoAImAU2JfHVH7mx5nH0EBt205y/NbUhlREWUVakAAAAmQZpcSeEKUmUwIT/98QAAAwAAw8auaXQD/bl4vveAWjC7dFGOUEAAAAA7QZ56RTRMI/8AAAMDSpG19rJbUAA3Uh9LDDheXVgslDC9CqvvdVeoR/3wzOcDqG+AIA8R247soOJuJUEAAAAdAZ6bakf/AAAFQzE0piuMY2Nh2mMpFPkz3ihJyMAAAAB/QZqASahBaJlMCE///fEAAAMCtewy38ZYCd/qOjRGJGgElPiNd2zdbNaGITxjMxf2Jh9eah6gtmqdfg0V9z2vSkg2U+uxhPIANwm3lntlA13r06EgNAqZFBCEmdvSMJ95B9A3yxpRxu4NwmIDaGZ8J7BML3UIKVspuhLo/gxbTQAAADRBnr5FESwj/wAAF0Um45kJK4UA/RyMZLyWT1VJXvx9daZg15lgpSD18NYi5DQLnFUgHbUhAAAAJgGe3XRH/wAAJKwVDgvAa2Al5TAskDZ18tub+1GX3WIYwwXYDcCAAAAALgGe32pH/wAAI78azjN37P/H6gVFQ446NWxoO7QWuU4AWdbEdgv67AlLID+3bvcAAABNQZrESahBbJlMCEf//eEAAAMBkX8CkCg0HZ2fJDX6f1r6CQmpyrtE430yckPEbKducWsgE1yvXlm9HszDbc0mizl2VxW93SY9gWrKtYAAAAA1QZ7iRRUsI/8AAAhv4nySk0vgO7o7Ht/kabw+/qcTW3UKRsGRaUxRqQ5tKZxuy0JT6JULXAkAAAAeAZ8BdEf/AAANh9OiNrmFDS2+luYaoAvb7c6e12PdAAAAKAGfA2pH/wAADX/XBsgh2cn0BROHbo/9ebvAGQt5CpLY9YKAyYvW1IAAAAB8QZsGSahBbJlMFEwj//3hAAAEE3OTX+VF1AJIKyJOKSLz58VTscurO17DGQeEyUZxdEPkmO698qHlev0Ok8MwDlZMUwVHEIJ56RpX3T5tsbqnFaI1U3YBqbITBqU/f5TXG38j1L9g8g654QpzTZxQRiwWXOWJTy5H3jYk4AAAAC4BnyVqR/8AACOyGpzasDTFaeW82o+DCdoQu5Qz8RN6ylWPaeDRiCX/ieIsYultAAAAN0GbKknhClJlMCE//fEAAAMCn8pUok9K9k6R/PsMlwtJbmy0AhSfpEGAKrt+NwJsZ4mf6n93o7YAAABMQZ9IRTRMI/8AABa8ToC88tb13dUk0E4Z6ABGQXEKhjV9zDEfQE68qWbueR5XDX0BVeRuVAStLGmBHFRKaWgCmG+uF46YeBjj0yX7MQAAACEBn2d0R/8AAA1+EvPX0WhygFp8DSI4suE2tYRD0oLf7MAAAAAbAZ9pakf/AAAjvxrOfBdxITjkK6lhsbzEUkjZAAAAlEGbbkmoQWiZTAhH//3hAAAEE13R+pcVAAJFuWoFJonvt88WHng116aPZglP5d2chzwSmxbhmNC42Ojzd+qzjmVhXPjMxf2srgzrWLYQianh0RuR2h6k3EJlUhK2aXfgXkv9olYbxLKvO10sNHeOiffeW6hpmSkthhVk9F8h85RaMeENwj97s8l471i0/bFx45d5Z+EAAAA8QZ+MRREsI/8AABazLHEVHwdqFO3zqzg9dXNLYMgA2jxzRtDV45g069XNTCnUlwwG6mQAT7epW/MM1H2xAAAALwGfq3RH/wAAI8M+EMNFUYUziGx1hPJrBGMz9VmePNyVxZTQD6tqEruuZeJWtitnAAAALQGfrWpH/wAAI7IaoEamYlTFYq1HeL3d5VrJzhoyqxlZ/bNjJ/J9539k8qzgQAAAAGJBm7JJqEFsmUwIR//94QAAAwGRfw1kAU/LKRPSXyBW44bnvXojz3YWh2v/GUjBS761OwQBbBpvSzpwQzuiedGSaNb23YOGThZbnBfglam2bpnXtWHiHysEqBAXGreIdoPAYAAAADJBn9BFFSwj/wAAFrNIj4B7QA3FoOm2/KOVXzf1hWMmAL+4aJrjfjaCgX6+CjoWWZ2WzQAAACUBn+90R/8AACOsOVyWnxbuWLQ+xnU5eeIN1P+VKdyoglfFK3/AAAAALQGf8WpH/wAAI78YuSb4LiVOI+5/GkzJNZTNc+ZPZ52M2tvsXEjQ++u3hl27ZgAAAIBBm/ZJqEFsmUwIT//98QAAAwD3oGzcNEL3/4bFgyA/bnqfz0AI2s27cMxvjE0sr4pVd8LTI8BbDZN9+mfygt1/zyvs1HvuQeVF4zMzf/3wTgi1nqefs2GQRkCcKs2LFhAi/meQhFFf0EhlMjzMuelLqYhOISm7AR9W2jWAlIvWiwAAADdBnhRFFSwj/wAAAwNMP2/ZhmG3F9Lr2nedK07e9YH0oegLxV8kzLnX3QRLXhl4kcjttzwctNyRAAAALgGeM3RH/wAABUBCGZ4RmY2/yCEvZogP5WQ6lp3y3Ok5fCENesPKa4NztF/9WzEAAAAmAZ41akf/AAAjrjL7K/sz/WVSUzuv6SZ33V51TmOOKU9INDpFxYAAAAA6QZo5SahBbJlMCP/8hAAAD9Q1/KYR8QmBhAAVoqDfOsSClbWKEEISfARkbJaJBT0K0Izz5dV2ghIviwAAACFBnldFFSx/AAAjvxsCLsEUghK+nTm5tRHo2/uaZr09SgkAAAAsAZ54akf/AAAjvxlkaXo8S8I1DE5VpCzg56BpfMgQgh+/md9V9tKKiGSyLJMAAAGWZYiEACv//vZzfAprRzOVLgV292aj5dCS5fsQYPrQAAADAAADAABNxUTOiwpjxNkAAAMAXEAR4LAI8JULYSEfY6QycExu2AAXRP8ALhoFzO3WkBLRU5321K37kHp0iBMW76QL1XuDzXVEZXCclboqx0VhnyyrVxBD6fI1sYgmxruHDxTuIvQfH78aU2R3lqtTmMun9Xnuk2PHCp17FCZLzNJidph/Y+WgbB1xryzHy6rjVbT7vFsX2PyOm0zyxwDM5VWY5fE+3zhIkTC7PdzerPu4AFJZa52pX4/NuGMGAFro+3st7fAYevGVHPpzXKd5V5AAMFG12pe5eum3lLAOqAE6/Q0+BDQ1scRdLE6R2g2NM9aUXnE3Gps0qzzvcGBWzxOjOr3wqipNk/IU+RIwna1u++CWvjFKnPz/K7oFMS+ZAEW3n9yb9r9AAEny4KuGDFCy0ab5IASrl7Aokn6H3gAKyt1uwpu9G5dFjd7KKwumxgBf8NLVgh3Syq3kJoGu0sAAAAMAAYr/gAAAAwAAAwAAAwADagAAGh9tb292AAAAbG12aGQAAAAAAAAAAAAAAAAAAAPoAAAnJAABAAABAAAAAAAAAAAAAAAAAQAAAAAAAAAAAAAAAAAAAAEAAAAAAAAAAAAAAAAAAEAAAAAAAAAAAAAAAAAAAAAAAAAAAAAAAAAAAAAAAAACAAAZSXRyYWsAAABcdGtoZAAAAAMAAAAAAAAAAAAAAAEAAAAAAAAnJAAAAAAAAAAAAAAAAAAAAAAAAQAAAAAAAAAAAAAAAAAAAAEAAAAAAAAAAAAAAAAAAEAAAAACWAAAAZAAAAAAACRlZHRzAAAAHGVsc3QAAAAAAAAAAQAAJyQAAAIAAAEAAAAAGMFtZGlhAAAAIG1kaGQAAAAAAAAAAAAAAAAAADIAAAH1AFXEAAAAAAAtaGRscgAAAAAAAAAAdmlkZQAAAAAAAAAAAAAAAFZpZGVvSGFuZGxlcgAAABhsbWluZgAAABR2bWhkAAAAAQAAAAAAAAAAAAAAJGRpbmYAAAAcZHJlZgAAAAAAAAABAAAADHVybCAAAAABAAAYLHN0YmwAAACYc3RzZAAAAAAAAAABAAAAiGF2YzEAAAAAAAAAAQAAAAAAAAAAAAAAAAAAAAACWAGQAEgAAABIAAAAAAAAAAEAAAAAAAAAAAAAAAAAAAAAAAAAAAAAAAAAAAAAAAAAAAAY//8AAAAyYXZjQwFkAB//4QAZZ2QAH6zZQJgz5eEAAAMAAQAAAwBkDxgxlgEABmjr48siwAAAABhzdHRzAAAAAAAAAAEAAAH1AAABAAAAABxzdHNzAAAAAAAAAAMAAAABAAAA+wAAAfUAAA9AY3R0cwAAAAAAAAHmAAAAAQAAAgAAAAABAAAFAAAAAAEAAAIAAAAAAQAAAAAAAAABAAABAAAAAAEAAAUAAAAAAQAAAgAAAAABAAAAAAAAAAEAAAEAAAAAAQAAAgAAAAABAAAFAAAAAAEAAAIAAAAAAQAAAAAAAAABAAABAAAAAAEAAAQAAAAAAgAAAQAAAAABAAACAAAAAAEAAAUAAAAAAQAAAgAAAAABAAAAAAAAAAEAAAEAAAAAAQAABQAAAAABAAACAAAAAAEAAAAAAAAAAQAAAQAAAAABAAAEAAAAAAIAAAEAAAAAAQAAAgAAAAABAAAFAAAAAAEAAAIAAAAAAQAAAAAAAAABAAABAAAAAAEAAAUAAAAAAQAAAgAAAAABAAAAAAAAAAEAAAEAAAAAAQAABAAAAAACAAABAAAAAAEAAAUAAAAAAQAAAgAAAAABAAAAAAAAAAEAAAEAAAAAAQAAAgAAAAABAAAFAAAAAAEAAAIAAAAAAQAAAAAAAAABAAABAAAAAAEAAAUAAAAAAQAAAgAAAAABAAAAAAAAAAEAAAEAAAAAAQAABQAAAAABAAACAAAAAAEAAAAAAAAAAQAAAQAAAAABAAAFAAAAAAEAAAIAAAAAAQAAAAAAAAABAAABAAAAAAEAAAUAAAAAAQAAAgAAAAABAAAAAAAAAAEAAAEAAAAAAQAABAAAAAACAAABAAAAAAEAAAUAAAAAAQAAAgAAAAABAAAAAAAAAAEAAAEAAAAAAQAABQAAAAABAAACAAAAAAEAAAAAAAAAAQAAAQAAAAABAAAFAAAAAAEAAAIAAAAAAQAAAAAAAAABAAABAAAAAAEAAAUAAAAAAQAAAgAAAAABAAAAAAAAAAEAAAEAAAAAAQAABAAAAAACAAABAAAAAAEAAAUAAAAAAQAAAgAAAAABAAAAAAAAAAEAAAEAAAAAAQAABQAAAAABAAACAAAAAAEAAAAAAAAAAQAAAQAAAAABAAAFAAAAAAEAAAIAAAAAAQAAAAAAAAABAAABAAAAAAEAAAUAAAAAAQAAAgAAAAABAAAAAAAAAAEAAAEAAAAAAQAABQAAAAABAAACAAAAAAEAAAAAAAAAAQAAAQAAAAABAAAFAAAAAAEAAAIAAAAAAQAAAAAAAAABAAABAAAAAAEAAAUAAAAAAQAAAgAAAAABAAAAAAAAAAEAAAEAAAAAAQAABQAAAAABAAACAAAAAAEAAAAAAAAAAQAAAQAAAAABAAAFAAAAAAEAAAIAAAAAAQAAAAAAAAABAAABAAAAAAEAAAUAAAAAAQAAAgAAAAABAAAAAAAAAAEAAAEAAAAAAQAABQAAAAABAAACAAAAAAEAAAAAAAAAAQAAAQAAAAABAAAEAAAAAAIAAAEAAAAAAQAABQAAAAABAAACAAAAAAEAAAAAAAAAAQAAAQAAAAABAAAFAAAAAAEAAAIAAAAAAQAAAAAAAAABAAABAAAAAAEAAAUAAAAAAQAAAgAAAAABAAAAAAAAAAEAAAEAAAAAAQAABQAAAAABAAACAAAAAAEAAAAAAAAAAQAAAQAAAAABAAAFAAAAAAEAAAIAAAAAAQAAAAAAAAABAAABAAAAAAEAAAUAAAAAAQAAAgAAAAABAAAAAAAAAAEAAAEAAAAAAQAAAgAAAAABAAAEAAAAAAIAAAEAAAAAAQAABQAAAAABAAACAAAAAAEAAAAAAAAAAQAAAQAAAAABAAACAAAAAAEAAAUAAAAAAQAAAgAAAAABAAAAAAAAAAEAAAEAAAAAAQAABQAAAAABAAACAAAAAAEAAAAAAAAAAQAAAQAAAAABAAAFAAAAAAEAAAIAAAAAAQAAAAAAAAABAAABAAAAAAEAAAUAAAAAAQAAAgAAAAABAAAAAAAAAAEAAAEAAAAAAQAABQAAAAABAAACAAAAAAEAAAAAAAAAAQAAAQAAAAABAAAFAAAAAAEAAAIAAAAAAQAAAAAAAAABAAABAAAAAAEAAAUAAAAAAQAAAgAAAAABAAAAAAAAAAEAAAEAAAAAAQAABQAAAAABAAACAAAAAAEAAAAAAAAAAQAAAQAAAAABAAAFAAAAAAEAAAIAAAAAAQAAAAAAAAABAAABAAAAAAEAAAUAAAAAAQAAAgAAAAABAAAAAAAAAAEAAAEAAAAAAQAABAAAAAACAAABAAAAAAEAAAUAAAAAAQAAAgAAAAABAAAAAAAAAAEAAAEAAAAAAQAABQAAAAABAAACAAAAAAEAAAAAAAAAAQAAAQAAAAABAAAFAAAAAAEAAAIAAAAAAQAAAAAAAAABAAABAAAAAAEAAAUAAAAAAQAAAgAAAAABAAAAAAAAAAEAAAEAAAAAAQAABQAAAAABAAACAAAAAAEAAAAAAAAAAQAAAQAAAAABAAAFAAAAAAEAAAIAAAAAAQAAAAAAAAABAAABAAAAAAEAAAUAAAAAAQAAAgAAAAABAAAAAAAAAAEAAAEAAAAAAQAABQAAAAABAAACAAAAAAEAAAAAAAAAAQAAAQAAAAABAAAFAAAAAAEAAAIAAAAAAQAAAAAAAAABAAABAAAAAAEAAAQAAAAAAgAAAQAAAAABAAACAAAAAAEAAAUAAAAAAQAAAgAAAAABAAAAAAAAAAEAAAEAAAAAAQAAAwAAAAABAAABAAAAAAEAAAUAAAAAAQAAAgAAAAABAAAAAAAAAAEAAAEAAAAAAQAABQAAAAABAAACAAAAAAEAAAAAAAAAAQAAAQAAAAABAAAFAAAAAAEAAAIAAAAAAQAAAAAAAAABAAABAAAAAAEAAAUAAAAAAQAAAgAAAAABAAAAAAAAAAEAAAEAAAAAAQAABQAAAAABAAACAAAAAAEAAAAAAAAAAQAAAQAAAAABAAADAAAAAAEAAAEAAAAAAQAAAgAAAAABAAAFAAAAAAEAAAIAAAAAAQAAAAAAAAABAAABAAAAAAEAAAUAAAAAAQAAAgAAAAABAAAAAAAAAAEAAAEAAAAAAQAABQAAAAABAAACAAAAAAEAAAAAAAAAAQAAAQAAAAABAAAEAAAAAAIAAAEAAAAAAQAAAgAAAAABAAAFAAAAAAEAAAIAAAAAAQAAAAAAAAABAAABAAAAAAEAAAUAAAAAAQAAAgAAAAABAAAAAAAAAAEAAAEAAAAAAQAABQAAAAABAAACAAAAAAEAAAAAAAAAAQAAAQAAAAABAAAFAAAAAAEAAAIAAAAAAQAAAAAAAAABAAABAAAAAAEAAAUAAAAAAQAAAgAAAAABAAAAAAAAAAEAAAEAAAAAAQAABQAAAAABAAACAAAAAAEAAAAAAAAAAQAAAQAAAAABAAADAAAAAAEAAAEAAAAAAQAABQAAAAABAAACAAAAAAEAAAAAAAAAAQAAAQAAAAABAAAFAAAAAAEAAAIAAAAAAQAAAAAAAAABAAABAAAAAAEAAAUAAAAAAQAAAgAAAAABAAAAAAAAAAEAAAEAAAAAAQAABQAAAAABAAACAAAAAAEAAAAAAAAAAQAAAQAAAAABAAAEAAAAAAIAAAEAAAAAAQAABQAAAAABAAACAAAAAAEAAAAAAAAAAQAAAQAAAAABAAAFAAAAAAEAAAIAAAAAAQAAAAAAAAABAAABAAAAAAEAAAQAAAAAAgAAAQAAAAABAAAFAAAAAAEAAAIAAAAAAQAAAAAAAAABAAABAAAAAAEAAAUAAAAAAQAAAgAAAAABAAAAAAAAAAEAAAEAAAAAAQAABQAAAAABAAACAAAAAAEAAAAAAAAAAQAAAQAAAAABAAAFAAAAAAEAAAIAAAAAAQAAAAAAAAABAAABAAAAAAEAAAIAAAAAAQAABQAAAAABAAACAAAAAAEAAAAAAAAAAQAAAQAAAAABAAACAAAAAAEAAAUAAAAAAQAAAgAAAAABAAAAAAAAAAEAAAEAAAAAAQAABQAAAAABAAACAAAAAAEAAAAAAAAAAQAAAQAAAAABAAAFAAAAAAEAAAIAAAAAAQAAAAAAAAABAAABAAAAAAEAAAIAAAAAAQAABQAAAAABAAACAAAAAAEAAAAAAAAAAQAAAQAAAAABAAAFAAAAAAEAAAIAAAAAAQAAAAAAAAABAAABAAAAAAEAAAUAAAAAAQAAAgAAAAABAAAAAAAAAAEAAAEAAAAAAQAABQAAAAABAAACAAAAAAEAAAAAAAAAAQAAAQAAAAABAAAFAAAAAAEAAAIAAAAAAQAAAAAAAAABAAABAAAAAAEAAAUAAAAAAQAAAgAAAAABAAAAAAAAAAEAAAEAAAAAAQAABQAAAAABAAACAAAAAAEAAAAAAAAAAQAAAQAAAAABAAAFAAAAAAEAAAIAAAAAAQAAAAAAAAABAAABAAAAAAEAAAUAAAAAAQAAAgAAAAABAAAAAAAAAAEAAAEAAAAAAQAABQAAAAABAAACAAAAAAEAAAAAAAAAAQAAAQAAAAABAAAFAAAAAAEAAAIAAAAAAQAAAAAAAAABAAABAAAAAAEAAAUAAAAAAQAAAgAAAAABAAAAAAAAAAEAAAEAAAAAAQAABQAAAAABAAACAAAAAAEAAAAAAAAAAQAAAQAAAAABAAAFAAAAAAEAAAIAAAAAAQAAAAAAAAABAAABAAAAAAEAAAUAAAAAAQAAAgAAAAABAAAAAAAAAAEAAAEAAAAAAQAABQAAAAABAAACAAAAAAEAAAAAAAAAAQAAAQAAAAABAAAFAAAAAAEAAAIAAAAAAQAAAAAAAAABAAABAAAAAAEAAAUAAAAAAQAAAgAAAAABAAAAAAAAAAEAAAEAAAAAAQAABQAAAAABAAACAAAAAAEAAAAAAAAAAQAAAQAAAAABAAAEAAAAAAIAAAEAAAAAAQAAAwAAAAABAAABAAAAAAEAAAQAAAAAAgAAAQAAAAABAAAFAAAAAAEAAAIAAAAAAQAAAAAAAAABAAABAAAAAAEAAAUAAAAAAQAAAgAAAAABAAAAAAAAAAEAAAEAAAAAAQAAAwAAAAABAAABAAAAAAEAAAUAAAAAAQAAAgAAAAABAAAAAAAAAAEAAAEAAAAAAQAABQAAAAABAAACAAAAAAEAAAAAAAAAAQAAAQAAAAABAAAFAAAAAAEAAAIAAAAAAQAAAAAAAAABAAABAAAAAAEAAAUAAAAAAQAAAgAAAAABAAAAAAAAAAEAAAEAAAAAAQAABAAAAAACAAABAAAAAAEAAAIAAAAAHHN0c2MAAAAAAAAAAQAAAAEAAAH1AAAAAQAAB+hzdHN6AAAAAAAAAAAAAAH1AAAERAAAAFsAAABLAAAAIQAAACAAAABTAAAAQQAAACoAAAAnAAAANwAAAD0AAAA8AAAAGgAAAB0AAAAwAAAAOAAAACMAAABVAAAAMwAAAEcAAAAaAAAAIQAAAEYAAAA8AAAAGgAAABsAAAAeAAAAOQAAAB0AAABVAAAANAAAAEwAAAAdAAAAJgAAAE0AAABBAAAAGgAAABwAAAAdAAAAQgAAABwAAABMAAAARAAAACQAAAAbAAAAPwAAAGUAAAA2AAAAGQAAABwAAAAfAAAARQAAABoAAAAaAAAAQwAAACMAAAAaAAAAGQAAAHYAAAAzAAAAQwAAABsAAABZAAAAIgAAADIAAAATAAAAGwAAAEMAAAAoAAAAZAAAAC8AAAAiAAAAFgAAADkAAAA9AAAAIwAAACIAAAA6AAAALgAAACIAAAAUAAAAXgAAACQAAAArAAAAEgAAAEoAAAAkAAAAKAAAAD8AAAA4AAAAHgAAACEAAAA0AAAASAAAABwAAAAlAAAAOQAAADwAAAAeAAAAIQAAADUAAABBAAAAHAAAACMAAABAAAAANwAAAB4AAAAjAAAAMgAAACQAAAASAAAAHwAAAE8AAAA6AAAAHgAAAB8AAABVAAAAIwAAABIAAAAgAAAALAAAADQAAAA6AAAAIwAAADIAAABOAAAAHgAAADUAAAAxAAAAGwAAABMAAAAYAAAAGwAAAEAAAAAgAAAAXgAAACUAAAAfAAAAEwAAADkAAAA9AAAAJwAAACAAAABAAAAAIQAAAB8AAAATAAAANQAAACMAAAAVAAAAHQAAAEIAAAAkAAAAOwAAAB4AAAAqAAAAIwAAABsAAAAVAAAAUAAAACkAAAA7AAAAIAAAADYAAAAgAAAAGQAAABUAAAA9AAAASwAAAD4AAAAgAAAAIQAAAD8AAAAjAAAAKgAAABQAAABeAAAAJwAAACoAAAASAAAAYAAAADAAAAAfAAAAPAAAAE8AAAAjAAAAEwAAAB8AAABdAAAALAAAAB4AAAAbAAAAkgAAADIAAAAkAAAAMQAAAEgAAAAsAAAAGgAAACQAAAB4AAAALwAAACwAAAAfAAAAdgAAACwAAAAvAAAAMQAAACUAAABCAAAAIAAAAHAAAAA0AAAALwAAAC4AAABjAAAAMgAAACEAAAAoAAAAcAAAAD0AAAA6AAAAIQAAAHMAAAA5AAAAMwAAADgAAACBAAAAIQAAACAAAAAUAAAAiwAAADQAAAA7AAAAPQAAAFIAAAArAAAAFQAAACkAAABNAAAAIgAAABIAAAAlAAAARgAAACIAAAASAAAAIAAAAEMAAAAlAAAAIgAAAXAAAABZAAAAGAAAABIAAAAZAAAAMAAAACAAAAApAAAAGgAAABkAAAASAAAAPQAAACIAAAASAAAAJgAAADwAAAAiAAAAEgAAAB4AAABAAAAAHQAAABIAAAAZAAAAUAAAADoAAAAlAAAAIQAAADcAAAAhAAAAQAAAACwAAAA/AAAAHgAAAB8AAABDAAAAIgAAAB4AAAAUAAAATQAAADwAAAAeAAAAKQAAABoAAAAUAAAAMQAAAEEAAABPAAAAIQAAAB8AAAASAAAAXAAAACQAAAAhAAAAEgAAAGIAAAAsAAAAJwAAACAAAABUAAAAIgAAADIAAAASAAAAGgAAAEIAAAAhAAAAHwAAAD0AAAAjAAAAIAAAABQAAABNAAAAKAAAADgAAAA5AAAAIAAAACQAAAA5AAAANwAAABwAAAAmAAAAQAAAADEAAAAgAAAAIgAAAEMAAABLAAAAIQAAADYAAAAiAAAAPQAAAB0AAABfAAAASwAAACUAAAAlAAAAQwAAACQAAAAfAAAAFQAAAFcAAAAjAAAAIgAAAGgAAAA7AAAAIAAAACUAAABQAAAAIwAAABIAAAAgAAAAGgAAADcAAAAfAAAAHgAAAEwAAAAlAAAAKQAAABQAAAA7AAAASgAAADAAAAAsAAAAHwAAADMAAAAqAAAALwAAAB8AAAAeAAAAMwAAADkAAAAaAAAAIgAAAC4AAAApAAAAJAAAAB4AAAA7AAAATAAAADYAAAAeAAAAGgAAAEoAAAAjAAAAEgAAACAAAABkAAAALwAAACEAAAApAAAAQgAAAFMAAAA6AAAANAAAAIMAAAAvAAAAIAAAACEAAABdAAAALQAAAB4AAAAwAAAAagAAAF4AAAApAAAAIAAAAFoAAAA1AAAAKAAAABoAAABYAAAAJQAAACMAAAAmAAAAVgAAAC4AAAAmAAAAJQAAAGYAAAApAAAAFgAAAC8AAABcAAAAMQAAACAAAAAVAAAAcwAAADEAAAAwAAAAIwAAAGYAAAAnAAAAFgAAAC0AAABdAAAAMAAAACAAAAAXAAAAmwAAADoAAAAvAAAAPAAAAH4AAABRAAAAKwAAACMAAACqAAAASQAAADMAAAA1AAAASQAAADYAAAAiAAAALQAAAGsAAAArAAAAOgAAAGoAAAAvAAAAKgAAAD8AAAAhAAAAgwAAADgAAAAqAAAAMgAAAFEAAAA5AAAAIgAAACwAAACAAAAAMgAAADsAAABQAAAAJQAAAB8AAACYAAAAQAAAADMAAAAxAAAAZgAAADYAAAApAAAAMQAAAIQAAAA7AAAAMgAAACoAAAA+AAAAJQAAADAAAAGaAAAAFHN0Y28AAAAAAAAAAQAAADAAAABidWR0YQAAAFptZXRhAAAAAAAAACFoZGxyAAAAAAAAAABtZGlyYXBwbAAAAAAAAAAAAAAAAC1pbHN0AAAAJal0b28AAAAdZGF0YQAAAAEAAAAATGF2ZjU4LjI5LjEwMA==\" type=\"video/mp4\">\n",
       "        </video>\n",
       "        "
      ],
      "text/plain": [
       "<IPython.core.display.HTML object>"
      ]
     },
     "execution_count": 27,
     "metadata": {},
     "output_type": "execute_result"
    }
   ],
   "source": [
    "video_folder = \"logs/7_a/\"\n",
    "video_length = 500\n",
    "\n",
    "video_file = record_video(env_name, video_folder, video_length, agent)\n",
    "\n",
    "play_video(video_file)\n"
   ]
  },
  {
   "cell_type": "code",
   "execution_count": null,
   "metadata": {},
   "outputs": [],
   "source": [
    "# TODO for readers\n",
    "\n",
    "# Try to run this on another environment of your choice from Gymnasium\n",
    "# Try to replace the training with what is available in SB3\n",
    "# Record and upload trained agent to HuggingFace\n",
    "# Add experiment logging using Weights and Biases\n",
    "# Try to do hyperparameter optimization"
   ]
  },
  {
   "cell_type": "markdown",
   "metadata": {},
   "source": [
    "### Summary\n",
    "\n",
    "In this notebook we saw how to train a DQN agent with **prioritized** experience replay and target networks. We can see that using prioritized buffer speeds up the training significantly with higher scores. This is even more evident with more complex environments like Atari games. \n",
    "\n",
    "\n",
    "We can further improve this agent with additional tricks. As we go along, we will be implementing many of these variants."
   ]
  },
  {
   "cell_type": "code",
   "execution_count": null,
   "metadata": {},
   "outputs": [],
   "source": []
  }
 ],
 "metadata": {
  "kernelspec": {
   "display_name": "Python 3 (ipykernel)",
   "language": "python",
   "name": "python3"
  },
  "language_info": {
   "codemirror_mode": {
    "name": "ipython",
    "version": 3
   },
   "file_extension": ".py",
   "mimetype": "text/x-python",
   "name": "python",
   "nbconvert_exporter": "python",
   "pygments_lexer": "ipython3",
   "version": "3.9.18"
  }
 },
 "nbformat": 4,
 "nbformat_minor": 4
}
