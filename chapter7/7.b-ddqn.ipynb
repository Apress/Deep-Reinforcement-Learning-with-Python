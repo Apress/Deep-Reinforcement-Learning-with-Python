{
 "cells": [
  {
   "cell_type": "markdown",
   "metadata": {},
   "source": [
    "# Double DQN (DDQN) variant  implementation (PyTorch).\n",
    "\n",
    "In this notebook, we will implement Double DQN (DDQN) variant of DQN carrying on from `6.a-dqn-pytorch.ipynb`. \n",
    "\n",
    "\n",
    "### Recap\n",
    "\n",
    "Q Learning control is carried out by sampling step by step and updating Q values at each step. We use $\\epsilon$-greedy policy to explore and generate samples. However, the policy learnt is a deterministic greedy policy with no exploration. We can carryout updates online i.e. we take a step and use `(current state, action, reward and next_state)` tuple to update.\n",
    "\n",
    "In case of function approximation using neural network, the input to the network is the state and output is the $q(s,a)$ for all the actions in the state $s$. It is denoted as $ \\hat{q}(s_t, a_t; w_{t}) $, where $w_{t}$ is the weigths of the neural network that we learn as part of DQN learning.\n",
    "\n",
    "We use two networks, one target network with weight $w^-_t$ to get the max $q$-value of next state with best action denoted by $ \\max\\limits_a \\hat {q}(S_{t+1},a; w^{-}_{t}) $ and network with weights $w_t^{-}$ which we periodically updated from primary network $w_t$.\n",
    "\n",
    "The Update equation is given below. This is the online version:\n",
    "$$ w_{t+1} \\leftarrow w_t + \\alpha [ R_{t+1} + \\gamma . \\max_{a} \\hat{q}(S_{t+1},a;w^{-}_{t}) – \\hat{q}(S_t,A_t;w_t)] \\nabla \\hat{q}_{w_t}(S_t,A_t;w_t)$$\n",
    "\n",
    "Online update with neural network with millions of weights does not work well. Accordingly, We use experience replay (aka Replay Buffer).  We use a behavior policy to explore the environment and store the samples `(s, a, r, s', done)` in a buffer. The samples are generated using an exploratory behavior policy while we improve a deterministic target policy using q-values.\n",
    "\n",
    "Therefore, we can always use older samples from behavior policy and apply them again and again. We can keep the buffer size fixed to some pre-determined size and keep deleting the older samples as we collect new ones. This process makes learning sample efficient by reusing a sample multiple times and also removing temporal dependence of the samples we would otherwise see while following a trajectory.\n",
    "\n",
    "The update equation with batch update with minor modifications is given below. We collect samples of transitions `(current state, action, reward, next state)` in a buffer, where each sample is denoted as a tuple:\n",
    "\n",
    "$$ (s_{i}, a_{i}, r_{i}, s'_{i}, done_{i})$$\n",
    "\n",
    "Subscript ($i$) denotes ith sample. We take $N$ samples from experience replay selecting randomly and update the weights. Subscript ($t$) denotes the index of weight updates. If the current state is done, as denoted by `done` flag, the target is just the reward as terminal states have zero value. The final update equation is as given below:\n",
    "\n",
    "$$w_{t+1} \\leftarrow w_t + \\alpha \\frac{1}{N} \\sum_{i=1}^{N} \\left[ r_i + \\left( (1-done_i) . \\gamma .  \\max_{a'} \\hat{q}(s'_{i},a';w^{-}_{t}) \\right) – \\hat{q}(s_i,a_i;w_t) \\right] \\nabla \\hat{q}(s_i,a_i;w_t)$$\n",
    "\n",
    "### DDQN - Double DQN\n",
    "\n",
    "In DQN (refer equation at the top of this notebook), the target value for $\\hat{q}(s_i,a_i;w_t)$ was given by:\n",
    "\n",
    "$$  Y_{i}^{DQN} =   r_i + \\left( (1-done_i) . \\gamma .  \\max_{a^{'}} \\hat{q}(s_{i}^{'},a^{'};w^{-}_{t}) \\right) $$\n",
    "\n",
    "A target network with weights $w^-_t$ was used to find the maximum q-estimate at next state $s_i'$ and the weights of the target network are updated periodically from the agent network (aka online network). The agent/online network weights are denoted as $w_t$ and these weights are learnt as part of training to make agent behavior desirable.\n",
    "\n",
    "In Double DQN (DDQN), as proposed in  [Deep Reinforcement Learning with Double Q-learning](https://arxiv.org/pdf/1509.06461.pdf) , analogous to Double Q-Learning (or DQN specifically), we again use two networks but the target value for $\\hat{q}(s_i,a_i;w_t)$ is now computed in following way:\n",
    "\n",
    "$$  Y_{i}^{DDQN} =  r_i + \\left( (1-done_i) . \\gamma .  \\hat{q}(s_i',\\arg\\max_{a'} \\hat{q}(s_i', a';w_{t});w^{-}_{t})  \\right) $$\n",
    "\n",
    "The online/agent network with weight $w$ ($w_t$ when shown with time index) is used to get the best action in $\\arg\\max\\limits_{a'} \\hat{q}(s_i', a';w_{t})$. And target network with weight $w^-$ ($w_t^-$ when shown with time index) is used for calculating the best action's q-value. Like before, we periodically update target network weights $w^{-}_{t}$ from agent/online network weight $w_{t}$\n",
    "\n",
    "The only change is in how TD_Target and hence td_loss ($\\delta$) is calculated. In other words, only modification is to `compute_td_loss` function. Rest of the code remains same. \n"
   ]
  },
  {
   "cell_type": "markdown",
   "metadata": {},
   "source": [
    "#### Running in Colab/Kaggle\n",
    "\n",
    "If you are running this on Colab, please uncomment below cells and run this to install required dependencies."
   ]
  },
  {
   "cell_type": "code",
   "execution_count": 1,
   "metadata": {},
   "outputs": [],
   "source": [
    "## Uncomment and execute this cell to install all the the dependencies if running in Google Colab\n",
    "\n",
    "# !apt-get update && apt-get install swig cmake ffmpeg freeglut3-dev xvfb\n",
    "# !pip install box2d-py\n",
    "# !pip install \"stable-baselines3[extra]>=2.1\"\n",
    "# !pip install \"huggingface_sb3>=3.0\"\n",
    "\n",
    "# !pip install git+https://github.com/DLR-RM/rl-baselines3-zoo@update/hf\n",
    "# !git clone https://github.com/DLR-RM/rl-baselines3-zoo\n",
    "# %cd rl-baselines3-zoo/\n",
    "# !pip install -r requirements.txt\n",
    "# %cd .."
   ]
  },
  {
   "cell_type": "markdown",
   "metadata": {},
   "source": [
    "### Imports"
   ]
  },
  {
   "cell_type": "code",
   "execution_count": 22,
   "metadata": {},
   "outputs": [],
   "source": [
    "import random\n",
    "import numpy as np\n",
    "import torch\n",
    "import torch.nn as nn\n",
    "import torch.nn.functional as F\n",
    "import gymnasium as gym\n",
    "import matplotlib.pyplot as plt\n",
    "from scipy.signal import convolve, gaussian\n",
    "from stable_baselines3.common.vec_env import VecVideoRecorder, DummyVecEnv\n",
    "from base64 import b64encode\n",
    "\n",
    "from IPython.display import HTML\n",
    "\n",
    "%matplotlib inline"
   ]
  },
  {
   "cell_type": "markdown",
   "metadata": {},
   "source": [
    "### Environment - CartPole \n",
    "\n",
    "We can use the setup here to run on any environment which has state as a single vector and actions are discrete. We will build it on Cart Pole and they try to run this on many other environments like Lunar Lander and others.\n"
   ]
  },
  {
   "cell_type": "code",
   "execution_count": 23,
   "metadata": {},
   "outputs": [],
   "source": [
    "def make_env(env_name):\n",
    "    # increase time limit from 200/500 to 4000\n",
    "    env = gym.make(env_name, render_mode=\"rgb_array\", max_episode_steps=4000)\n",
    "    return env"
   ]
  },
  {
   "cell_type": "code",
   "execution_count": 24,
   "metadata": {},
   "outputs": [
    {
     "name": "stdout",
     "output_type": "stream",
     "text": [
      "state shape:(4,)\n",
      "Number of Actions:2\n"
     ]
    },
    {
     "data": {
      "image/png": "[encoded data removed]",
      "text/plain": [
       "<Figure size 640x480 with 1 Axes>"
      ]
     },
     "metadata": {},
     "output_type": "display_data"
    }
   ],
   "source": [
    "env_name = 'CartPole-v1'\n",
    "seed=142\n",
    "\n",
    "env = make_env(env_name)\n",
    "env.reset(seed=seed)\n",
    "plt.imshow(env.render())\n",
    "state_shape, n_actions = env.observation_space.shape, env.action_space.n\n",
    "print(f\"state shape:{state_shape}\\nNumber of Actions:{n_actions}\")"
   ]
  },
  {
   "cell_type": "markdown",
   "metadata": {},
   "source": [
    "### Building a network using pytorch"
   ]
  },
  {
   "cell_type": "markdown",
   "metadata": {},
   "source": [
    "Let us build a DQN agent using a simple network, We now need to build a neural network that can map states/observations to state q-values. The observation space and action space is as given below for CartPole\n",
    "\n",
    "    Observation:\n",
    "        Type: Box(4)\n",
    "        Num     Observation               Min                     Max\n",
    "        0       Cart Position             -4.8                    4.8\n",
    "        1       Cart Velocity             -Inf                    Inf\n",
    "        2       Pole Angle                -0.418 rad (-24 deg)    0.418 rad (24 deg)\n",
    "        3       Pole Angular Velocity     -Inf                    Inf\n",
    "    Actions:\n",
    "        Type: Discrete(2)\n",
    "        Num   Action\n",
    "        0     Push cart to the left\n",
    "        1     Push cart to the right\n",
    "        \n",
    "\n",
    "The model will be a simple one with 2 hidden payers with Relu activation and final layer being logits with dimension equation to number of actions. "
   ]
  },
  {
   "cell_type": "code",
   "execution_count": 25,
   "metadata": {},
   "outputs": [
    {
     "data": {
      "text/plain": [
       "device(type='cpu')"
      ]
     },
     "execution_count": 25,
     "metadata": {},
     "output_type": "execute_result"
    }
   ],
   "source": [
    "device = torch.device('cuda' if torch.cuda.is_available() else 'cpu')\n",
    "device"
   ]
  },
  {
   "cell_type": "code",
   "execution_count": 26,
   "metadata": {},
   "outputs": [],
   "source": [
    "class DQNAgent(nn.Module):\n",
    "    def __init__(self, state_shape, n_actions, epsilon=0):\n",
    "\n",
    "        super().__init__()\n",
    "        self.epsilon = epsilon\n",
    "        self.n_actions = n_actions\n",
    "        self.state_shape = state_shape\n",
    "        \n",
    "        state_dim = state_shape[0]\n",
    "        # a simple NN with state_dim as input vector (input is state s)\n",
    "        # and self.n_actions as output vector of logits of q(s, a)\n",
    "        self.fc1 = nn.Linear(state_dim, 64)\n",
    "        self.fc2 = nn.Linear(64, 128)\n",
    "        self.fc3 = nn.Linear(128, 32)\n",
    "        self.q = nn.Linear(32, n_actions)\n",
    "        \n",
    "    def forward(self, state_t):\n",
    "        # pass the state at time t through the network to get Q(s,a)\n",
    "        x = F.relu(self.fc1(state_t))\n",
    "        x = F.relu(self.fc2(x))\n",
    "        x = F.relu(self.fc3(x))\n",
    "        qvalues = self.q(x)\n",
    "        return qvalues\n",
    "\n",
    "    def get_qvalues(self, states):\n",
    "        # input is an array of states in numpy and output is Qvals as numpy array\n",
    "        states = torch.tensor(np.array(states), device=device, dtype=torch.float32)\n",
    "        qvalues = self.forward(states)\n",
    "        return qvalues.data.cpu().numpy()\n",
    "\n",
    "    def get_action(self, states):\n",
    "        states = torch.tensor(np.array(states), device=device, dtype=torch.float32)\n",
    "        qvalues = self.forward(states)\n",
    "        best_actions = qvalues.argmax(axis=-1)\n",
    "        return best_actions    \n",
    "\n",
    "    def sample_actions(self, qvalues):\n",
    "        # sample actions from a batch of q_values using epsilon greedy policy\n",
    "        epsilon = self.epsilon\n",
    "        batch_size, n_actions = qvalues.shape\n",
    "        random_actions = np.random.choice(n_actions, size=batch_size)\n",
    "        best_actions = qvalues.argmax(axis=-1)\n",
    "        should_explore = np.random.choice(\n",
    "            [0, 1], batch_size, p=[1-epsilon, epsilon])\n",
    "        return np.where(should_explore, random_actions, best_actions)"
   ]
  },
  {
   "cell_type": "code",
   "execution_count": 27,
   "metadata": {},
   "outputs": [],
   "source": [
    "agent = DQNAgent(state_shape, n_actions, epsilon=0.5).to(device)"
   ]
  },
  {
   "cell_type": "code",
   "execution_count": 28,
   "metadata": {},
   "outputs": [],
   "source": [
    "def evaluate(env, agent, n_games=1, greedy=False, t_max=10000):\n",
    "    rewards = []\n",
    "    for i in range(n_games):\n",
    "        s,_ = env.reset(seed=seed+i)\n",
    "        reward = 0\n",
    "        for _ in range(t_max):\n",
    "            qvalues = agent.get_qvalues([s])\n",
    "            action = qvalues.argmax(axis=-1)[0] if greedy else agent.sample_actions(qvalues)[0]\n",
    "            s, r, termiated, truncated,_ = env.step(action)\n",
    "            reward += r\n",
    "            if termiated:\n",
    "                break\n",
    "\n",
    "        rewards.append(reward)\n",
    "    return np.mean(rewards)"
   ]
  },
  {
   "cell_type": "code",
   "execution_count": 29,
   "metadata": {},
   "outputs": [
    {
     "name": "stdout",
     "output_type": "stream",
     "text": [
      "19.0\n"
     ]
    }
   ],
   "source": [
    "print(evaluate(env, agent, n_games=1))\n",
    "env.close()"
   ]
  },
  {
   "cell_type": "markdown",
   "metadata": {},
   "source": [
    "### Experience replay\n",
    "\n",
    "We will use the replay buffer we saw in chapter 4 listings. Replay buffer is very important in DQN to break the correlation between samples. We use a behavior policy (epsilon greedy) to sample from the environment and store the transitions (s,a,r,s',done) into a buffer. These samples are used multiple times in a learning making the process sample efficient. \n",
    "\n",
    "The interface to ReplayBuffer is:\n",
    "* `exp_replay.add(state, action, reward, next_state, done)` - saves (s,a,r,s',done) tuple into the buffer\n",
    "* `exp_replay.sample(batch_size)` - returns states, actions, rewards, next_states and done_flags for `batch_size` random samples.\n",
    "* `len(exp_replay)` - returns number of elements stored in replay buffer.\n",
    "\n",
    "We have modified the implementation a bit to make it more efficient"
   ]
  },
  {
   "cell_type": "code",
   "execution_count": 30,
   "metadata": {},
   "outputs": [],
   "source": [
    "class ReplayBuffer:\n",
    "    def __init__(self, size):\n",
    "        self.size = size #max number of items in buffer\n",
    "        self.buffer =[] #array to holde buffer\n",
    "        self.next_id = 0\n",
    "    \n",
    "    def __len__(self):\n",
    "        return len(self.buffer)\n",
    "    \n",
    "    def add(self, state, action, reward, next_state, done):\n",
    "        item = (state, action, reward, next_state, done)\n",
    "        if len(self.buffer) < self.size:\n",
    "           self.buffer.append(item)\n",
    "        else:\n",
    "            self.buffer[self.next_id] = item\n",
    "        self.next_id = (self.next_id + 1) % self.size\n",
    "        \n",
    "    def sample(self, batch_size):\n",
    "        idxs = np.random.choice(len(self.buffer), batch_size)\n",
    "        samples = [self.buffer[i] for i in idxs]\n",
    "        states, actions, rewards, next_states, done_flags = list(zip(*samples))\n",
    "        return np.array(states), np.array(actions), np.array(rewards), np.array(next_states), np.array(done_flags)"
   ]
  },
  {
   "cell_type": "code",
   "execution_count": 31,
   "metadata": {},
   "outputs": [],
   "source": [
    "def play_and_record(start_state, agent, env, exp_replay, n_steps=1):\n",
    "\n",
    "    s = start_state\n",
    "    sum_rewards = 0\n",
    "\n",
    "    # Play the game for n_steps and record transitions in buffer\n",
    "    for i in range(n_steps):\n",
    "        qvalues = agent.get_qvalues([s])\n",
    "        a = agent.sample_actions(qvalues)[0]\n",
    "        next_s, r, terminated, truncated, _ = env.step(a)\n",
    "        sum_rewards += r\n",
    "        done = terminated or truncated\n",
    "        exp_replay.add(s, a, r, next_s, done)\n",
    "        if done:\n",
    "            s,_ = env.reset(seed=seed+i)\n",
    "        else:\n",
    "            s = next_s\n",
    "\n",
    "    return sum_rewards, s"
   ]
  },
  {
   "cell_type": "markdown",
   "metadata": {},
   "source": [
    "### Target network\n"
   ]
  },
  {
   "cell_type": "code",
   "execution_count": 32,
   "metadata": {},
   "outputs": [
    {
     "data": {
      "text/plain": [
       "<All keys matched successfully>"
      ]
     },
     "execution_count": 32,
     "metadata": {},
     "output_type": "execute_result"
    }
   ],
   "source": [
    "target_network = DQNAgent(agent.state_shape, agent.n_actions, epsilon=0.5).to(device)\n",
    "target_network.load_state_dict(agent.state_dict())"
   ]
  },
  {
   "cell_type": "markdown",
   "metadata": {},
   "source": [
    "### Learning with... Double DQN \n",
    "Here we write a function similar to tabular q-learning. We will calculate average TD error per batch using the equation: \n",
    "\n",
    "$$ L =  \\frac{1}{N} \\sum_{i=1}^{N} \\left[ r_i + \\left( (1-done_i) . \\gamma .  \\hat{q}(s_{i}',\\arg\\max_{a'} \\hat{q}(s_{i}', a';w_{t});w^{-}_{t})  \\right) – \\hat{q}(s_i,a_i;w_t) \\right]^2$$\n",
    "\n",
    "\n",
    "$$ \\nabla_{w_t} L =   - \\frac{1}{N} \\sum_{i=1}^{N} \\left[ r_i + \\left( (1-done_i) . \\gamma .  \\hat{q}(s_i',\\arg\\max_{a'} \\hat{q}(s_i', a';w_{t});w^{-}_{t})  \\right) – \\hat{q}(s_i,a_i;w_t) \\right] \\nabla_{w_t} \\hat{q}(s_i,a_i;w_t)$$\n",
    "\n",
    "\n",
    "$\\hat{q}(s',A;w^{-})$ is calculated using target network whose weights are held constant and refreshed periodically from the agent learning network. \n",
    "\n",
    "Target is given by following:\n",
    "* non terminal state: $r_i + \\left( (1-done_i) . \\gamma .  \\hat{q}(s_{i}',\\arg\\max_{a'} \\hat{q}(s_{i}^{'}, a^{'};w_{t});w^{-}_{t}) \\right)$\n",
    "* terminal state: $ r_i $\n",
    "\n",
    "We then carryout back propagation through the agent network to update the weights using equation below:\n",
    "\n",
    "\n",
    "$$ \n",
    " w_{t+1} \\leftarrow w_t - \\alpha \\nabla_{w}L$$"
   ]
  },
  {
   "cell_type": "code",
   "execution_count": 33,
   "metadata": {},
   "outputs": [],
   "source": [
    "def td_loss_ddqn(agent, target_network, states, actions, rewards, next_states, done_flags,\n",
    "                    gamma=0.99, device=device):\n",
    "\n",
    "    # convert numpy array to torch tensors\n",
    "    states = torch.tensor(states, device=device, dtype=torch.float)\n",
    "    actions = torch.tensor(actions, device=device, dtype=torch.long)\n",
    "    rewards = torch.tensor(rewards, device=device, dtype=torch.float)\n",
    "    next_states = torch.tensor(next_states, device=device, dtype=torch.float)\n",
    "    done_flags = torch.tensor(done_flags.astype('float32'),device=device,dtype=torch.float)\n",
    "\n",
    "    # get q-values for all actions in current states\n",
    "    # use agent network\n",
    "    q_s = agent(states)\n",
    "\n",
    "    # select q-values for chosen actions\n",
    "    q_s_a = q_s[range(\n",
    "        len(actions)), actions]\n",
    "\n",
    "    # compute q-values for all actions in next states\n",
    "    # use agent network (online network)\n",
    "    q_s1 = agent(next_states).detach()\n",
    "\n",
    "    # compute Q argmax(next_states, actions) using predicted next q-values\n",
    "    _,a1max = torch.max(q_s1, dim=1)\n",
    "\n",
    "    #use target network to calculate the q value for best action chosen above\n",
    "    q_s1_target = target_network(next_states)\n",
    "\n",
    "    q_s1_a1max = q_s1_target[range(len(a1max)), a1max]\n",
    "\n",
    "    # compute \"target q-values\" \n",
    "    target_q = rewards + gamma * q_s1_a1max * (1-done_flags)\n",
    "\n",
    "    # mean squared error loss to minimize\n",
    "    loss = torch.mean((q_s_a - target_q).pow(2))\n",
    "\n",
    "    return loss\n"
   ]
  },
  {
   "cell_type": "code",
   "execution_count": 34,
   "metadata": {},
   "outputs": [],
   "source": [
    "def epsilon_schedule(start_eps, end_eps, step, final_step):\n",
    "    return start_eps + (end_eps-start_eps)*min(step, final_step)/final_step\n",
    "\n",
    "def smoothen(values):\n",
    "    kernel = gaussian(100, std=100)\n",
    "    kernel = kernel / np.sum(kernel)\n",
    "    return convolve(values, kernel, 'valid')"
   ]
  },
  {
   "cell_type": "markdown",
   "metadata": {},
   "source": [
    "### Main loop\n",
    "\n",
    "We now carryout the training on DDQN setup above."
   ]
  },
  {
   "cell_type": "code",
   "execution_count": 35,
   "metadata": {},
   "outputs": [],
   "source": [
    "from tqdm import trange\n",
    "from IPython.display import clear_output\n",
    "import matplotlib.pyplot as plt"
   ]
  },
  {
   "cell_type": "markdown",
   "metadata": {},
   "source": [
    "#### Train agent function"
   ]
  },
  {
   "cell_type": "code",
   "execution_count": 37,
   "metadata": {},
   "outputs": [],
   "source": [
    "def train_agent(env, agent, target_network, optimizer, td_loss_fn):\n",
    "    \n",
    "    state, _  = env.reset(seed=seed)\n",
    "    # let us fill experience replay with some samples using full random policy\n",
    "    exp_replay = ReplayBuffer(10**4)\n",
    "    for i in range(100):\n",
    "        play_and_record(state, agent, env, exp_replay, n_steps=10**2)\n",
    "        if len(exp_replay) == 10**4:\n",
    "            break\n",
    "    print('Finished filling buffer with: {} samples'.format(len(exp_replay)))\n",
    "\n",
    "    mean_rw_history = []\n",
    "    td_loss_history = []\n",
    "    state, _ = env.reset(seed=seed)\n",
    "    for step in trange(total_steps + 1):\n",
    "\n",
    "        # reduce exploration as we progress\n",
    "        agent.epsilon = epsilon_schedule(start_epsilon, end_epsilon, step, eps_decay_final_step)\n",
    "\n",
    "        # take timesteps_per_epoch and update experience replay buffer\n",
    "        _, state = play_and_record(state, agent, env, exp_replay, timesteps_per_epoch)\n",
    "\n",
    "        # train by sampling batch_size of data from experience replay\n",
    "        states, actions, rewards, next_states, done_flags = exp_replay.sample(batch_size)\n",
    "\n",
    "\n",
    "        # loss = <compute TD loss>\n",
    "        optimizer.zero_grad()\n",
    "        loss = td_loss_fn(agent, target_network, \n",
    "                          states, actions, rewards, next_states, done_flags,                  \n",
    "                          gamma=0.99,\n",
    "                          device=device)\n",
    "\n",
    "        loss.backward()\n",
    "        grad_norm = nn.utils.clip_grad_norm_(agent.parameters(), max_grad_norm)\n",
    "        optimizer.step()\n",
    "\n",
    "        if step % loss_freq == 0:\n",
    "            td_loss_history.append(loss.data.cpu().item())\n",
    "\n",
    "        if step % refresh_target_network_freq == 0:\n",
    "            # Load agent weights into target_network\n",
    "            target_network.load_state_dict(agent.state_dict())\n",
    "\n",
    "        if step % eval_freq == 0:\n",
    "            # eval the agent\n",
    "            mean_rw_history.append(evaluate(\n",
    "                make_env(env_name), agent, n_games=3, greedy=True, t_max=1000)\n",
    "            )\n",
    "\n",
    "            clear_output(True)\n",
    "            print(\"buffer size = %i, epsilon = %.5f\" %\n",
    "                  (len(exp_replay), agent.epsilon))\n",
    "\n",
    "            plt.figure(figsize=[16, 5])\n",
    "            plt.subplot(1, 2, 1)\n",
    "            plt.title(\"Mean return per episode\")\n",
    "            plt.plot(mean_rw_history)\n",
    "            plt.grid()\n",
    "\n",
    "            assert not np.isnan(td_loss_history[-1])\n",
    "            plt.subplot(1, 2, 2)\n",
    "            plt.title(\"TD loss history (smoothened)\")\n",
    "            plt.plot(smoothen(td_loss_history))\n",
    "            plt.grid()\n",
    "\n",
    "            plt.show()\n",
    "    "
   ]
  },
  {
   "cell_type": "markdown",
   "metadata": {},
   "source": [
    "#### Setup Training Parameters"
   ]
  },
  {
   "cell_type": "code",
   "execution_count": 38,
   "metadata": {},
   "outputs": [],
   "source": [
    "#setup some parameters for training\n",
    "timesteps_per_epoch = 1\n",
    "batch_size = 32\n",
    "total_steps = 25 * 10**3\n",
    "\n",
    "# set exploration epsilon \n",
    "start_epsilon = 1\n",
    "end_epsilon = 0.05\n",
    "eps_decay_final_step = 2 * 10**4\n",
    "\n",
    "# setup some frequency for logging and updating target network\n",
    "loss_freq = 50\n",
    "refresh_target_network_freq = 100\n",
    "eval_freq = 1000\n",
    "\n",
    "# to clip the gradients\n",
    "max_grad_norm = 5000\n",
    "\n",
    "#set up random numbers\n",
    "random.seed(seed)\n",
    "np.random.seed(seed)\n",
    "torch.manual_seed(seed) \n",
    "\n",
    "#init environment\n",
    "env_name = 'CartPole-v1'\n",
    "env = make_env(env_name)\n",
    "state_dim = env.observation_space.shape\n",
    "n_actions = env.action_space.n\n",
    "\n",
    "#init agent, target network and Optimizer\n",
    "agent = DQNAgent(state_dim, n_actions, epsilon=1).to(device)\n",
    "target_network = DQNAgent(state_dim, n_actions, epsilon=1).to(device)\n",
    "target_network.load_state_dict(agent.state_dict())\n",
    "optimizer = torch.optim.Adam(agent.parameters(), lr=1e-4)"
   ]
  },
  {
   "cell_type": "code",
   "execution_count": 39,
   "metadata": {},
   "outputs": [
    {
     "name": "stdout",
     "output_type": "stream",
     "text": [
      "buffer size = 10000, epsilon = 0.05000\n"
     ]
    },
    {
     "data": {
      "image/png": "[encoded data removed]",
      "text/plain": [
       "<Figure size 1600x500 with 2 Axes>"
      ]
     },
     "metadata": {},
     "output_type": "display_data"
    },
    {
     "name": "stderr",
     "output_type": "stream",
     "text": [
      "100%|████████████████████████████████████████████████████████████████████████████| 25001/25001 [02:06<00:00, 197.84it/s]\n"
     ]
    }
   ],
   "source": [
    "train_agent(env, agent, target_network, optimizer, td_loss_fn=td_loss_ddqn)"
   ]
  },
  {
   "cell_type": "code",
   "execution_count": 40,
   "metadata": {},
   "outputs": [
    {
     "name": "stdout",
     "output_type": "stream",
     "text": [
      "final score: 281.53333333333336\n",
      "Well done\n"
     ]
    }
   ],
   "source": [
    "final_score = evaluate(\n",
    "  make_env(env_name),\n",
    "  agent, n_games=30, greedy=True, t_max=1000\n",
    ")\n",
    "print('final score:', final_score)\n",
    "print('Well done')"
   ]
  },
  {
   "cell_type": "markdown",
   "metadata": {},
   "source": [
    "### Record and Play a video of trained agent"
   ]
  },
  {
   "cell_type": "markdown",
   "metadata": {},
   "source": [
    "**Let us record a video of trained agent**"
   ]
  },
  {
   "cell_type": "code",
   "execution_count": 20,
   "metadata": {},
   "outputs": [],
   "source": [
    "# Helper function to record videos\n",
    "def record_video(env_id, video_folder, video_length, agent):\n",
    "\n",
    "    vec_env = DummyVecEnv([lambda: gym.make(env_id, render_mode=\"rgb_array\")])\n",
    "    # Record the video starting at the first step\n",
    "    vec_env = VecVideoRecorder(vec_env, video_folder,\n",
    "                           record_video_trigger=lambda x: x == 0, video_length=video_length,\n",
    "                           name_prefix=f\"{type(agent).__name__}-{env_id}\")\n",
    "\n",
    "    obs = vec_env.reset()\n",
    "    for _ in range(video_length + 1):\n",
    "        action = agent.get_action(obs).detach().cpu().numpy()\n",
    "        obs, _, _, _ = vec_env.step(action)\n",
    "    # video filename\n",
    "    file_path = \"./\"+video_folder+vec_env.video_recorder.path.split(\"/\")[-1]\n",
    "    # Save the video\n",
    "    vec_env.close()\n",
    "    return file_path\n",
    "\n",
    "def play_video(file_path):\n",
    "    mp4 = open(file_path, 'rb').read()\n",
    "    data_url = \"data:video/mp4;base64,\" + b64encode(mp4).decode()\n",
    "    return HTML(\"\"\"\n",
    "        <video width=400 controls>\n",
    "              <source src=\"%s\" type=\"video/mp4\">\n",
    "        </video>\n",
    "        \"\"\" % data_url)"
   ]
  },
  {
   "cell_type": "code",
   "execution_count": 21,
   "metadata": {},
   "outputs": [
    {
     "name": "stdout",
     "output_type": "stream",
     "text": [
      "Saving video to /home/nsanghi/sandbox/apress/drl-2ed/chapter7/logs/7_b/DQNAgent-CartPole-v1-step-0-to-step-500.mp4\n",
      "Moviepy - Building video /home/nsanghi/sandbox/apress/drl-2ed/chapter7/logs/7_b/DQNAgent-CartPole-v1-step-0-to-step-500.mp4.\n",
      "Moviepy - Writing video /home/nsanghi/sandbox/apress/drl-2ed/chapter7/logs/7_b/DQNAgent-CartPole-v1-step-0-to-step-500.mp4\n",
      "\n"
     ]
    },
    {
     "name": "stderr",
     "output_type": "stream",
     "text": [
      "                                                                                                                        \r"
     ]
    },
    {
     "name": "stdout",
     "output_type": "stream",
     "text": [
      "Moviepy - Done !\n",
      "Moviepy - video ready /home/nsanghi/sandbox/apress/drl-2ed/chapter7/logs/7_b/DQNAgent-CartPole-v1-step-0-to-step-500.mp4\n"
     ]
    },
    {
     "data": {
      "text/html": [
       "\n",
       "        <video width=400 controls>\n",
       "              <source src=\"data:video/mp4;base64,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\" type=\"video/mp4\">\n",
       "        </video>\n",
       "        "
      ],
      "text/plain": [
       "<IPython.core.display.HTML object>"
      ]
     },
     "execution_count": 21,
     "metadata": {},
     "output_type": "execute_result"
    }
   ],
   "source": [
    "video_folder = \"logs/7_b/\"\n",
    "video_length = 500\n",
    "\n",
    "video_file = record_video(env_name, video_folder, video_length, agent)\n",
    "\n",
    "play_video(video_file)"
   ]
  },
  {
   "cell_type": "markdown",
   "metadata": {},
   "source": [
    "### Summary\n",
    "\n",
    "In this notebook we saw how to train a DQN agent with experience replay and target networks using variant  **Double DQN (DDQN)**. We used Replay Buffer. You could try following things to get more familiarity:\n",
    "\n",
    "**TODO for readers**\n",
    "\n",
    "* Try to run this on another environment of your choice from Gymnasium\n",
    "* Try to replace the training with what is available in SB3\n",
    "* Record and upload trained agent to HuggingFace\n",
    "* Add experiment logging using Weights and Biases\n",
    "* Try to do hyperparameter optimization\n",
    "* Create DDQN with Prioritized Replay\n",
    "* Try different numbers of sizes of layers\n",
    "* Make the notebooks more modular where you could choose the agent (DQN vs DDQN) as well as choose replay buffer options (Experience Replay vs Prioritized Experience Replay). \n"
   ]
  }
 ],
 "metadata": {
  "kernelspec": {
   "display_name": "Python 3 (ipykernel)",
   "language": "python",
   "name": "python3"
  },
  "language_info": {
   "codemirror_mode": {
    "name": "ipython",
    "version": 3
   },
   "file_extension": ".py",
   "mimetype": "text/x-python",
   "name": "python",
   "nbconvert_exporter": "python",
   "pygments_lexer": "ipython3",
   "version": "3.9.18"
  }
 },
 "nbformat": 4,
 "nbformat_minor": 4
}
